{
  "cells": [
    {
      "cell_type": "markdown",
      "metadata": {
        "id": "sniCsf0gBj_l"
      },
      "source": [
        "# Indexado, Slicing y operaciones básicas"
      ]
    },
    {
      "cell_type": "markdown",
      "metadata": {
        "id": "NefP_s3kBj_n"
      },
      "source": [
        "Vamos a explorar más a fondo la diferentes formas que tenemos de acceder y operar con componentes de un array multidimensional."
      ]
    },
    {
      "cell_type": "code",
      "execution_count": 1,
      "metadata": {
        "id": "jVfLl9V7BndZ"
      },
      "outputs": [],
      "source": [
        "import numpy as np"
      ]
    },
    {
      "cell_type": "markdown",
      "metadata": {
        "id": "mHb5sM3w_xoC"
      },
      "source": [
        "---\n",
        "## Indexado y *slicing*"
      ]
    },
    {
      "cell_type": "markdown",
      "metadata": {
        "id": "wDAlzhgd_xoC"
      },
      "source": [
        "Otra de las características más interesantes de numpy es la gran flexibilidad para acceder a las componentes de un array, o a un subconjunto del mismo. Vamos a ver a continuación algunos ejemplos básicos."
      ]
    },
    {
      "cell_type": "markdown",
      "metadata": {
        "id": "CpNokz_f_xoC"
      },
      "source": [
        "**Arrays unidimensonales**"
      ]
    },
    {
      "cell_type": "markdown",
      "metadata": {
        "id": "J6kdfvaC_xoD"
      },
      "source": [
        "Para arrays unidimensionales, el acceso es muy parecido al de listas. Por ejemplo, acceso a las componentes:"
      ]
    },
    {
      "cell_type": "code",
      "execution_count": 2,
      "metadata": {
        "id": "hAs4d-8M_xoD"
      },
      "outputs": [],
      "source": [
        "v = np.arange(10)"
      ]
    },
    {
      "cell_type": "code",
      "execution_count": 3,
      "metadata": {
        "colab": {
          "base_uri": "https://localhost:8080/"
        },
        "id": "UMg_QLHV_xoE",
        "outputId": "3d826768-5854-4868-931e-dd1c9a97c0bf"
      },
      "outputs": [
        {
          "output_type": "execute_result",
          "data": {
            "text/plain": [
              "5"
            ]
          },
          "metadata": {},
          "execution_count": 3
        }
      ],
      "source": [
        "v[5]"
      ]
    },
    {
      "cell_type": "markdown",
      "metadata": {
        "id": "UZGvVhow_xoE"
      },
      "source": [
        "La operación de *slicing* en arrays es similar a la de listas. Por ejemplo:"
      ]
    },
    {
      "cell_type": "code",
      "execution_count": 4,
      "metadata": {
        "colab": {
          "base_uri": "https://localhost:8080/"
        },
        "id": "NeXyGTN__xoE",
        "outputId": "255d4df6-b37a-43d8-baba-da8a055e8b5b"
      },
      "outputs": [
        {
          "output_type": "execute_result",
          "data": {
            "text/plain": [
              "array([5, 6, 7])"
            ]
          },
          "metadata": {},
          "execution_count": 4
        }
      ],
      "source": [
        "v[5:8]"
      ]
    },
    {
      "cell_type": "markdown",
      "metadata": {
        "id": "U52uXELx_xoF"
      },
      "source": [
        "Sin embargo, hay una diferencia fundamental: en general en python, el slicing siempre crea *una copia* de la secuencia original (aunque no de los elementos) a la hora de hacer asignaciones. En numpy, el *slicing* es una *vista* de array original. Esto tiene como consecuencia que **las modificaciones que se realicen sobre dicha vista se están realizando sobre el array original**. Por ejemplo:   "
      ]
    },
    {
      "cell_type": "code",
      "execution_count": 5,
      "metadata": {
        "id": "UCM-zVojardI"
      },
      "outputs": [],
      "source": [
        "l = list(range(10))\n",
        "l_sublist = l[5:8]\n",
        "v_subarray = v[5:8]\n",
        "l_sublist[:] = [12, 12, 12] #al haber hecho una sublista, no cambia la l del principio\n",
        "v_subarray[:] = 12  # no obstante el subarray si que lo cambia"
      ]
    },
    {
      "cell_type": "code",
      "execution_count": 6,
      "metadata": {
        "colab": {
          "base_uri": "https://localhost:8080/"
        },
        "id": "qbZwKYDffgGO",
        "outputId": "5d3462aa-bdda-41b9-f02d-2678be40da4c"
      },
      "outputs": [
        {
          "output_type": "stream",
          "name": "stdout",
          "text": [
            "[0, 1, 2, 3, 4, 5, 6, 7, 8, 9]\n",
            "[ 0  1  2  3  4 12 12 12  8  9]\n"
          ]
        }
      ],
      "source": [
        "print(l)\n",
        "print(v)"
      ]
    },
    {
      "cell_type": "markdown",
      "metadata": {
        "id": "osu9zPI2_xoF"
      },
      "source": [
        "Y además hay que tener en cuenta que cualquier referencia a una vista es en realidad una referencia a los datos originales, y que las modificaciones que se realicen a través de esa referencia, se realizarán igualmente sobre el original.\n",
        "\n",
        "Veámos esto con el siguiente ejemplo:"
      ]
    },
    {
      "cell_type": "markdown",
      "metadata": {
        "id": "dHKMCH2F_xoG"
      },
      "source": [
        "Modificamos la componente 1 de `v_slice`:"
      ]
    },
    {
      "cell_type": "code",
      "execution_count": 7,
      "metadata": {
        "colab": {
          "base_uri": "https://localhost:8080/"
        },
        "id": "Sgj_oJV5_xoG",
        "outputId": "f6e0328e-b060-4ebd-a63e-3da5c068b6af"
      },
      "outputs": [
        {
          "output_type": "stream",
          "name": "stdout",
          "text": [
            "[   12 12345    12]\n"
          ]
        }
      ],
      "source": [
        "v_subarray[1] = 12345\n",
        "print(v_subarray)"
      ]
    },
    {
      "cell_type": "markdown",
      "metadata": {
        "id": "j8JAAu8S_xoG"
      },
      "source": [
        "Pero la componente 1 de `v_subarray` es en realidad la componente 6 de `v`, así que `v` ha cambiado:"
      ]
    },
    {
      "cell_type": "code",
      "execution_count": 8,
      "metadata": {
        "colab": {
          "base_uri": "https://localhost:8080/"
        },
        "id": "pC9Ja-FM_xoG",
        "outputId": "c0666cc1-8543-4776-a536-25cefb610502"
      },
      "outputs": [
        {
          "output_type": "stream",
          "name": "stdout",
          "text": [
            "[    0     1     2     3     4    12 12345    12     8     9]\n"
          ]
        }
      ],
      "source": [
        "print(v)"
      ]
    },
    {
      "cell_type": "markdown",
      "metadata": {
        "id": "3-rd4eFp_xoH"
      },
      "source": [
        "Nótese la diferencia con las listas de python, en las que `l[:]` es la manera estándar de crear una *copia* de una lista `l`. En el caso de *numpy*, si se quiere realizar una copia, se ha de usar el método `copy` (por ejemplo, `v.copy()`)."
      ]
    },
    {
      "cell_type": "code",
      "source": [
        "v_copy = v.copy()"
      ],
      "metadata": {
        "id": "VbKacawh37og"
      },
      "execution_count": 10,
      "outputs": []
    },
    {
      "cell_type": "markdown",
      "metadata": {
        "id": "4rxJpOyv_xoH"
      },
      "source": [
        "**Arrays de más dimensiones**"
      ]
    },
    {
      "cell_type": "markdown",
      "metadata": {
        "id": "480gvVKS_xoH"
      },
      "source": [
        "El acceso a los componentes de arrays de dos o más dimensiones es similar, aunque la casuística es más variada."
      ]
    },
    {
      "cell_type": "markdown",
      "metadata": {
        "id": "Yd-PJOSF_xoH"
      },
      "source": [
        "Cuando accedemos con un único índice, estamos accediendo al correspondiente subarray de esa posición. Por ejemplo, en array de dos dimensiones, con 3 filas y 3 columnas, la posición 2 es la tercera fila:"
      ]
    },
    {
      "cell_type": "code",
      "execution_count": 11,
      "metadata": {
        "colab": {
          "base_uri": "https://localhost:8080/"
        },
        "id": "TykBJ9JI_xoI",
        "outputId": "886628ab-39c1-4d75-d026-d724db55fb79"
      },
      "outputs": [
        {
          "output_type": "execute_result",
          "data": {
            "text/plain": [
              "array([7, 8, 9])"
            ]
          },
          "metadata": {},
          "execution_count": 11
        }
      ],
      "source": [
        "c2d = np.array([[1, 2, 3], [4, 5, 6], [7, 8, 9]])\n",
        "c2d[2]"
      ]
    },
    {
      "cell_type": "markdown",
      "metadata": {
        "id": "v0GVGU0L_xoI"
      },
      "source": [
        "De esta manera, recursivamente, podríamos acceder a los componentes individuales de una array de cualquier dimensión. En el ejemplo anterior, el elemento de la primera fila y la tercera columna sería:"
      ]
    },
    {
      "cell_type": "code",
      "execution_count": 12,
      "metadata": {
        "colab": {
          "base_uri": "https://localhost:8080/"
        },
        "id": "25sSVC1l_xoI",
        "outputId": "56fd954c-6fb1-43df-8548-4b91bd4a36d3"
      },
      "outputs": [
        {
          "output_type": "execute_result",
          "data": {
            "text/plain": [
              "3"
            ]
          },
          "metadata": {},
          "execution_count": 12
        }
      ],
      "source": [
        "c2d[0][2]  # dentro del array, la primera fila y el tercer componente"
      ]
    },
    {
      "cell_type": "markdown",
      "metadata": {
        "id": "7IjYCHRm_xoI"
      },
      "source": [
        "Normalmente no se suele usar la notación anterior para acceder a los elementos individuales, sino que se usa un único corchete con los índices separados por comas: Lo siguiente es equivalente:"
      ]
    },
    {
      "cell_type": "code",
      "execution_count": 13,
      "metadata": {
        "colab": {
          "base_uri": "https://localhost:8080/"
        },
        "id": "bizhjYPh_xoJ",
        "outputId": "329e62e4-8261-45c6-c812-2402395242ec"
      },
      "outputs": [
        {
          "output_type": "execute_result",
          "data": {
            "text/plain": [
              "3"
            ]
          },
          "metadata": {},
          "execution_count": 13
        }
      ],
      "source": [
        "c2d[0, 2]"
      ]
    },
    {
      "cell_type": "markdown",
      "metadata": {
        "id": "aB7pqyhI_xoK"
      },
      "source": [
        "Veamos más ejemplos de acceso y modificación en arrays multidimensionales, en este caso con tres dimensiones."
      ]
    },
    {
      "cell_type": "code",
      "execution_count": 14,
      "metadata": {
        "colab": {
          "base_uri": "https://localhost:8080/"
        },
        "id": "ckTeln_g_xoK",
        "outputId": "ee56d240-46e0-4d44-87e3-14929c37ffe6"
      },
      "outputs": [
        {
          "output_type": "execute_result",
          "data": {
            "text/plain": [
              "array([[[ 1,  2,  3],\n",
              "        [ 4,  5,  6]],\n",
              "\n",
              "       [[ 7,  8,  9],\n",
              "        [10, 11, 12]]])"
            ]
          },
          "metadata": {},
          "execution_count": 14
        }
      ],
      "source": [
        "c3d = np.array([[[1, 2, 3], [4, 5, 6]], [[7, 8, 9], [10, 11, 12]]])\n",
        "c3d"
      ]
    },
    {
      "cell_type": "markdown",
      "metadata": {
        "id": "sDFF8zk9_xoK"
      },
      "source": [
        "Accediendo a la posición 0 obtenemos el correspondiente subarray de dos dimensiones:"
      ]
    },
    {
      "cell_type": "code",
      "execution_count": 15,
      "metadata": {
        "colab": {
          "base_uri": "https://localhost:8080/"
        },
        "id": "VnD5R9kq_xoK",
        "outputId": "a085ef15-b552-47e7-e796-836584def12f"
      },
      "outputs": [
        {
          "output_type": "execute_result",
          "data": {
            "text/plain": [
              "array([[1, 2, 3],\n",
              "       [4, 5, 6]])"
            ]
          },
          "metadata": {},
          "execution_count": 15
        }
      ],
      "source": [
        "c3d[0]"
      ]
    },
    {
      "cell_type": "markdown",
      "metadata": {
        "id": "Cr3-AHG88bpo"
      },
      "source": [
        "Similar a la función `enumerate` de Python, tenemos la función `np.ndenumearte` para iterar con los elementos del array y su índice"
      ]
    },
    {
      "cell_type": "code",
      "source": [
        "l = (list(range(10,20)))\n",
        "print(list(enumerate(l)))"
      ],
      "metadata": {
        "id": "grLOS4xw4mUM",
        "outputId": "892a0ec4-823b-4dc5-9493-0d6b129c44ab",
        "colab": {
          "base_uri": "https://localhost:8080/"
        }
      },
      "execution_count": 18,
      "outputs": [
        {
          "output_type": "stream",
          "name": "stdout",
          "text": [
            "[(0, 10), (1, 11), (2, 12), (3, 13), (4, 14), (5, 15), (6, 16), (7, 17), (8, 18), (9, 19)]\n"
          ]
        }
      ]
    },
    {
      "cell_type": "code",
      "execution_count": 16,
      "metadata": {
        "colab": {
          "base_uri": "https://localhost:8080/"
        },
        "id": "vvbKaKKX8oGR",
        "outputId": "afe2f7d6-1330-4606-fe36-6ab284cccbf6"
      },
      "outputs": [
        {
          "output_type": "execute_result",
          "data": {
            "text/plain": [
              "[((0, 0, 0), 1),\n",
              " ((0, 0, 1), 2),\n",
              " ((0, 0, 2), 3),\n",
              " ((0, 1, 0), 4),\n",
              " ((0, 1, 1), 5),\n",
              " ((0, 1, 2), 6),\n",
              " ((1, 0, 0), 7),\n",
              " ((1, 0, 1), 8),\n",
              " ((1, 0, 2), 9),\n",
              " ((1, 1, 0), 10),\n",
              " ((1, 1, 1), 11),\n",
              " ((1, 1, 2), 12)]"
            ]
          },
          "metadata": {},
          "execution_count": 16
        }
      ],
      "source": [
        "[i for i in np.ndenumerate(c3d)]"
      ]
    },
    {
      "cell_type": "markdown",
      "metadata": {
        "id": "sSE1eGoz_xoL"
      },
      "source": [
        "Vamos a guardar una copia de de ese subarray y lo modificamos en el original con el número `42` en todas las posiciones:"
      ]
    },
    {
      "cell_type": "code",
      "execution_count": 19,
      "metadata": {
        "colab": {
          "base_uri": "https://localhost:8080/"
        },
        "id": "jpGERf3M_xoL",
        "outputId": "706c1c83-5836-4784-ac2d-6e3f69ab6173"
      },
      "outputs": [
        {
          "output_type": "execute_result",
          "data": {
            "text/plain": [
              "array([[[42, 42, 42],\n",
              "        [42, 42, 42]],\n",
              "\n",
              "       [[ 7,  8,  9],\n",
              "        [10, 11, 12]]])"
            ]
          },
          "metadata": {},
          "execution_count": 19
        }
      ],
      "source": [
        "old_values = c3d[0].copy()  #solo estamos copiado el primer eje, no todo el array\n",
        "c3d[0] = 42\n",
        "c3d"
      ]
    },
    {
      "cell_type": "markdown",
      "metadata": {
        "id": "xBbwjdeK_xoL"
      },
      "source": [
        "Y ahora reestablecemos los valores originales:"
      ]
    },
    {
      "cell_type": "code",
      "execution_count": 20,
      "metadata": {
        "colab": {
          "base_uri": "https://localhost:8080/"
        },
        "id": "_oJAjmMI_xoL",
        "outputId": "36efff8a-0503-4cd1-e641-a714dbe6b21d"
      },
      "outputs": [
        {
          "output_type": "execute_result",
          "data": {
            "text/plain": [
              "array([[[ 1,  2,  3],\n",
              "        [ 4,  5,  6]],\n",
              "\n",
              "       [[ 7,  8,  9],\n",
              "        [10, 11, 12]]])"
            ]
          },
          "metadata": {},
          "execution_count": 20
        }
      ],
      "source": [
        "c3d[0] = old_values\n",
        "c3d"
      ]
    },
    {
      "cell_type": "markdown",
      "metadata": {
        "id": "HhfeLKhy9LJ2"
      },
      "source": [
        ":::{exercise}\n",
        ":label: introduction-numpy-indexing\n",
        "\n",
        "Devuelve el número 813 indexando el array `np.arange(2100).reshape((25, 6, 7, 2))`.\n",
        "\n",
        ":::"
      ]
    },
    {
      "cell_type": "code",
      "source": [
        "# con fuerza bruta y np.ndenumerate\n",
        "\n",
        "arr_enumerate = {k:v for v,k in np.ndenumerate(c4d)}\n",
        "idx = arr_enumerate[813]\n",
        "print(idx)"
      ],
      "metadata": {
        "id": "CTTUVJcu6jbZ",
        "outputId": "4bf3c02c-2206-4002-ffff-2c07dd5d9064",
        "colab": {
          "base_uri": "https://localhost:8080/"
        }
      },
      "execution_count": 44,
      "outputs": [
        {
          "output_type": "stream",
          "name": "stdout",
          "text": [
            "(9, 4, 0, 1)\n"
          ]
        }
      ]
    },
    {
      "cell_type": "code",
      "source": [
        "c4d = np.arange(2100).reshape((25, 6, 7, 2))\n",
        "c4d[9,4,0,1]  # lo he hecho con la cuenta la vieja"
      ],
      "metadata": {
        "id": "ebubbOY45Sv9",
        "outputId": "55fa5ddd-19f0-4fbe-f6d1-c27f71898c38",
        "colab": {
          "base_uri": "https://localhost:8080/"
        }
      },
      "execution_count": 40,
      "outputs": [
        {
          "output_type": "execute_result",
          "data": {
            "text/plain": [
              "813"
            ]
          },
          "metadata": {},
          "execution_count": 40
        }
      ]
    },
    {
      "cell_type": "code",
      "source": [
        "n = 813\n",
        "i = n // (6*7*2)\n",
        "j = 0  # hay que hacer una cuenta como la de arriba para que nos salga el numero\n",
        "k = 0\n",
        "l = 1\n",
        "print(c4d[i,j,k,l])"
      ],
      "metadata": {
        "id": "AicsunSm7T3j",
        "outputId": "ab1ea30c-d7d7-4ba8-d2ac-b8b32ad718d1",
        "colab": {
          "base_uri": "https://localhost:8080/"
        }
      },
      "execution_count": 50,
      "outputs": [
        {
          "output_type": "stream",
          "name": "stdout",
          "text": [
            "757\n"
          ]
        }
      ]
    },
    {
      "cell_type": "markdown",
      "metadata": {
        "id": "177aqqeY_xoQ"
      },
      "source": [
        "### Indexado usando *slices*"
      ]
    },
    {
      "cell_type": "code",
      "execution_count": 51,
      "metadata": {
        "colab": {
          "base_uri": "https://localhost:8080/"
        },
        "id": "N2NzJIL5_xoR",
        "outputId": "4891c8de-c620-4026-97d3-b8bb18a82f8d"
      },
      "outputs": [
        {
          "output_type": "execute_result",
          "data": {
            "text/plain": [
              "array([[1, 2, 3],\n",
              "       [4, 5, 6],\n",
              "       [7, 8, 9]])"
            ]
          },
          "metadata": {},
          "execution_count": 51
        }
      ],
      "source": [
        "c2d"
      ]
    },
    {
      "cell_type": "markdown",
      "metadata": {
        "id": "AH_e9Ijl_xoR"
      },
      "source": [
        "Los *slicings* en arrays multidimensionales se hacen a lo largo de los correspondientes ejes. Por ejemplo, en un array bidimensional, lo haríamos sobre la secuencia de filas."
      ]
    },
    {
      "cell_type": "code",
      "execution_count": 52,
      "metadata": {
        "colab": {
          "base_uri": "https://localhost:8080/"
        },
        "id": "qBF3ccfp_xoS",
        "outputId": "97a5e853-cf2d-4770-d97f-2ed9817d698d"
      },
      "outputs": [
        {
          "output_type": "execute_result",
          "data": {
            "text/plain": [
              "array([[1, 2, 3],\n",
              "       [4, 5, 6]])"
            ]
          },
          "metadata": {},
          "execution_count": 52
        }
      ],
      "source": [
        "c2d[:2]"
      ]
    },
    {
      "cell_type": "markdown",
      "metadata": {
        "id": "Lt9JuqIW_xoS"
      },
      "source": [
        "Pero también podríamos hacerlo en ambos ejes. Por ejemplo para obtener el subarray hasta la segunda fila y a partir de la primera columna:"
      ]
    },
    {
      "cell_type": "code",
      "execution_count": 53,
      "metadata": {
        "colab": {
          "base_uri": "https://localhost:8080/"
        },
        "id": "VEJo4HJj_xoS",
        "outputId": "59290eee-40fa-4fb7-bfac-c6b86adc6dd6"
      },
      "outputs": [
        {
          "output_type": "execute_result",
          "data": {
            "text/plain": [
              "array([[2, 3],\n",
              "       [5, 6]])"
            ]
          },
          "metadata": {},
          "execution_count": 53
        }
      ],
      "source": [
        "c2d[:2, 1:]"
      ]
    },
    {
      "cell_type": "markdown",
      "metadata": {
        "id": "7flrjGwU_xoT"
      },
      "source": [
        "Si en alguno de los ejes se usa un índice individual, entonces se pierde una de las dimensiones:"
      ]
    },
    {
      "cell_type": "code",
      "execution_count": 54,
      "metadata": {
        "colab": {
          "base_uri": "https://localhost:8080/"
        },
        "id": "sHbAv_5K_xoT",
        "outputId": "484715a5-4186-4139-804c-781f7cfb6bfd"
      },
      "outputs": [
        {
          "output_type": "execute_result",
          "data": {
            "text/plain": [
              "array([4, 5])"
            ]
          },
          "metadata": {},
          "execution_count": 54
        }
      ],
      "source": [
        "c2d[1, :2]"
      ]
    },
    {
      "cell_type": "markdown",
      "metadata": {
        "id": "w3i3lb63_xoT"
      },
      "source": [
        "Nótese la diferencia con la operación `C2d[1:2,:2]`. Puede parecer que el resultado ha de ser el mismo, **pero si se usa slicing en ambos ejes se mantiene el número de dimensiones**:"
      ]
    },
    {
      "cell_type": "code",
      "execution_count": 55,
      "metadata": {
        "colab": {
          "base_uri": "https://localhost:8080/"
        },
        "id": "Zj0Gv_kt_xoT",
        "outputId": "778fe9da-c263-4270-8ce0-d8dd1e67b211"
      },
      "outputs": [
        {
          "output_type": "execute_result",
          "data": {
            "text/plain": [
              "array([[4, 5]])"
            ]
          },
          "metadata": {},
          "execution_count": 55
        }
      ],
      "source": [
        "c2d[1:2,:2]"
      ]
    },
    {
      "cell_type": "markdown",
      "metadata": {
        "id": "MatNHiq__xoT"
      },
      "source": [
        "Más ejemplos:"
      ]
    },
    {
      "cell_type": "code",
      "execution_count": 56,
      "metadata": {
        "colab": {
          "base_uri": "https://localhost:8080/"
        },
        "id": "cDpnzHlU0CEo",
        "outputId": "950f6545-70f1-40ab-9b0e-64543953ea81"
      },
      "outputs": [
        {
          "output_type": "execute_result",
          "data": {
            "text/plain": [
              "array([[1, 2, 3],\n",
              "       [4, 5, 6],\n",
              "       [7, 8, 9]])"
            ]
          },
          "metadata": {},
          "execution_count": 56
        }
      ],
      "source": [
        "c2d"
      ]
    },
    {
      "cell_type": "code",
      "execution_count": 57,
      "metadata": {
        "colab": {
          "base_uri": "https://localhost:8080/"
        },
        "id": "40WHNmgq_xoT",
        "outputId": "9f765c0f-dbdc-456a-94f1-29e1b3be193b"
      },
      "outputs": [
        {
          "output_type": "execute_result",
          "data": {
            "text/plain": [
              "array([3, 6])"
            ]
          },
          "metadata": {},
          "execution_count": 57
        }
      ],
      "source": [
        "c2d[:2, 2]"
      ]
    },
    {
      "cell_type": "code",
      "execution_count": 58,
      "metadata": {
        "colab": {
          "base_uri": "https://localhost:8080/"
        },
        "id": "ydGfmNux_xoU",
        "outputId": "d36a06a7-5161-4377-95dd-7e431a61e0c0"
      },
      "outputs": [
        {
          "output_type": "execute_result",
          "data": {
            "text/plain": [
              "array([[1],\n",
              "       [4],\n",
              "       [7]])"
            ]
          },
          "metadata": {},
          "execution_count": 58
        }
      ],
      "source": [
        "c2d[:, :1]"
      ]
    },
    {
      "cell_type": "markdown",
      "metadata": {
        "id": "GW8WXa6G_xoU"
      },
      "source": [
        "Como hemos visto más arriba, podemos usar *slicing* para asignar valores a las componentes de un array. Por ejemplo"
      ]
    },
    {
      "cell_type": "code",
      "execution_count": 59,
      "metadata": {
        "id": "RgvW7LRz_xoU",
        "outputId": "059b1bbc-f0a1-492b-d044-109b83a36e94",
        "colab": {
          "base_uri": "https://localhost:8080/"
        }
      },
      "outputs": [
        {
          "output_type": "execute_result",
          "data": {
            "text/plain": [
              "array([[1, 0, 0],\n",
              "       [4, 0, 0],\n",
              "       [7, 8, 9]])"
            ]
          },
          "metadata": {},
          "execution_count": 59
        }
      ],
      "source": [
        "c2d[:2, 1:] = 0\n",
        "c2d"
      ]
    },
    {
      "cell_type": "markdown",
      "metadata": {
        "id": "rH2KPPlnpSWi"
      },
      "source": [
        "Finalmente, notemos que podemos usar cualquier `slice` de Python para arrays"
      ]
    },
    {
      "cell_type": "code",
      "execution_count": 60,
      "metadata": {
        "id": "5a2v7IlMpb7r"
      },
      "outputs": [],
      "source": [
        "slice_1 = slice(2, 0, -1)\n",
        "slice_2 = slice(0, 3, 2)"
      ]
    },
    {
      "cell_type": "code",
      "execution_count": 61,
      "metadata": {
        "colab": {
          "base_uri": "https://localhost:8080/"
        },
        "id": "7MaZ4y3mpY6s",
        "outputId": "6ce76388-622c-4dde-fb01-4d5c58169181"
      },
      "outputs": [
        {
          "output_type": "execute_result",
          "data": {
            "text/plain": [
              "array([[7, 9],\n",
              "       [4, 0]])"
            ]
          },
          "metadata": {},
          "execution_count": 61
        }
      ],
      "source": [
        "c2d[slice_1, slice_2]"
      ]
    },
    {
      "cell_type": "markdown",
      "metadata": {
        "id": "S0oBCm9tIo1x"
      },
      "source": [
        ":::{exercise}\n",
        ":label: index-slicing-3x4x2\n",
        "\n",
        "Crea un array tridimensional de dimensiones $(3, 4, 2)$ y obtén el subarray indicada en la figura (`shape = (1, 2)`). Obtén también un subarray a tu elección de dimensiones $(2, 3, 1)$.\n",
        "\n",
        "<div style=\"display: flex; align-items: center;\n",
        "justify-content: center;\">\n",
        "    <img style=\"width: 100px; height: 100px;\" src=\"https://drive.google.com/uc?id=1HEtbq_Y1YVh6jscdHEhYYz-iM5FNMyJP\"/>\n",
        "</div>\n",
        "\n",
        ":::"
      ]
    },
    {
      "cell_type": "code",
      "source": [
        "c5d = np.array([[[1, 2], [3, 4], [5, 6], [7, 8]], [[9,10], [11, 12], [13, 14], [15,16]], [[17, 18], [19, 20], [21, 22], [23, 24]]])\n",
        "print(c5d.shape) # haciendolo a mano"
      ],
      "metadata": {
        "id": "m3zbXUyw9Lcw",
        "outputId": "0c66bbb8-8ae5-4d10-8218-3eaa9b31a3c3",
        "colab": {
          "base_uri": "https://localhost:8080/"
        }
      },
      "execution_count": 67,
      "outputs": [
        {
          "output_type": "stream",
          "name": "stdout",
          "text": [
            "(3, 4, 2)\n"
          ]
        }
      ]
    },
    {
      "cell_type": "code",
      "source": [
        "arr1 = np.arange(3*4*2).reshape((3,4,2))\n",
        "arr2 = np.zeros((3,4,2))\n",
        "assert arr1.shape == (3,4,2)  # assert es para que salte un error solo si sale False\n",
        "assert arr2.shape == (3,4,2)\n",
        "\n",
        "sub_arr = arr1[1, 3:4, :] # tenemos que poner 2 slice para que coja 2 elementos\n",
        "print(sub_arr)\n",
        "print(sub_arr.shape)\n",
        "\n",
        "sub_arr1 = arr1[:2, :3, :1]\n",
        "print(sub_arr1)\n",
        "print(sub_arr1.shape)"
      ],
      "metadata": {
        "id": "bNqlZkYi-9Zg",
        "outputId": "f93c32ce-c415-476c-c86a-f2cf0bdd1624",
        "colab": {
          "base_uri": "https://localhost:8080/"
        }
      },
      "execution_count": 74,
      "outputs": [
        {
          "output_type": "stream",
          "name": "stdout",
          "text": [
            "[[14 15]]\n",
            "(1, 2)\n",
            "[[[ 0]\n",
            "  [ 2]\n",
            "  [ 4]]\n",
            "\n",
            " [[ 8]\n",
            "  [10]\n",
            "  [12]]]\n",
            "(2, 3, 1)\n"
          ]
        }
      ]
    },
    {
      "cell_type": "markdown",
      "metadata": {
        "id": "LBbXvvwz_xoV"
      },
      "source": [
        "### Indexado con booleanos"
      ]
    },
    {
      "cell_type": "markdown",
      "metadata": {
        "id": "JMbWjTvX_xoV"
      },
      "source": [
        "Los arrays de booleanos se pueden usar en numpy como una forma de indexado para seleccionar determinadas componenetes en una serie de ejes.\n",
        "\n",
        "Veamos el siguiente ejemplo:"
      ]
    },
    {
      "cell_type": "code",
      "execution_count": 75,
      "metadata": {
        "id": "aCvfEAkM_xoV"
      },
      "outputs": [],
      "source": [
        "nombres = np.array(['Bob', 'Joe', 'Will', 'Bob', 'Will', 'Joe', 'Joe'])"
      ]
    },
    {
      "cell_type": "code",
      "execution_count": 77,
      "metadata": {
        "colab": {
          "base_uri": "https://localhost:8080/"
        },
        "id": "02_IP2Vx3qBq",
        "outputId": "f25d4f54-81eb-445d-e241-9cdc11233a68"
      },
      "outputs": [
        {
          "output_type": "execute_result",
          "data": {
            "text/plain": [
              "(7,)"
            ]
          },
          "metadata": {},
          "execution_count": 77
        }
      ],
      "source": [
        "nombres.shape"
      ]
    },
    {
      "cell_type": "code",
      "execution_count": 78,
      "metadata": {
        "colab": {
          "base_uri": "https://localhost:8080/"
        },
        "id": "-i69eniR_xoV",
        "outputId": "f5624c5f-b68b-474c-c7ad-f1d9fef2521b"
      },
      "outputs": [
        {
          "output_type": "execute_result",
          "data": {
            "text/plain": [
              "array([[ 0.02297772,  0.47719702, -0.63810855, -0.50601979],\n",
              "       [-0.3361289 ,  0.25724699, -0.27108628,  0.1083045 ],\n",
              "       [-0.72369663, -1.23756973, -0.9833041 , -0.21462785],\n",
              "       [-0.88139588,  0.48253636, -0.55951661, -2.4536927 ],\n",
              "       [ 1.86770296,  0.47795139,  0.651925  ,  2.48384543],\n",
              "       [-0.64066215, -0.54479454,  1.08534827,  0.06098481],\n",
              "       [-0.21575518,  1.31773048,  0.52575735, -0.15863638]])"
            ]
          },
          "metadata": {},
          "execution_count": 78
        }
      ],
      "source": [
        "rng = np.random.default_rng()\n",
        "data = rng.normal(0, 1, (7, 4))\n",
        "data"
      ]
    },
    {
      "cell_type": "code",
      "source": [
        "nombres == \"Bob\""
      ],
      "metadata": {
        "id": "KVoXjt_0AlVN",
        "outputId": "4c4f0fe9-013a-42f7-cc09-dee321aaa35e",
        "colab": {
          "base_uri": "https://localhost:8080/"
        }
      },
      "execution_count": 79,
      "outputs": [
        {
          "output_type": "execute_result",
          "data": {
            "text/plain": [
              "array([ True, False, False,  True, False, False, False])"
            ]
          },
          "metadata": {},
          "execution_count": 79
        }
      ]
    },
    {
      "cell_type": "code",
      "execution_count": 80,
      "metadata": {
        "colab": {
          "base_uri": "https://localhost:8080/"
        },
        "id": "o4u6ZU-z6Igw",
        "outputId": "e2a9ae34-5336-438f-ef02-c344487ddc84"
      },
      "outputs": [
        {
          "output_type": "execute_result",
          "data": {
            "text/plain": [
              "array([[ 0.02297772,  0.47719702, -0.63810855, -0.50601979],\n",
              "       [-0.88139588,  0.48253636, -0.55951661, -2.4536927 ]])"
            ]
          },
          "metadata": {},
          "execution_count": 80
        }
      ],
      "source": [
        "data[nombres == \"Bob\"]"
      ]
    },
    {
      "cell_type": "markdown",
      "metadata": {
        "id": "vCfqyjS2_xoW"
      },
      "source": [
        "Podríamos interpretar que cada fila del array `data` son datos asociados a las correspondientes personas del array `nombres`. Si ahora queremos quedarnos por ejemplos con las filas correspondientes a Bob, podemos usar indexado booleano de la siguiente manera:"
      ]
    },
    {
      "cell_type": "markdown",
      "metadata": {
        "id": "FYUnWy5g_xoX"
      },
      "source": [
        "El array de booleanos que vamos a usar será:"
      ]
    },
    {
      "cell_type": "code",
      "execution_count": 81,
      "metadata": {
        "colab": {
          "base_uri": "https://localhost:8080/"
        },
        "id": "twMzoqG8_xoY",
        "outputId": "add16fc6-de98-4d91-a716-84c0dee662c2"
      },
      "outputs": [
        {
          "output_type": "execute_result",
          "data": {
            "text/plain": [
              "array([ True, False, False,  True, False, False, False])"
            ]
          },
          "metadata": {},
          "execution_count": 81
        }
      ],
      "source": [
        "nombres == 'Bob'"
      ]
    },
    {
      "cell_type": "markdown",
      "metadata": {
        "id": "XJ-nnTnk_xoY"
      },
      "source": [
        "Y el indexado con ese array, en el eje de las filas, nos dará el subarray de las filas correspondientes a Bob:"
      ]
    },
    {
      "cell_type": "code",
      "execution_count": 82,
      "metadata": {
        "colab": {
          "base_uri": "https://localhost:8080/"
        },
        "id": "PVEo9Iz2_xoY",
        "outputId": "2e047244-e7a0-4344-bc4b-58d38e331513"
      },
      "outputs": [
        {
          "output_type": "execute_result",
          "data": {
            "text/plain": [
              "array([[ 0.02297772,  0.47719702, -0.63810855, -0.50601979],\n",
              "       [-0.88139588,  0.48253636, -0.55951661, -2.4536927 ]])"
            ]
          },
          "metadata": {},
          "execution_count": 82
        }
      ],
      "source": [
        "data[nombres == 'Bob']"
      ]
    },
    {
      "cell_type": "markdown",
      "metadata": {
        "id": "dLC5RV1n_xoY"
      },
      "source": [
        "Podemos mezclar indexado booleano con índices concretos o con slicing en distintos ejes:"
      ]
    },
    {
      "cell_type": "code",
      "execution_count": 83,
      "metadata": {
        "colab": {
          "base_uri": "https://localhost:8080/"
        },
        "id": "8O-JpOu8_xoZ",
        "outputId": "cac7eaae-0a37-494f-8a19-475924d7d0b4"
      },
      "outputs": [
        {
          "output_type": "execute_result",
          "data": {
            "text/plain": [
              "array([[-0.63810855, -0.50601979],\n",
              "       [-0.55951661, -2.4536927 ]])"
            ]
          },
          "metadata": {},
          "execution_count": 83
        }
      ],
      "source": [
        "data[nombres == 'Bob', 2:]"
      ]
    },
    {
      "cell_type": "code",
      "execution_count": 84,
      "metadata": {
        "colab": {
          "base_uri": "https://localhost:8080/"
        },
        "id": "lXoKBlMx_xoZ",
        "outputId": "3ff2a438-e14d-42c9-cf2f-fd2817f0029e"
      },
      "outputs": [
        {
          "output_type": "execute_result",
          "data": {
            "text/plain": [
              "array([-0.50601979, -2.4536927 ])"
            ]
          },
          "metadata": {},
          "execution_count": 84
        }
      ],
      "source": [
        "data[nombres == 'Bob', 3]"
      ]
    },
    {
      "cell_type": "markdown",
      "metadata": {
        "id": "Txawua8g_xoZ"
      },
      "source": [
        "Para usar el indexado complementario (en el ejemplo, las filas correspondientes a las personas que no son Bob), podríamos usar el array de booleanos `nombres != 'Bob'`. Sin embargo, es más habitual usar el operador `~`:"
      ]
    },
    {
      "cell_type": "code",
      "execution_count": 85,
      "metadata": {
        "colab": {
          "base_uri": "https://localhost:8080/"
        },
        "id": "QUTLqZAH_xoa",
        "outputId": "9a699aad-ab23-402d-9e77-811163a0cd61"
      },
      "outputs": [
        {
          "output_type": "execute_result",
          "data": {
            "text/plain": [
              "array([[-0.3361289 ,  0.25724699, -0.27108628,  0.1083045 ],\n",
              "       [-0.72369663, -1.23756973, -0.9833041 , -0.21462785],\n",
              "       [ 1.86770296,  0.47795139,  0.651925  ,  2.48384543],\n",
              "       [-0.64066215, -0.54479454,  1.08534827,  0.06098481],\n",
              "       [-0.21575518,  1.31773048,  0.52575735, -0.15863638]])"
            ]
          },
          "metadata": {},
          "execution_count": 85
        }
      ],
      "source": [
        "data[~(nombres == 'Bob')]  # ~ esta es la negacion en numpy, el not no funciona"
      ]
    },
    {
      "cell_type": "markdown",
      "metadata": {
        "id": "RslgpEjN_xoa"
      },
      "source": [
        "Incluso podemos jugar con otros operadores booleanos como `&` (and) y `|` (or), para construir indexados booleanos que combinan condiciones.\n",
        "\n",
        "Por ejemplo, para obtener las filas correspondiente a Bob o a Will:"
      ]
    },
    {
      "cell_type": "code",
      "execution_count": 86,
      "metadata": {
        "colab": {
          "base_uri": "https://localhost:8080/"
        },
        "id": "o_RSywGN_xoa",
        "outputId": "79986869-35ad-4b91-8f69-28662cfc35ca"
      },
      "outputs": [
        {
          "output_type": "execute_result",
          "data": {
            "text/plain": [
              "array([ True, False,  True,  True,  True, False, False])"
            ]
          },
          "metadata": {},
          "execution_count": 86
        }
      ],
      "source": [
        "mask = (nombres == 'Bob') | (nombres == 'Will')\n",
        "mask"
      ]
    },
    {
      "cell_type": "code",
      "execution_count": 87,
      "metadata": {
        "colab": {
          "base_uri": "https://localhost:8080/"
        },
        "id": "0A9QW5uS_xob",
        "outputId": "c08d5832-90ab-426f-af35-53bc58dccdd4"
      },
      "outputs": [
        {
          "output_type": "execute_result",
          "data": {
            "text/plain": [
              "array([[ 0.02297772,  0.47719702, -0.63810855, -0.50601979],\n",
              "       [-0.72369663, -1.23756973, -0.9833041 , -0.21462785],\n",
              "       [-0.88139588,  0.48253636, -0.55951661, -2.4536927 ],\n",
              "       [ 1.86770296,  0.47795139,  0.651925  ,  2.48384543]])"
            ]
          },
          "metadata": {},
          "execution_count": 87
        }
      ],
      "source": [
        "data[mask]"
      ]
    },
    {
      "cell_type": "markdown",
      "metadata": {
        "id": "zgZ5mDl2_xob"
      },
      "source": [
        "Y como en los anteriores indexados, podemos usar el indexado booleano para modificar componentes de los arrays. Lo siguiente pone a 0 todos los componentes neativos de `data`:"
      ]
    },
    {
      "cell_type": "code",
      "execution_count": 88,
      "metadata": {
        "colab": {
          "base_uri": "https://localhost:8080/"
        },
        "id": "KBswyyKS_xob",
        "outputId": "e74141b0-3dba-4f56-c6f9-0d2ff08244f4"
      },
      "outputs": [
        {
          "output_type": "execute_result",
          "data": {
            "text/plain": [
              "array([[False, False,  True,  True],\n",
              "       [ True, False,  True, False],\n",
              "       [ True,  True,  True,  True],\n",
              "       [ True, False,  True,  True],\n",
              "       [False, False, False, False],\n",
              "       [ True,  True, False, False],\n",
              "       [ True, False, False,  True]])"
            ]
          },
          "metadata": {},
          "execution_count": 88
        }
      ],
      "source": [
        "data < 0"
      ]
    },
    {
      "cell_type": "code",
      "execution_count": 89,
      "metadata": {
        "colab": {
          "base_uri": "https://localhost:8080/"
        },
        "id": "qsa4RjJg5Ge_",
        "outputId": "2ec8ad2d-ccfd-423f-8eab-640f2133e5a6"
      },
      "outputs": [
        {
          "output_type": "execute_result",
          "data": {
            "text/plain": [
              "array([-0.63810855, -0.50601979, -0.3361289 , -0.27108628, -0.72369663,\n",
              "       -1.23756973, -0.9833041 , -0.21462785, -0.88139588, -0.55951661,\n",
              "       -2.4536927 , -0.64066215, -0.54479454, -0.21575518, -0.15863638])"
            ]
          },
          "metadata": {},
          "execution_count": 89
        }
      ],
      "source": [
        "data[data < 0]"
      ]
    },
    {
      "cell_type": "code",
      "execution_count": 90,
      "metadata": {
        "colab": {
          "base_uri": "https://localhost:8080/"
        },
        "id": "WvgVM4ZQ_xob",
        "outputId": "b0a88de5-5f80-4a46-9693-e1555cb99610"
      },
      "outputs": [
        {
          "output_type": "execute_result",
          "data": {
            "text/plain": [
              "array([[0.02297772, 0.47719702, 0.        , 0.        ],\n",
              "       [0.        , 0.25724699, 0.        , 0.1083045 ],\n",
              "       [0.        , 0.        , 0.        , 0.        ],\n",
              "       [0.        , 0.48253636, 0.        , 0.        ],\n",
              "       [1.86770296, 0.47795139, 0.651925  , 2.48384543],\n",
              "       [0.        , 0.        , 1.08534827, 0.06098481],\n",
              "       [0.        , 1.31773048, 0.52575735, 0.        ]])"
            ]
          },
          "metadata": {},
          "execution_count": 90
        }
      ],
      "source": [
        "data[data < 0] = 0\n",
        "data"
      ]
    },
    {
      "cell_type": "markdown",
      "metadata": {
        "id": "yEfakyy6_xoc"
      },
      "source": [
        "Obsérvese que ahora `data < 0` es un array de booleanos bidimensional con la misma estructura que el propio `data` y que por tanto tanto estamos haciendo indexado booleano sobre ambos ejes.\n",
        "\n",
        "Podríamos incluso fijar un valor a filas completas, usando indexado por un booleano unidimensional:"
      ]
    },
    {
      "cell_type": "code",
      "execution_count": 91,
      "metadata": {
        "colab": {
          "base_uri": "https://localhost:8080/"
        },
        "id": "jLffQjJz_xoc",
        "outputId": "2ba396df-3ad4-4f4e-eb4b-80048d0302b3"
      },
      "outputs": [
        {
          "output_type": "execute_result",
          "data": {
            "text/plain": [
              "array([[7.        , 7.        , 7.        , 7.        ],\n",
              "       [0.        , 0.25724699, 0.        , 0.1083045 ],\n",
              "       [7.        , 7.        , 7.        , 7.        ],\n",
              "       [7.        , 7.        , 7.        , 7.        ],\n",
              "       [7.        , 7.        , 7.        , 7.        ],\n",
              "       [0.        , 0.        , 1.08534827, 0.06098481],\n",
              "       [0.        , 1.31773048, 0.52575735, 0.        ]])"
            ]
          },
          "metadata": {},
          "execution_count": 91
        }
      ],
      "source": [
        "data[~(nombres == 'Joe')] = 7\n",
        "data"
      ]
    },
    {
      "cell_type": "markdown",
      "metadata": {
        "id": "zrmJbrzXrzut"
      },
      "source": [
        ":::{exercise}\n",
        ":label: index-slicing-bool\n",
        "\n",
        "Devuelve las filas de `data` correspondientes a aquellos nombres que empiecen por \"B\" o \"J\". Puedes utilizar la función `np.char.startswith`.\n",
        "\n",
        ":::"
      ]
    },
    {
      "cell_type": "code",
      "source": [
        "nombres = np.array(['Bob', 'Joe', 'Will', 'Bob', 'Will', 'Joe', 'Joe'])\n",
        "data = rng. normal(0, 1, (7, 4))"
      ],
      "metadata": {
        "id": "f6YU3ca3Ddmj"
      },
      "execution_count": 101,
      "outputs": []
    },
    {
      "cell_type": "code",
      "source": [
        "mask = np.char.startswith(nombres, prefix=\"B\") | np.char.startswith(nombres, prefix=\"J\")\n",
        "mask.shape\n",
        "data[mask]"
      ],
      "metadata": {
        "id": "FJcjbkUxDCgZ",
        "outputId": "43722f12-b054-4246-b47c-6db19198acec",
        "colab": {
          "base_uri": "https://localhost:8080/"
        }
      },
      "execution_count": 102,
      "outputs": [
        {
          "output_type": "execute_result",
          "data": {
            "text/plain": [
              "array([[-0.40719013, -0.17361387, -0.13119235,  0.1880087 ],\n",
              "       [ 0.66339019, -0.26893589,  0.65384365,  0.27981466],\n",
              "       [ 1.1988045 ,  0.77585251, -1.03772666, -0.00400024],\n",
              "       [ 1.74870525, -1.74377746,  0.42944862, -1.51758943],\n",
              "       [-0.88344055,  1.72011202,  0.37168011,  0.38252717]])"
            ]
          },
          "metadata": {},
          "execution_count": 102
        }
      ]
    },
    {
      "cell_type": "markdown",
      "metadata": {
        "id": "J-F3ZumPNyV9"
      },
      "source": [
        ":::{exercise}\n",
        ":label: index-slicing-flip\n",
        "\n",
        "Crea una función `flip` que tome como inputs un array `arr` y un número entero positivo `i` e *invierta* el eje i-ésimo, es decir, si la dimensión del eje $i$ vale $d_i$, la transformación lleva el elemento con índice $(x_1, \\dots, x_i, \\dots, x_n)$ en $(x_1, \\dots, x_i^*, \\dots, x_n)$ donde $x_i + x_i^* = d_i + 1$\n",
        "\n",
        "Por ejemplo,\n",
        "\n",
        "```\n",
        "arr = np.arange(9).reshape((3, 3))\n",
        "arr\n",
        ">>>\n",
        "[[0 1 2]\n",
        " [3 4 5]\n",
        " [6 7 8]]\n",
        "\n",
        "flip(arr, 1)\n",
        ">>>\n",
        "[[2 1 0]\n",
        " [5 4 3]\n",
        " [8 7 6]]\n",
        "```\n",
        "\n",
        ":::"
      ]
    },
    {
      "cell_type": "code",
      "source": [
        "arr = np.arange(12).reshape((3, -1))\n",
        "\n",
        "do_nothing = slice(None)  # esto es para coger el slice por defecto\n",
        "reverse = slice(None, None, -1)\n",
        "\n",
        "print(arr)\n",
        "print(arr[do_nothing, reverse])"
      ],
      "metadata": {
        "id": "J5j9N7t6LpYk",
        "outputId": "8a633035-4940-4ef3-c3bd-adf9ec1d9494",
        "colab": {
          "base_uri": "https://localhost:8080/"
        }
      },
      "execution_count": 118,
      "outputs": [
        {
          "output_type": "stream",
          "name": "stdout",
          "text": [
            "[[ 0  1  2  3]\n",
            " [ 4  5  6  7]\n",
            " [ 8  9 10 11]]\n",
            "[[ 3  2  1  0]\n",
            " [ 7  6  5  4]\n",
            " [11 10  9  8]]\n"
          ]
        }
      ]
    },
    {
      "cell_type": "code",
      "source": [
        "def flip(arr: np.ndarray, i : int):\n",
        "  slices = (reverse if j==i else do_nothing for j in range(arr.ndim))\n",
        "  return arr[tuple(slices)]\n",
        "\n",
        "print(flip(arr, 1))"
      ],
      "metadata": {
        "id": "M2M-B8TYEEW_",
        "outputId": "7ca92fcc-cc5f-434c-c8fc-76bbdd0943a7",
        "colab": {
          "base_uri": "https://localhost:8080/"
        }
      },
      "execution_count": 119,
      "outputs": [
        {
          "output_type": "stream",
          "name": "stdout",
          "text": [
            "[[ 3  2  1  0]\n",
            " [ 7  6  5  4]\n",
            " [11 10  9  8]]\n"
          ]
        }
      ]
    }
  ],
  "metadata": {
    "colab": {
      "provenance": []
    },
    "kernelspec": {
      "display_name": "Python 3.9.1 64-bit",
      "language": "python",
      "name": "python3"
    },
    "language_info": {
      "codemirror_mode": {
        "name": "ipython",
        "version": 3
      },
      "file_extension": ".py",
      "mimetype": "text/x-python",
      "name": "python",
      "nbconvert_exporter": "python",
      "pygments_lexer": "ipython3",
      "version": "3.9.1"
    },
    "orig_nbformat": 4,
    "vscode": {
      "interpreter": {
        "hash": "397704579725e15f5c7cb49fe5f0341eb7531c82d19f2c29d197e8b64ab5776b"
      }
    }
  },
  "nbformat": 4,
  "nbformat_minor": 0
}