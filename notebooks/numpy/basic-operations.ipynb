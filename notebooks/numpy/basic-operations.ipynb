{
  "cells": [
    {
      "cell_type": "markdown",
      "metadata": {
        "id": "fjzE-bwDYXAJ"
      },
      "source": [
        "# Operaciones Básicas"
      ]
    },
    {
      "cell_type": "code",
      "execution_count": 1,
      "metadata": {
        "id": "DhreHqkpYXAN"
      },
      "outputs": [],
      "source": [
        "import numpy as np"
      ]
    },
    {
      "cell_type": "markdown",
      "metadata": {
        "id": "JGu8bHro_xof"
      },
      "source": [
        "---\n",
        "\n",
        "## Trasposición de arrays y producto matricial"
      ]
    },
    {
      "cell_type": "markdown",
      "metadata": {
        "id": "cp4ew8LU_xof"
      },
      "source": [
        "El método `T` obtiene el array traspuesto de uno dado:"
      ]
    },
    {
      "cell_type": "code",
      "execution_count": 2,
      "metadata": {
        "colab": {
          "base_uri": "https://localhost:8080/"
        },
        "id": "H1XNGohM_xog",
        "outputId": "a05ad36d-69f5-4780-d3f4-a78e2e4fdbab"
      },
      "outputs": [
        {
          "output_type": "stream",
          "name": "stdout",
          "text": [
            "[[ 0  1  2  3  4]\n",
            " [ 5  6  7  8  9]\n",
            " [10 11 12 13 14]]\n"
          ]
        }
      ],
      "source": [
        "D = np.arange(15).reshape((3, 5))\n",
        "print(D)"
      ]
    },
    {
      "cell_type": "code",
      "execution_count": 3,
      "metadata": {
        "colab": {
          "base_uri": "https://localhost:8080/"
        },
        "id": "WB4Gsyum_xog",
        "outputId": "1128d81f-1ce8-41ac-ffc3-f9ac4259ed8b"
      },
      "outputs": [
        {
          "output_type": "stream",
          "name": "stdout",
          "text": [
            "[[ 0  5 10]\n",
            " [ 1  6 11]\n",
            " [ 2  7 12]\n",
            " [ 3  8 13]\n",
            " [ 4  9 14]]\n"
          ]
        }
      ],
      "source": [
        "print(D.T)"
      ]
    },
    {
      "cell_type": "markdown",
      "source": [
        ":::{exercise}\n",
        ":label: basic-operations-transpose\n",
        "\n",
        "Utiliza la función `np.transpose` para convertir el array\n",
        "\n",
        "```\n",
        "arr = np.arange(3*7*4).reshape(3, 7, 4)\n",
        "```\n",
        "\n",
        "en un array de dimensiones `(4, 7, 3)`. ¿Se obtiene el mismo resultado si aplicamos `arr.reshape(4, 7, 3)`?\n",
        "\n",
        ":::"
      ],
      "metadata": {
        "id": "lVL8SGPqZjrq"
      }
    },
    {
      "cell_type": "code",
      "source": [
        "arr = np.arange(3*7*4).reshape(3, 7, 4)\n",
        "traspuesta = np.transpose(arr, (2,1,0))  # el segundo elemento es el orden en el que queremos que se intercambien los ejes\n",
        "dimtras = traspuesta.shape\n",
        "print(dimtras)\n",
        "arres = arr.reshape(4, 7, 3) # no obtenemos el mismo resultado"
      ],
      "metadata": {
        "id": "TYPXfLtHMw4x",
        "outputId": "5825c8f4-e58e-4123-cfc1-fcbe161eed7c",
        "colab": {
          "base_uri": "https://localhost:8080/"
        }
      },
      "execution_count": 12,
      "outputs": [
        {
          "output_type": "stream",
          "name": "stdout",
          "text": [
            "(4, 7, 3)\n"
          ]
        }
      ]
    },
    {
      "cell_type": "markdown",
      "metadata": {
        "id": "jqJYUe4o_xoh"
      },
      "source": [
        "En el cálculo matricial será de mucha utilidad el método `np.dot` de numpy, que sirve tanto para calcular el producto escalar como el producto matricial. Veamos varios usos:"
      ]
    },
    {
      "cell_type": "code",
      "execution_count": 13,
      "metadata": {
        "colab": {
          "base_uri": "https://localhost:8080/"
        },
        "id": "LeU7OxsK_xoi",
        "outputId": "0e57542a-15cb-468d-ca20-009c3c837826"
      },
      "outputs": [
        {
          "output_type": "execute_result",
          "data": {
            "text/plain": [
              "array([[-0.7558263 ,  1.19031696,  0.37990589],\n",
              "       [-0.36547311,  0.90796282, -0.56466404],\n",
              "       [ 0.74166742,  0.371182  , -0.65927578],\n",
              "       [-0.6192047 , -0.60295862,  1.2198631 ],\n",
              "       [-2.00506342, -1.54303089,  0.88677021],\n",
              "       [ 0.50302276,  2.05138212, -0.34327819]])"
            ]
          },
          "metadata": {},
          "execution_count": 13
        }
      ],
      "source": [
        "rng = np.random.default_rng()\n",
        "E = rng.normal(0, 1, (6, 3))\n",
        "E"
      ]
    },
    {
      "cell_type": "markdown",
      "metadata": {
        "id": "4jCZ7Jhk_xoi"
      },
      "source": [
        "Ejemplos de producto escalar:"
      ]
    },
    {
      "cell_type": "code",
      "execution_count": 14,
      "metadata": {
        "colab": {
          "base_uri": "https://localhost:8080/"
        },
        "id": "g_6ApuHG_xoj",
        "outputId": "42e7ba18-6b6d-491c-a6ce-3d95dd98a29f"
      },
      "outputs": [
        {
          "output_type": "execute_result",
          "data": {
            "text/plain": [
              "3.542906235237035"
            ]
          },
          "metadata": {},
          "execution_count": 14
        }
      ],
      "source": [
        "np.dot(E[:, 0], E[:, 1]) # producto escalar de dos columnas"
      ]
    },
    {
      "cell_type": "code",
      "execution_count": 15,
      "metadata": {
        "colab": {
          "base_uri": "https://localhost:8080/"
        },
        "id": "R2rT8AEu_xok",
        "outputId": "4bbc008d-450f-4f94-b3f2-7031f17cde2a"
      },
      "outputs": [
        {
          "output_type": "execute_result",
          "data": {
            "text/plain": [
              "-2.6444616231148843"
            ]
          },
          "metadata": {},
          "execution_count": 15
        }
      ],
      "source": [
        "np.dot(E[2],E[4]) # producto escalar de dos filas"
      ]
    },
    {
      "cell_type": "code",
      "source": [
        "E.shape"
      ],
      "metadata": {
        "colab": {
          "base_uri": "https://localhost:8080/"
        },
        "id": "z3J58DKQNUUo",
        "outputId": "cc802b7b-5872-43bb-8b74-e0a5aa83026d"
      },
      "execution_count": 16,
      "outputs": [
        {
          "output_type": "execute_result",
          "data": {
            "text/plain": [
              "(6, 3)"
            ]
          },
          "metadata": {},
          "execution_count": 16
        }
      ]
    },
    {
      "cell_type": "code",
      "execution_count": 20,
      "metadata": {
        "colab": {
          "base_uri": "https://localhost:8080/"
        },
        "id": "I-mC5CGJ_xok",
        "outputId": "2d3e4319-59e0-49d2-f154-5b5212c27725"
      },
      "outputs": [
        {
          "output_type": "execute_result",
          "data": {
            "text/plain": [
              "array([ 2.13245634,  1.14247854, -0.36921026,  0.21373251,  0.01567304,\n",
              "        1.93118369])"
            ]
          },
          "metadata": {},
          "execution_count": 20
        }
      ],
      "source": [
        "np.dot(E, E[0]) # producto de una matriz por un vector"
      ]
    },
    {
      "cell_type": "code",
      "execution_count": 18,
      "metadata": {
        "colab": {
          "base_uri": "https://localhost:8080/"
        },
        "id": "o9BbndEw_xok",
        "outputId": "650a60d7-1ec6-4c2f-ad71-8f8f679ac8ac"
      },
      "outputs": [
        {
          "output_type": "execute_result",
          "data": {
            "text/plain": [
              "array([[ 5.91164022,  3.54290624, -3.27578892],\n",
              "       [ 3.54290624,  9.33169904, -3.11323236],\n",
              "       [-3.27578892, -3.11323236,  3.29008582]])"
            ]
          },
          "metadata": {},
          "execution_count": 18
        }
      ],
      "source": [
        "np.dot(E.T, E)   # producto de dos matrices"
      ]
    },
    {
      "cell_type": "markdown",
      "metadata": {
        "id": "_L13myoA7dcO"
      },
      "source": [
        "Existe otro operador `matmul` (o su versión con el operador `@`) que también multiplica matrices. Se diferencian cuando los arrays son de más de dos dimensiones."
      ]
    },
    {
      "cell_type": "code",
      "execution_count": 21,
      "metadata": {
        "id": "InBxElsr9T70"
      },
      "outputs": [],
      "source": [
        "A = np.arange(3*4*5).reshape(3, 4, 5)\n",
        "B = np.arange(3*5*6).reshape(3, 5, 6)"
      ]
    },
    {
      "cell_type": "code",
      "execution_count": 22,
      "metadata": {
        "colab": {
          "base_uri": "https://localhost:8080/"
        },
        "id": "jp_b1ucR9Zlc",
        "outputId": "aa3ed383-e021-431f-b873-8aa294143c65"
      },
      "outputs": [
        {
          "output_type": "execute_result",
          "data": {
            "text/plain": [
              "(3, 4, 3, 6)"
            ]
          },
          "metadata": {},
          "execution_count": 22
        }
      ],
      "source": [
        "np.dot(A, B).shape"
      ]
    },
    {
      "cell_type": "markdown",
      "metadata": {
        "id": "w7bvx8kCCh1N"
      },
      "source": [
        "`np.dot(A, B)[x1, x2, y1, y2] = A[x1, x2, :].dot(B[y1, y2, :])`"
      ]
    },
    {
      "cell_type": "code",
      "execution_count": 23,
      "metadata": {
        "colab": {
          "base_uri": "https://localhost:8080/"
        },
        "id": "edq_pO7k98JY",
        "outputId": "daa9db0b-c927-4492-c636-479a968d1dad"
      },
      "outputs": [
        {
          "output_type": "execute_result",
          "data": {
            "text/plain": [
              "(3, 4, 6)"
            ]
          },
          "metadata": {},
          "execution_count": 23
        }
      ],
      "source": [
        "np.matmul(A, B).shape # similar a A @ B, es como el .dot pero para rangos >2"
      ]
    },
    {
      "cell_type": "markdown",
      "metadata": {
        "id": "tHnGpMSmBFmx"
      },
      "source": [
        "La diferencia radica en que `dot` es el producto escalar del último eje de A con el penúltimo de B para cada combinación de dimensiones y `matmul` considera los arrays como *arrays de matrices*, donde las dos últimas dimensiones son la parte matricial."
      ]
    },
    {
      "cell_type": "markdown",
      "metadata": {
        "id": "o20-9eVm_xol"
      },
      "source": [
        "---\n",
        "\n",
        "## Funciones universales sobre arrays (componente a componente)\n",
        "En este contexto, una función universal (o *ufunc*) es una función que actúa sobre cada componente de un array o arrays de numpy. Estas funciones son muy eficientes y se denominan *vectorizadas*. Por ejemplo:  "
      ]
    },
    {
      "cell_type": "code",
      "execution_count": 24,
      "metadata": {
        "colab": {
          "base_uri": "https://localhost:8080/"
        },
        "id": "4Z3IlMDK_xom",
        "outputId": "2ad8f968-bdf4-4440-f336-d9c943b26a43"
      },
      "outputs": [
        {
          "output_type": "execute_result",
          "data": {
            "text/plain": [
              "array([0, 1, 2, 3, 4, 5, 6, 7, 8, 9])"
            ]
          },
          "metadata": {},
          "execution_count": 24
        }
      ],
      "source": [
        "M = np.arange(10)\n",
        "M"
      ]
    },
    {
      "cell_type": "code",
      "execution_count": 25,
      "metadata": {
        "colab": {
          "base_uri": "https://localhost:8080/"
        },
        "id": "ClZPvz1H_xom",
        "outputId": "d7dafdbf-0571-4cba-9052-633cffa8d706"
      },
      "outputs": [
        {
          "output_type": "execute_result",
          "data": {
            "text/plain": [
              "array([0.        , 1.        , 1.41421356, 1.73205081, 2.        ,\n",
              "       2.23606798, 2.44948974, 2.64575131, 2.82842712, 3.        ])"
            ]
          },
          "metadata": {},
          "execution_count": 25
        }
      ],
      "source": [
        "np.sqrt(M) # raiz cuadrada de cada componente"
      ]
    },
    {
      "cell_type": "code",
      "execution_count": 26,
      "metadata": {
        "colab": {
          "base_uri": "https://localhost:8080/"
        },
        "id": "zBZakuzO_xom",
        "outputId": "786f9f95-2537-4b9f-b222-def5cf5df6d6"
      },
      "outputs": [
        {
          "output_type": "execute_result",
          "data": {
            "text/plain": [
              "array([[1.00000000e+00, 2.71828183e+00, 7.38905610e+00, 2.00855369e+01,\n",
              "        5.45981500e+01],\n",
              "       [1.48413159e+02, 4.03428793e+02, 1.09663316e+03, 2.98095799e+03,\n",
              "        8.10308393e+03]])"
            ]
          },
          "metadata": {},
          "execution_count": 26
        }
      ],
      "source": [
        "np.exp(M.reshape(2,5)) # exponencial de cad componente"
      ]
    },
    {
      "cell_type": "markdown",
      "metadata": {
        "id": "H81SR_gX_xom"
      },
      "source": [
        "Existen funciones universales que actúan sobre dos arrays, ya que realizan operaciones binarias:"
      ]
    },
    {
      "cell_type": "code",
      "execution_count": 27,
      "metadata": {
        "colab": {
          "base_uri": "https://localhost:8080/"
        },
        "id": "rRl4vHSL_xon",
        "outputId": "d2e187b7-09af-40ca-f034-fda21705f806"
      },
      "outputs": [
        {
          "output_type": "execute_result",
          "data": {
            "text/plain": [
              "(array([-0.24799849,  0.2453671 , -0.6087193 ,  0.29556914,  1.82469205,\n",
              "         1.13654211,  0.82014429, -0.36865183]),\n",
              " array([ 0.43529082, -0.50529536,  0.217431  ,  0.63387807, -0.22226536,\n",
              "         1.12273241,  0.18178307,  0.66314871]))"
            ]
          },
          "metadata": {},
          "execution_count": 27
        }
      ],
      "source": [
        "x = rng.normal(0, 1, 8)\n",
        "y = rng.normal(0, 1, 8)\n",
        "x, y"
      ]
    },
    {
      "cell_type": "code",
      "execution_count": 28,
      "metadata": {
        "colab": {
          "base_uri": "https://localhost:8080/"
        },
        "id": "PpjZ5gVq_xon",
        "outputId": "2add994a-514e-4b3d-8b16-0277dca01260"
      },
      "outputs": [
        {
          "output_type": "execute_result",
          "data": {
            "text/plain": [
              "array([0.43529082, 0.2453671 , 0.217431  , 0.63387807, 1.82469205,\n",
              "       1.13654211, 0.82014429, 0.66314871])"
            ]
          },
          "metadata": {},
          "execution_count": 28
        }
      ],
      "source": [
        "np.maximum(x, y)"
      ]
    },
    {
      "cell_type": "code",
      "execution_count": 29,
      "metadata": {
        "colab": {
          "base_uri": "https://localhost:8080/"
        },
        "id": "s9mUxgMgC_md",
        "outputId": "cdda7c53-e3fe-46ac-d4dc-944655be8322"
      },
      "outputs": [
        {
          "output_type": "execute_result",
          "data": {
            "text/plain": [
              "1.8246920468949968"
            ]
          },
          "metadata": {},
          "execution_count": 29
        }
      ],
      "source": [
        "x.max()"
      ]
    },
    {
      "cell_type": "markdown",
      "metadata": {
        "id": "mvtNlPmK_xoo"
      },
      "source": [
        "---\n",
        "\n",
        "## Expresiones condicionales vectorizadas con *where*"
      ]
    },
    {
      "cell_type": "markdown",
      "metadata": {
        "id": "uAevoLYN_xoo"
      },
      "source": [
        "Veamos cómo podemos usar un versión vectorizada de la función `if`.\n",
        "\n",
        "Veámoslo con un ejemplo. Supongamos que tenemos dos arrays (unidimensionales) numéricos y otro array booleano del mismo tamaño:"
      ]
    },
    {
      "cell_type": "code",
      "execution_count": 30,
      "metadata": {
        "id": "-XmyVeoB_xoq"
      },
      "outputs": [],
      "source": [
        "xarr = np.array([1.1, 1.2, 1.3, 1.4, 1.5])\n",
        "yarr = np.array([2.1, 2.2, 2.3, 2.4, 2.5])\n",
        "mask = np.array([True, False, True, True, False])"
      ]
    },
    {
      "cell_type": "markdown",
      "metadata": {
        "id": "4rNsHn8Y_xoq"
      },
      "source": [
        "Si quisiéramos obtener el array que en cada componente tiene el valor de `xarr` si el correspondiente en `mask` es `True`, o el valor de `yarr` si el correspondiente en `cond` es `False`, podemos hacer lo siguiente:  "
      ]
    },
    {
      "cell_type": "code",
      "execution_count": 31,
      "metadata": {
        "colab": {
          "base_uri": "https://localhost:8080/"
        },
        "id": "p3uhQOTb_xoq",
        "outputId": "a1e6800d-deda-4562-f7a7-5efe6d161d3a"
      },
      "outputs": [
        {
          "output_type": "execute_result",
          "data": {
            "text/plain": [
              "[1.1, 2.2, 1.3, 1.4, 2.5]"
            ]
          },
          "metadata": {},
          "execution_count": 31
        }
      ],
      "source": [
        "result = [(x if c else y) for x, y, c in zip(xarr, yarr, mask)]\n",
        "result"
      ]
    },
    {
      "cell_type": "markdown",
      "metadata": {
        "id": "ClV6H4-l_xor"
      },
      "source": [
        "Sin embargo, esto tiene dos problemas: no es lo suficientemente eficiente, y además no se traslada bien a arrays multidimensionales. Afortunadamente, tenemos `np.where` para hacer esto de manera conveniente:"
      ]
    },
    {
      "cell_type": "code",
      "execution_count": 32,
      "metadata": {
        "colab": {
          "base_uri": "https://localhost:8080/"
        },
        "id": "QL1hugH5_xor",
        "outputId": "d65bdbab-9e00-4461-f0cc-8e5b4303c88d"
      },
      "outputs": [
        {
          "output_type": "execute_result",
          "data": {
            "text/plain": [
              "array([1.1, 2.2, 1.3, 1.4, 2.5])"
            ]
          },
          "metadata": {},
          "execution_count": 32
        }
      ],
      "source": [
        "result = np.where(mask, xarr, yarr)\n",
        "result"
      ]
    },
    {
      "cell_type": "markdown",
      "metadata": {
        "id": "yT1CiwKV_xor"
      },
      "source": [
        "No necesariamente el segundo y el tercer argumento tiene que ser arrays. Por ejemplo:"
      ]
    },
    {
      "cell_type": "code",
      "execution_count": 33,
      "metadata": {
        "colab": {
          "base_uri": "https://localhost:8080/"
        },
        "id": "rk3stZfX_xor",
        "outputId": "73109790-60b4-4deb-9dfa-00c0b25c85a0"
      },
      "outputs": [
        {
          "output_type": "execute_result",
          "data": {
            "text/plain": [
              "(array([[-0.08378715,  0.84935084, -0.1775111 , -3.34990012],\n",
              "        [ 0.62338453, -1.22567224,  0.38584884, -1.60195045],\n",
              "        [ 0.37286756,  0.76885965, -0.8589646 , -0.65772416],\n",
              "        [ 0.17027089, -1.33076947, -1.65727984, -0.57159426]]),\n",
              " array([[-2,  2, -2, -2],\n",
              "        [ 2, -2,  2, -2],\n",
              "        [ 2,  2, -2, -2],\n",
              "        [ 2, -2, -2, -2]]))"
            ]
          },
          "metadata": {},
          "execution_count": 33
        }
      ],
      "source": [
        "F = rng.normal(0, 1, (4, 4))\n",
        "\n",
        "F, np.where(F > 0, 2, -2)  # si es >0 pon 2, sino, -2"
      ]
    },
    {
      "cell_type": "markdown",
      "metadata": {
        "id": "q42QLQka_xor"
      },
      "source": [
        "O una combinación de ambos. Por ejemplos, para modificar sólo las componentes positivas:"
      ]
    },
    {
      "cell_type": "code",
      "execution_count": 34,
      "metadata": {
        "id": "aFOvnxSz_xos",
        "outputId": "e28eb868-11e0-4518-f575-bc52470b23ec",
        "colab": {
          "base_uri": "https://localhost:8080/"
        }
      },
      "outputs": [
        {
          "output_type": "execute_result",
          "data": {
            "text/plain": [
              "array([[-0.08378715,  2.        , -0.1775111 , -3.34990012],\n",
              "       [ 2.        , -1.22567224,  2.        , -1.60195045],\n",
              "       [ 2.        ,  2.        , -0.8589646 , -0.65772416],\n",
              "       [ 2.        , -1.33076947, -1.65727984, -0.57159426]])"
            ]
          },
          "metadata": {},
          "execution_count": 34
        }
      ],
      "source": [
        "np.where(F > 0, 2, F)"
      ]
    },
    {
      "cell_type": "markdown",
      "metadata": {
        "id": "Tg3vVUJ92xTk"
      },
      "source": [
        "También existe la función `np.select` para concatenar varias máscaras consecutivas."
      ]
    },
    {
      "cell_type": "code",
      "execution_count": 35,
      "metadata": {
        "colab": {
          "base_uri": "https://localhost:8080/"
        },
        "id": "goXQ2iSx23Gz",
        "outputId": "c6265c46-dcd4-4cec-de1c-2ea2dc983e31"
      },
      "outputs": [
        {
          "output_type": "execute_result",
          "data": {
            "text/plain": [
              "array([['Frecuente', 'Frecuente', 'Frecuente', 'Poco probable'],\n",
              "       ['Frecuente', 'Algo probable', 'Frecuente', 'Algo probable'],\n",
              "       ['Frecuente', 'Frecuente', 'Frecuente', 'Frecuente'],\n",
              "       ['Frecuente', 'Algo probable', 'Algo probable', 'Frecuente']],\n",
              "      dtype='<U13')"
            ]
          },
          "metadata": {},
          "execution_count": 35
        }
      ],
      "source": [
        "np.select(\n",
        "    [np.abs(F) > 2, np.abs(F) > 1],\n",
        "    [\"Poco probable\", \"Algo probable\"],\n",
        "    \"Frecuente\"\n",
        ")"
      ]
    },
    {
      "cell_type": "markdown",
      "metadata": {
        "id": "GmH9XfUK3h3W"
      },
      "source": [
        ":::{exercise}\n",
        ":label: basic-operations-masks\n",
        "\n",
        "Crea una función que transforme un array para aplicar elemento a elemento la siguiente función\n",
        "\n",
        "$$\n",
        " f(x) = \\begin{cases}\n",
        "        \\exp(x/2)  & \\text{si } x < 0 \\\\\n",
        "        1-x & \\text{si } 0 \\leq x \\leq 1 \\\\\n",
        "        0 & \\text{si } x > 1\n",
        "        \\end{cases}\n",
        "$$\n",
        "\n",
        ":::"
      ]
    },
    {
      "cell_type": "code",
      "source": [
        "x = np.linspace(-1, 2, 100)\n",
        "\n",
        "ret = np.select(\n",
        "    [x < 0, x <=1],\n",
        "    [np.exp(x/2), 1-x],\n",
        "    0\n",
        ")\n",
        "\n",
        "print(ret)"
      ],
      "metadata": {
        "id": "UF8YRoP5Qa6d",
        "outputId": "4955f5c6-cd33-45ad-b2e7-f25a8de7a071",
        "colab": {
          "base_uri": "https://localhost:8080/"
        }
      },
      "execution_count": 43,
      "outputs": [
        {
          "output_type": "stream",
          "name": "stdout",
          "text": [
            "[0.60653066 0.61579049 0.62519169 0.63473642 0.64442686 0.65426525\n",
            " 0.66425384 0.67439493 0.68469083 0.69514393 0.70575661 0.71653131\n",
            " 0.72747051 0.73857671 0.74985248 0.76130039 0.77292307 0.78472319\n",
            " 0.79670347 0.80886665 0.82121552 0.83375292 0.84648172 0.85940486\n",
            " 0.87252529 0.88584603 0.89937014 0.91310072 0.92704092 0.94119394\n",
            " 0.95556304 0.9701515  0.98496269 1.         0.96969697 0.93939394\n",
            " 0.90909091 0.87878788 0.84848485 0.81818182 0.78787879 0.75757576\n",
            " 0.72727273 0.6969697  0.66666667 0.63636364 0.60606061 0.57575758\n",
            " 0.54545455 0.51515152 0.48484848 0.45454545 0.42424242 0.39393939\n",
            " 0.36363636 0.33333333 0.3030303  0.27272727 0.24242424 0.21212121\n",
            " 0.18181818 0.15151515 0.12121212 0.09090909 0.06060606 0.03030303\n",
            " 0.         0.         0.         0.         0.         0.\n",
            " 0.         0.         0.         0.         0.         0.\n",
            " 0.         0.         0.         0.         0.         0.\n",
            " 0.         0.         0.         0.         0.         0.\n",
            " 0.         0.         0.         0.         0.         0.\n",
            " 0.         0.         0.         0.        ]\n"
          ]
        }
      ]
    },
    {
      "cell_type": "markdown",
      "metadata": {
        "id": "Ckpno1r7_xos"
      },
      "source": [
        "---\n",
        "\n",
        "## Funciones estadísticas"
      ]
    },
    {
      "cell_type": "markdown",
      "metadata": {
        "id": "l7FniF3r_xos"
      },
      "source": [
        "Algunos métodos para calcular indicadores estadísticos sobre los elementos de un array.\n",
        "\n",
        "* `np.sum`: suma de los componentes\n",
        "* `np.mean`: media aritmética\n",
        "* `np.std` y `np.var`: desviación estándar y varianza, respectivamente.\n",
        "* `np.max` y `np.min`: máximo y mínimo, resp.\n",
        "* `np.argmin` y `np.argmax`: índices de los mínimos o máximos elementos, respectivamente.\n",
        "* `np.cumsum`: sumas acumuladas de cada componente\n",
        "\n",
        "Estos métodos también se pueden usar como atributos de los arrays. Es decir, por ejemplo `A.sum()` o `A.mean()`.\n",
        "\n",
        "Veamos algunos ejemplos, generando en primer lugar un array con elementos generados aleatoriamente (siguiendo una distribución normal):"
      ]
    },
    {
      "cell_type": "code",
      "execution_count": 44,
      "metadata": {
        "colab": {
          "base_uri": "https://localhost:8080/"
        },
        "id": "RqwacMsw_xos",
        "outputId": "6cb1e20c-4fa3-46c6-d71d-7c131ef7738c"
      },
      "outputs": [
        {
          "output_type": "execute_result",
          "data": {
            "text/plain": [
              "array([[ 1.02796199,  1.1483089 , -0.54736906, -1.1590976 ],\n",
              "       [ 0.20015704,  1.11353844, -0.19512078, -1.0371867 ],\n",
              "       [-0.36598626,  0.79861425, -0.33307728, -0.37972901],\n",
              "       [ 1.12316008,  1.17491977, -0.29491316,  0.6904108 ],\n",
              "       [ 0.13067512,  0.49220075, -0.04925034, -0.42407498]])"
            ]
          },
          "metadata": {},
          "execution_count": 44
        }
      ],
      "source": [
        "G = rng.normal(0, 1, (5, 4))\n",
        "G"
      ]
    },
    {
      "cell_type": "code",
      "execution_count": 45,
      "metadata": {
        "colab": {
          "base_uri": "https://localhost:8080/"
        },
        "id": "SErsWDj2_xot",
        "outputId": "43bb4628-a8c6-4b51-ebd8-603219033f69"
      },
      "outputs": [
        {
          "output_type": "execute_result",
          "data": {
            "text/plain": [
              "3.114141948353551"
            ]
          },
          "metadata": {},
          "execution_count": 45
        }
      ],
      "source": [
        "G.sum()"
      ]
    },
    {
      "cell_type": "code",
      "execution_count": 46,
      "metadata": {
        "colab": {
          "base_uri": "https://localhost:8080/"
        },
        "id": "Jzxdjxsv_xot",
        "outputId": "47feb0ff-f1bd-4161-b04f-ad97849bf98f"
      },
      "outputs": [
        {
          "output_type": "execute_result",
          "data": {
            "text/plain": [
              "0.15570709741767755"
            ]
          },
          "metadata": {},
          "execution_count": 46
        }
      ],
      "source": [
        "G.mean()"
      ]
    },
    {
      "cell_type": "code",
      "execution_count": 47,
      "metadata": {
        "colab": {
          "base_uri": "https://localhost:8080/"
        },
        "id": "zBO4nxz5_xot",
        "outputId": "db9747da-7278-46c4-845f-e056befe35fb"
      },
      "outputs": [
        {
          "output_type": "execute_result",
          "data": {
            "text/plain": [
              "array([1.02796199, 2.17627089, 1.62890183, 0.46980423, 0.66996127,\n",
              "       1.78349971, 1.58837893, 0.55119222, 0.18520597, 0.98382021,\n",
              "       0.65074293, 0.27101392, 1.394174  , 2.56909377, 2.27418061,\n",
              "       2.96459141, 3.09526653, 3.58746728, 3.53821693, 3.11414195])"
            ]
          },
          "metadata": {},
          "execution_count": 47
        }
      ],
      "source": [
        "G.cumsum() # por defecto, se aplana el array y se hace la suma acumulada"
      ]
    },
    {
      "cell_type": "markdown",
      "metadata": {
        "id": "DxOnfXqj_xot"
      },
      "source": [
        "Todas estas funciones se pueden aplicar a lo largo de un eje, usando el parámetro `axis`. Por ejemplos, para calcular las medias de cada fila (es decir, recorriendo en el sentido de las columnas), aplicamos `mean` por `axis=1`:"
      ]
    },
    {
      "cell_type": "code",
      "execution_count": 48,
      "metadata": {
        "colab": {
          "base_uri": "https://localhost:8080/"
        },
        "id": "rtT_ERRjNAhC",
        "outputId": "08431c56-d09c-46ae-c0fd-1c56e9e55869"
      },
      "outputs": [
        {
          "output_type": "stream",
          "name": "stdout",
          "text": [
            "[[ 1.02796199  1.1483089  -0.54736906 -1.1590976 ]\n",
            " [ 0.20015704  1.11353844 -0.19512078 -1.0371867 ]\n",
            " [-0.36598626  0.79861425 -0.33307728 -0.37972901]\n",
            " [ 1.12316008  1.17491977 -0.29491316  0.6904108 ]\n",
            " [ 0.13067512  0.49220075 -0.04925034 -0.42407498]]\n"
          ]
        }
      ],
      "source": [
        "print(G)"
      ]
    },
    {
      "cell_type": "code",
      "execution_count": 49,
      "metadata": {
        "colab": {
          "base_uri": "https://localhost:8080/"
        },
        "id": "GYSVDPSx_xot",
        "outputId": "8440d49f-58e6-4425-d609-ce0eea89787b"
      },
      "outputs": [
        {
          "output_type": "execute_result",
          "data": {
            "text/plain": [
              "array([ 0.11745106,  0.020347  , -0.07004458,  0.67339437,  0.03738763])"
            ]
          },
          "metadata": {},
          "execution_count": 49
        }
      ],
      "source": [
        "G.mean(axis=1)"
      ]
    },
    {
      "cell_type": "markdown",
      "metadata": {
        "id": "gyapEBkw_xou"
      },
      "source": [
        "Y la suma de cada columna (es decir, recorriendo las filas), con `sum` por `axis=0`:"
      ]
    },
    {
      "cell_type": "code",
      "execution_count": 50,
      "metadata": {
        "colab": {
          "base_uri": "https://localhost:8080/"
        },
        "id": "rMMwFG7s_xou",
        "outputId": "49ee2787-62e1-4bc3-b16f-b204b6c4198f"
      },
      "outputs": [
        {
          "output_type": "execute_result",
          "data": {
            "text/plain": [
              "array([ 2.11596797,  4.7275821 , -1.41973062, -2.3096775 ])"
            ]
          },
          "metadata": {},
          "execution_count": 50
        }
      ],
      "source": [
        "G.sum(axis=0)"
      ]
    },
    {
      "cell_type": "markdown",
      "metadata": {
        "id": "LlcjTwaF_xou"
      },
      "source": [
        "Suma acumulada de cada columna:"
      ]
    },
    {
      "cell_type": "code",
      "execution_count": 51,
      "metadata": {
        "colab": {
          "base_uri": "https://localhost:8080/"
        },
        "id": "YYK_Wf5A_xov",
        "outputId": "f9c9faf1-b919-45f3-8c0c-63ff4afb7c34"
      },
      "outputs": [
        {
          "output_type": "execute_result",
          "data": {
            "text/plain": [
              "array([[ 1.02796199,  1.1483089 , -0.54736906, -1.1590976 ],\n",
              "       [ 1.22811903,  2.26184734, -0.74248984, -2.1962843 ],\n",
              "       [ 0.86213277,  3.06046159, -1.07556712, -2.57601332],\n",
              "       [ 1.98529285,  4.23538135, -1.37048028, -1.88560251],\n",
              "       [ 2.11596797,  4.7275821 , -1.41973062, -2.3096775 ]])"
            ]
          },
          "metadata": {},
          "execution_count": 51
        }
      ],
      "source": [
        "G.cumsum(axis=0)"
      ]
    },
    {
      "cell_type": "markdown",
      "metadata": {
        "id": "guovNozL_xov"
      },
      "source": [
        "Dentro de cada columna, el número de fila donde se alcanza el mínimo se puede hacer asi:"
      ]
    },
    {
      "cell_type": "code",
      "execution_count": 52,
      "metadata": {
        "colab": {
          "base_uri": "https://localhost:8080/"
        },
        "id": "RAtxguTQ_xov",
        "outputId": "1dedb4df-0911-4f9d-ba0d-4dd43a37b0c3"
      },
      "outputs": [
        {
          "output_type": "execute_result",
          "data": {
            "text/plain": [
              "(array([[ 1.02796199,  1.1483089 , -0.54736906, -1.1590976 ],\n",
              "        [ 0.20015704,  1.11353844, -0.19512078, -1.0371867 ],\n",
              "        [-0.36598626,  0.79861425, -0.33307728, -0.37972901],\n",
              "        [ 1.12316008,  1.17491977, -0.29491316,  0.6904108 ],\n",
              "        [ 0.13067512,  0.49220075, -0.04925034, -0.42407498]]),\n",
              " array([2, 4, 0, 0]))"
            ]
          },
          "metadata": {},
          "execution_count": 52
        }
      ],
      "source": [
        "G, G.argmin(axis=0)"
      ]
    },
    {
      "cell_type": "markdown",
      "metadata": {
        "id": "kR4617sb_xow"
      },
      "source": [
        "---\n",
        "\n",
        "## Métodos para arrays booleanos"
      ]
    },
    {
      "cell_type": "code",
      "execution_count": 53,
      "metadata": {
        "colab": {
          "base_uri": "https://localhost:8080/"
        },
        "id": "SvguinhU_xow",
        "outputId": "4855f055-b003-4007-f292-8d6bc3e9c90b"
      },
      "outputs": [
        {
          "output_type": "execute_result",
          "data": {
            "text/plain": [
              "array([-1.23324585,  0.1481459 , -0.23880719,  1.30014116,  0.48118639,\n",
              "        0.11661846,  1.13441056,  0.44128803, -0.24774782, -0.52306348,\n",
              "       -2.07283375, -1.01400742, -0.663079  ,  0.40851752, -0.90262217,\n",
              "       -0.7550782 , -0.6794892 ,  0.8778472 ,  0.43328724,  0.19039163,\n",
              "        0.23699114, -1.36197261, -1.06110331, -0.1913695 , -0.47953272,\n",
              "        1.82688854,  2.13477152, -0.2432274 , -0.43084345, -0.20566785,\n",
              "        0.09246708,  0.42013666, -0.8325504 ,  0.07517225,  0.85986746,\n",
              "        0.51337676,  0.19847433, -0.41440488, -0.07987722,  0.49954337,\n",
              "       -1.2017334 ,  0.93594235, -0.26625821,  2.00478446, -0.10971446,\n",
              "        0.90877583,  1.1492247 , -1.61243004,  0.44427864,  1.30453258])"
            ]
          },
          "metadata": {},
          "execution_count": 53
        }
      ],
      "source": [
        "H = rng.normal(0, 1, 50)\n",
        "H"
      ]
    },
    {
      "cell_type": "markdown",
      "metadata": {
        "id": "0uh7kcVz_xow"
      },
      "source": [
        "Es bastante frecuente usar `sum` para ontar el número de veces que se cumple una condición en un array, aprovechando que `True` se identifica con 1 y `False` con 0:"
      ]
    },
    {
      "cell_type": "code",
      "execution_count": 54,
      "metadata": {
        "colab": {
          "base_uri": "https://localhost:8080/"
        },
        "id": "uaTU_BGL_xow",
        "outputId": "7cf068d0-89b5-4c45-b05d-584c34e00de1"
      },
      "outputs": [
        {
          "output_type": "execute_result",
          "data": {
            "text/plain": [
              "26"
            ]
          },
          "metadata": {},
          "execution_count": 54
        }
      ],
      "source": [
        "(H > 0).sum() # Number of positive values"
      ]
    },
    {
      "cell_type": "markdown",
      "metadata": {
        "id": "Kcv0NN8w_xox"
      },
      "source": [
        "Las funciones python `any` y `all` tienen también su correspondiente versión vectorizada. `any` se puede ver como un *or* generalizado, y `all`como un *and* generalizado:  "
      ]
    },
    {
      "cell_type": "code",
      "execution_count": 55,
      "metadata": {
        "colab": {
          "base_uri": "https://localhost:8080/"
        },
        "id": "U22cXII-_xox",
        "outputId": "24178d67-6dd1-45ca-f6f2-5cd545327072"
      },
      "outputs": [
        {
          "output_type": "execute_result",
          "data": {
            "text/plain": [
              "(True, False)"
            ]
          },
          "metadata": {},
          "execution_count": 55
        }
      ],
      "source": [
        "bools = np.array([False, False, True, False])\n",
        "bools.any(), bools.all()"
      ]
    },
    {
      "cell_type": "markdown",
      "metadata": {
        "id": "Yb8FenXR_xox"
      },
      "source": [
        "Podemos comprobar si se cumple *alguna vez* una condición entre los componentes de un array, o bien si se cumple *siempre* una condición:"
      ]
    },
    {
      "cell_type": "code",
      "execution_count": 56,
      "metadata": {
        "colab": {
          "base_uri": "https://localhost:8080/"
        },
        "id": "sc9gIiyI_xox",
        "outputId": "fd48d441-fa8a-4603-fbf1-76ae6bcb9911"
      },
      "outputs": [
        {
          "output_type": "execute_result",
          "data": {
            "text/plain": [
              "True"
            ]
          },
          "metadata": {},
          "execution_count": 56
        }
      ],
      "source": [
        "np.any(H > 0)"
      ]
    },
    {
      "cell_type": "code",
      "execution_count": 57,
      "metadata": {
        "colab": {
          "base_uri": "https://localhost:8080/"
        },
        "id": "BC9h5AcQ_xox",
        "outputId": "a66470fa-e1dd-4e95-88f0-edb7c6e0a17b"
      },
      "outputs": [
        {
          "output_type": "execute_result",
          "data": {
            "text/plain": [
              "True"
            ]
          },
          "metadata": {},
          "execution_count": 57
        }
      ],
      "source": [
        "np.all(H < 10)"
      ]
    },
    {
      "cell_type": "code",
      "execution_count": 58,
      "metadata": {
        "colab": {
          "base_uri": "https://localhost:8080/"
        },
        "id": "M7myQU5U_xox",
        "outputId": "e846f1b7-1efd-4ef2-da84-ad871c570ec6"
      },
      "outputs": [
        {
          "output_type": "execute_result",
          "data": {
            "text/plain": [
              "False"
            ]
          },
          "metadata": {},
          "execution_count": 58
        }
      ],
      "source": [
        "np.any(H > 15)"
      ]
    },
    {
      "cell_type": "code",
      "execution_count": 59,
      "metadata": {
        "colab": {
          "base_uri": "https://localhost:8080/"
        },
        "id": "c_TcAkaA_xoy",
        "outputId": "2ef25941-ad87-4faa-a71c-859f432af5d8"
      },
      "outputs": [
        {
          "output_type": "execute_result",
          "data": {
            "text/plain": [
              "False"
            ]
          },
          "metadata": {},
          "execution_count": 59
        }
      ],
      "source": [
        "np.all(H > 0)"
      ]
    },
    {
      "cell_type": "markdown",
      "metadata": {
        "id": "yZINt4hn_xoz"
      },
      "source": [
        "---\n",
        "\n",
        "## Entrada y salida de arrays en ficheros"
      ]
    },
    {
      "cell_type": "markdown",
      "metadata": {
        "id": "JLYQ5AYU_xoz"
      },
      "source": [
        "Existen una serie de utilidades para guardar el contenido de un array en un fichero y recuperarlo más tarde."
      ]
    },
    {
      "cell_type": "markdown",
      "metadata": {
        "id": "Z8N1S7Z__xo0"
      },
      "source": [
        "Las funciones `save` y `load` hacen esto. Los arrays se almacenan en archivos con extensión *npy*.  "
      ]
    },
    {
      "cell_type": "code",
      "execution_count": 60,
      "metadata": {
        "id": "zha7vUgq_xo0"
      },
      "outputs": [],
      "source": [
        "J = np.arange(10)\n",
        "np.save('un_array', J)  #se guarda en una carpeta en el indice de la izquierda para siempre a menos que las borremos"
      ]
    },
    {
      "cell_type": "code",
      "execution_count": 61,
      "metadata": {
        "colab": {
          "base_uri": "https://localhost:8080/"
        },
        "id": "jOIsSZP4_xo0",
        "outputId": "aaf7f4d2-21fb-4004-cce7-6feb848dd6ae"
      },
      "outputs": [
        {
          "output_type": "execute_result",
          "data": {
            "text/plain": [
              "array([0, 1, 2, 3, 4, 5, 6, 7, 8, 9])"
            ]
          },
          "metadata": {},
          "execution_count": 61
        }
      ],
      "source": [
        "np.load('un_array.npy')  # para cargar el archivo"
      ]
    },
    {
      "cell_type": "markdown",
      "metadata": {
        "id": "nalZQOCL_xo0"
      },
      "source": [
        "Con `savez`, podemos guardar una serie de arrays en un archivo de extensión *npz*, asociados a una serie de claves. Por ejemplo:"
      ]
    },
    {
      "cell_type": "code",
      "execution_count": 62,
      "metadata": {
        "id": "BoCuLk0M_xo0"
      },
      "outputs": [],
      "source": [
        "np.savez('array_archivo.npz', a=J, b=J**2)  # esto es un diccionario"
      ]
    },
    {
      "cell_type": "markdown",
      "metadata": {
        "id": "6MWGVriD_xo0"
      },
      "source": [
        "Cuando hacemos `load` sobre un archivo *npz*, cargamos un objeto de tipo diccionario, con el que podemos acceder (de manera perezosa) a los distintos arrays que se han almacenado:"
      ]
    },
    {
      "cell_type": "code",
      "execution_count": 63,
      "metadata": {
        "colab": {
          "base_uri": "https://localhost:8080/"
        },
        "id": "N1T21jFJ_xo0",
        "outputId": "93bfc9a6-dd41-4d93-e432-70de0d2aed34"
      },
      "outputs": [
        {
          "output_type": "execute_result",
          "data": {
            "text/plain": [
              "array([ 0,  1,  4,  9, 16, 25, 36, 49, 64, 81])"
            ]
          },
          "metadata": {},
          "execution_count": 63
        }
      ],
      "source": [
        "arch = np.load('array_archivo.npz')\n",
        "arch['b']"
      ]
    },
    {
      "cell_type": "code",
      "execution_count": 64,
      "metadata": {
        "colab": {
          "base_uri": "https://localhost:8080/"
        },
        "id": "ZcqqZjD6_xo0",
        "outputId": "10dd2ded-63e0-4368-d880-89ba720cd6b0"
      },
      "outputs": [
        {
          "output_type": "execute_result",
          "data": {
            "text/plain": [
              "array([0, 1, 2, 3, 4, 5, 6, 7, 8, 9])"
            ]
          },
          "metadata": {},
          "execution_count": 64
        }
      ],
      "source": [
        "arch['a']"
      ]
    },
    {
      "cell_type": "code",
      "execution_count": 65,
      "metadata": {
        "colab": {
          "base_uri": "https://localhost:8080/"
        },
        "id": "hXwfeVWC2mNm",
        "outputId": "e51d5763-88eb-4e1b-d946-6da03aa9cd0e"
      },
      "outputs": [
        {
          "output_type": "execute_result",
          "data": {
            "text/plain": [
              "['a', 'b']"
            ]
          },
          "metadata": {},
          "execution_count": 65
        }
      ],
      "source": [
        "list(arch)"
      ]
    },
    {
      "cell_type": "markdown",
      "metadata": {
        "id": "ztcV7ZyJ_xo0"
      },
      "source": [
        "En caso de que fuera necesario, podríamos incluso guardar incluso los datos en formato comprimido con `savez_compressed`:"
      ]
    },
    {
      "cell_type": "code",
      "execution_count": 66,
      "metadata": {
        "id": "VOacbARb_xo1"
      },
      "outputs": [],
      "source": [
        "np.savez_compressed('arrays_comprimidos.npz', a=J, b=J**2)  # archivo zip por asi decirlo"
      ]
    },
    {
      "cell_type": "code",
      "execution_count": 67,
      "metadata": {
        "colab": {
          "base_uri": "https://localhost:8080/"
        },
        "id": "EHvRoPkhOuB4",
        "outputId": "2ba798d4-682c-4935-8403-39addfa52c05"
      },
      "outputs": [
        {
          "output_type": "stream",
          "name": "stdout",
          "text": [
            "total 28K\n",
            "drwxr-xr-x 1 root root 4.0K Nov 21 19:14 .\n",
            "drwxr-xr-x 1 root root 4.0K Nov 21 18:43 ..\n",
            "-rw-r--r-- 1 root root  650 Nov 21 19:11 array_archivo.npz\n",
            "-rw-r--r-- 1 root root  424 Nov 21 19:14 arrays_comprimidos.npz\n",
            "drwxr-xr-x 4 root root 4.0K Nov 20 14:39 .config\n",
            "drwxr-xr-x 1 root root 4.0K Nov 20 14:42 sample_data\n",
            "-rw-r--r-- 1 root root  208 Nov 21 19:11 un_array.npy\n"
          ]
        }
      ],
      "source": [
        "!ls -lah  # esto es para borrar todas las carpetas q hemos creado"
      ]
    },
    {
      "cell_type": "code",
      "execution_count": 68,
      "metadata": {
        "id": "N4CZsT3s_xo2"
      },
      "outputs": [],
      "source": [
        "!rm un_array.npy\n",
        "!rm array_archivo.npz\n",
        "!rm arrays_comprimidos.npz"
      ]
    }
  ],
  "metadata": {
    "kernelspec": {
      "display_name": "Python 3.9.1 64-bit",
      "language": "python",
      "name": "python3"
    },
    "language_info": {
      "codemirror_mode": {
        "name": "ipython",
        "version": 3
      },
      "file_extension": ".py",
      "mimetype": "text/x-python",
      "name": "python",
      "nbconvert_exporter": "python",
      "pygments_lexer": "ipython3",
      "version": "3.9.1 (v3.9.1:1e5d33e9b9, Dec  7 2020, 12:10:52) \n[Clang 6.0 (clang-600.0.57)]"
    },
    "orig_nbformat": 4,
    "vscode": {
      "interpreter": {
        "hash": "397704579725e15f5c7cb49fe5f0341eb7531c82d19f2c29d197e8b64ab5776b"
      }
    },
    "colab": {
      "provenance": []
    }
  },
  "nbformat": 4,
  "nbformat_minor": 0
}