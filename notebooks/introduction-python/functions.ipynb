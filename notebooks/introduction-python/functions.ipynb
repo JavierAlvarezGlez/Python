{
  "cells": [
    {
      "cell_type": "markdown",
      "metadata": {
        "id": "ZC4U5fcR58M1"
      },
      "source": [
        "# Funciones"
      ]
    },
    {
      "cell_type": "markdown",
      "metadata": {
        "id": "qeFUhv8c58M3"
      },
      "source": [
        "Las funciones son bloques fundamentales de los programas de Python que nos permiten reutilizar trozos de código. Para definirlas utilizamos `def`"
      ]
    },
    {
      "cell_type": "code",
      "source": [
        "def add(x, y):\n",
        "    return x + y"
      ],
      "metadata": {
        "id": "SQKHPx8q8BV0"
      },
      "execution_count": 2,
      "outputs": []
    },
    {
      "cell_type": "markdown",
      "source": [
        "En la cabecera de la función (lo que definimos entre `def` y `:`) especificamos el nombre de la función y de los parámetros. El cuerpo de la función es una secuencia de declaraciones que se ejecutan cuando se llama a la función. Para ello, simplemente escribimos el nombre de la función seguido de los argumentos incluidos entre paréntesis"
      ],
      "metadata": {
        "id": "wO0TF4ZI8DUV"
      }
    },
    {
      "cell_type": "code",
      "source": [
        "a = add(2, 3)\n",
        "a"
      ],
      "metadata": {
        "id": "89jk4ORn8g_8",
        "colab": {
          "base_uri": "https://localhost:8080/"
        },
        "outputId": "0710ab93-ea2c-40b4-ecb2-7d8d65345206"
      },
      "execution_count": 5,
      "outputs": [
        {
          "output_type": "execute_result",
          "data": {
            "text/plain": [
              "5"
            ]
          },
          "metadata": {},
          "execution_count": 5
        }
      ]
    },
    {
      "cell_type": "markdown",
      "source": [
        "Si queremos que nuestra función devuelva un valor, utilizamos el comando `return`, que puede aparecer varias veces en el cuerpo de una función. Para devolver varios valores, podemos utilizar tuplas."
      ],
      "metadata": {
        "id": "6DtTKkQ7W614"
      }
    },
    {
      "cell_type": "code",
      "source": [
        "def foo():\n",
        "    return \"bar\", \"baz\""
      ],
      "metadata": {
        "id": "moSqoBmuXbYT"
      },
      "execution_count": 6,
      "outputs": []
    },
    {
      "cell_type": "code",
      "source": [
        "a, b = foo()\n",
        "s = foo()\n",
        "print(a, b)\n",
        "print(s)"
      ],
      "metadata": {
        "colab": {
          "base_uri": "https://localhost:8080/"
        },
        "id": "YzeOeM9DXnM4",
        "outputId": "2dd3f8bf-4838-4a68-e389-b300a9189934"
      },
      "execution_count": 9,
      "outputs": [
        {
          "output_type": "stream",
          "name": "stdout",
          "text": [
            "bar baz\n",
            "('bar', 'baz')\n"
          ]
        }
      ]
    },
    {
      "cell_type": "code",
      "source": [
        "def write_something():\n",
        "  print(\"Hello word\")\n"
      ],
      "metadata": {
        "id": "X_Tpj4hqEX4F"
      },
      "execution_count": 10,
      "outputs": []
    },
    {
      "cell_type": "code",
      "source": [
        "a = write_something()\n",
        "a is None"
      ],
      "metadata": {
        "colab": {
          "base_uri": "https://localhost:8080/"
        },
        "id": "_9_rl_s9Em4g",
        "outputId": "16f6c00d-daeb-47bc-b310-8463669a00a5"
      },
      "execution_count": 11,
      "outputs": [
        {
          "output_type": "stream",
          "name": "stdout",
          "text": [
            "Hello word\n"
          ]
        },
        {
          "output_type": "execute_result",
          "data": {
            "text/plain": [
              "True"
            ]
          },
          "metadata": {},
          "execution_count": 11
        }
      ]
    },
    {
      "cell_type": "markdown",
      "source": [
        "Cuando la ejecución de una función termina sin encontrar ningún return, ésta devuelve `None`."
      ],
      "metadata": {
        "id": "FdO-7Az1Xbwg"
      }
    },
    {
      "cell_type": "markdown",
      "source": [
        ":::{exercise}\n",
        ":label: functions-def\n",
        "\n",
        "Escribe una función `count_even` que acepte un argumento llamado `numbers`,  que será un iterable que contenga enteros, y devuelva cúantos son pares.  \n",
        "\n",
        ":::"
      ],
      "metadata": {
        "id": "otl55wDzbFo6"
      }
    },
    {
      "cell_type": "markdown",
      "source": [
        ":::{solution} functions-def\n",
        ":class: dropdown\n",
        "\n",
        "```\n",
        "def count_even(numbers):\n",
        "    l = len([x for x in numbers if x % 2 == 0])\n",
        "    return l\n",
        "```\n",
        "\n",
        "```\n",
        ">>> count_even([2, 3, 4, 5, 6, -2])\n",
        "4\n",
        "```\n",
        "\n",
        ":::\n"
      ],
      "metadata": {
        "id": "feeu138Uzzzw"
      }
    },
    {
      "cell_type": "markdown",
      "source": [
        "---\n",
        "## Argumentos por defecto\n",
        "\n",
        "Podemos incluir valores por defecto en los parámetros de nuestras funciones mediante asignaciones que se realizan en la cabecera de la misma."
      ],
      "metadata": {
        "id": "Os-Dl_JR8rSR"
      }
    },
    {
      "cell_type": "code",
      "source": [
        "def f(a, b=3):  #los iguales dentro de las funciones tienen que ir sin espacios\n",
        "    print(a)\n",
        "    print(b)"
      ],
      "metadata": {
        "id": "57we44Xm8wCm"
      },
      "execution_count": 15,
      "outputs": []
    },
    {
      "cell_type": "code",
      "source": [
        "f(a=2)"
      ],
      "metadata": {
        "id": "pLMDPtCtH3Ys",
        "outputId": "d62a1df3-c50f-4bec-a28c-3dafca2d76d6",
        "colab": {
          "base_uri": "https://localhost:8080/"
        }
      },
      "execution_count": 16,
      "outputs": [
        {
          "output_type": "stream",
          "name": "stdout",
          "text": [
            "2\n",
            "3\n"
          ]
        }
      ]
    },
    {
      "cell_type": "code",
      "source": [
        "f(a=2, b=1)"
      ],
      "metadata": {
        "id": "5WIyA0GgH6MR",
        "outputId": "f1dad204-dbec-4e93-c1b2-6ab88c1f4043",
        "colab": {
          "base_uri": "https://localhost:8080/"
        }
      },
      "execution_count": 17,
      "outputs": [
        {
          "output_type": "stream",
          "name": "stdout",
          "text": [
            "2\n",
            "1\n"
          ]
        }
      ]
    },
    {
      "cell_type": "markdown",
      "source": [
        "Cuando en una función definimos un parámetro con un valor por defecto, ese parámetro y todos los que le siguen son opcionales. De este modo, **es un error de sintaxis especificar un parámetro sin valor por defecto después de un parámetro con uno**. Por ejemplo,"
      ],
      "metadata": {
        "id": "Wy9emIklH8oZ"
      }
    },
    {
      "cell_type": "code",
      "source": [
        "def f(a, b, c=1, d): #los argunmentos con valores deben de ir a la derecha del todo\n",
        "    pass   # pass es una forma de decir que no haga nada con la funcion todavia, pero quiero definirla, asiq no me mandes un error"
      ],
      "metadata": {
        "id": "PjfMYiclIgJG",
        "outputId": "b64eec12-1707-4af0-ec98-e290ec109845",
        "colab": {
          "base_uri": "https://localhost:8080/",
          "height": 140
        }
      },
      "execution_count": 18,
      "outputs": [
        {
          "output_type": "error",
          "ename": "SyntaxError",
          "evalue": "ignored",
          "traceback": [
            "\u001b[0;36m  File \u001b[0;32m\"<ipython-input-18-6eed9b32205d>\"\u001b[0;36m, line \u001b[0;32m1\u001b[0m\n\u001b[0;31m    def f(a, b, c=1, d):\u001b[0m\n\u001b[0m                     ^\u001b[0m\n\u001b[0;31mSyntaxError\u001b[0m\u001b[0;31m:\u001b[0m non-default argument follows default argument\n"
          ]
        }
      ]
    },
    {
      "cell_type": "markdown",
      "source": [
        "Otra cosa importante es que **los valores por defecto se evalúan cuando se define la función, no cuando la función se llama**. Mira este ejemplo"
      ],
      "metadata": {
        "id": "AmbhRhLAIidB"
      }
    },
    {
      "cell_type": "code",
      "source": [
        "def escribe_algo():\n",
        "  print(\"foo\")\n",
        "  return"
      ],
      "metadata": {
        "id": "-XzbBl9TGBmd"
      },
      "execution_count": 21,
      "outputs": []
    },
    {
      "cell_type": "code",
      "source": [
        "def f(a=escribe_algo()):\n",
        "  print (\"Hola desde la funcion f\")"
      ],
      "metadata": {
        "colab": {
          "base_uri": "https://localhost:8080/"
        },
        "id": "QpcHI3hdGJFZ",
        "outputId": "0f1687b7-458d-4f3d-f1bf-4edc0b8f2c2e"
      },
      "execution_count": 22,
      "outputs": [
        {
          "output_type": "stream",
          "name": "stdout",
          "text": [
            "foo\n"
          ]
        }
      ]
    },
    {
      "cell_type": "code",
      "source": [
        "f()"
      ],
      "metadata": {
        "colab": {
          "base_uri": "https://localhost:8080/"
        },
        "id": "Gn6orHCEGTrd",
        "outputId": "b6316253-6fc2-48b6-ad21-b279ac9e1787"
      },
      "execution_count": 23,
      "outputs": [
        {
          "output_type": "stream",
          "name": "stdout",
          "text": [
            "Hola desde la funcion f\n"
          ]
        }
      ]
    },
    {
      "cell_type": "markdown",
      "source": [
        "Esto se denomina Memery leak, quiere decir que segun vayamos implementando cosas va a ir aumentando la lista\n"
      ],
      "metadata": {
        "id": "AgkMWKG8Gbxy"
      }
    },
    {
      "cell_type": "code",
      "source": [
        "def f(x, items=[]):  #la lista vacia es muy mala idea usarla\n",
        "    items.append(x)\n",
        "    return items\n",
        "\n",
        "a = f(1)\n",
        "b = f(2)\n",
        "c = f(3)\n",
        "print(c)"
      ],
      "metadata": {
        "id": "sXLSTv4DI-Fe",
        "outputId": "32d3e752-4417-4bf5-ae52-5d1746251e17",
        "colab": {
          "base_uri": "https://localhost:8080/"
        }
      },
      "execution_count": 24,
      "outputs": [
        {
          "output_type": "stream",
          "name": "stdout",
          "text": [
            "[1, 2, 3]\n"
          ]
        }
      ]
    },
    {
      "cell_type": "code",
      "source": [],
      "metadata": {
        "id": "2I3eurjnF-Zj"
      },
      "execution_count": 24,
      "outputs": []
    },
    {
      "cell_type": "markdown",
      "source": [
        "Por ello, es altamente recomendable usar *None* en los parámetros *vacíos o desconocidos* de nuestras funciones e incluir una comprobación.  "
      ],
      "metadata": {
        "id": "cHNVWZLbJGbn"
      }
    },
    {
      "cell_type": "code",
      "source": [
        "def f(x, items=None):  # None es para poner cualquier cosa por defecto, mucho mejor que poner la lista vacia desde un principio\n",
        "    if items is None:\n",
        "        items = []\n",
        "    items.append(x)\n",
        "    return items\n",
        "\n",
        "a = f(1)\n",
        "b = f(2)\n",
        "c = f(3)\n",
        "print(c)"
      ],
      "metadata": {
        "id": "nL5EUtdbJV07",
        "outputId": "3228cc52-49ba-4076-b4a7-4a2ac6bf02cf",
        "colab": {
          "base_uri": "https://localhost:8080/"
        }
      },
      "execution_count": 25,
      "outputs": [
        {
          "output_type": "stream",
          "name": "stdout",
          "text": [
            "[3]\n"
          ]
        }
      ]
    },
    {
      "cell_type": "markdown",
      "source": [
        "---\n",
        "## Argumentos variacionales\n",
        "\n",
        "Una función en Python puede aceptar **un número variable** de argumentos si un asterisco `*` se utiliza antes del nombre de una variable, que por convenio suele denominarse `*args`. Por ejemplo"
      ],
      "metadata": {
        "id": "2SRSV1QMJeBw"
      }
    },
    {
      "cell_type": "code",
      "source": [
        "def product(first, *args):  # las funciones no suelen tener mas de 2 argumentos, la funcion args es una dupla\n",
        "    result = first\n",
        "    for x in args:\n",
        "        result = result * x\n",
        "    return result"
      ],
      "metadata": {
        "id": "QhS_QFgK8pGT"
      },
      "execution_count": 26,
      "outputs": []
    },
    {
      "cell_type": "code",
      "source": [
        "product(10, 20)"
      ],
      "metadata": {
        "colab": {
          "base_uri": "https://localhost:8080/"
        },
        "id": "v8iHgO2a8yBs",
        "outputId": "69a85553-8c08-42bc-c48d-0142d6a48287"
      },
      "execution_count": 27,
      "outputs": [
        {
          "output_type": "execute_result",
          "data": {
            "text/plain": [
              "200"
            ]
          },
          "metadata": {},
          "execution_count": 27
        }
      ]
    },
    {
      "cell_type": "code",
      "source": [
        "product(10, 20, 4)"
      ],
      "metadata": {
        "colab": {
          "base_uri": "https://localhost:8080/"
        },
        "id": "c0A-xxXO872c",
        "outputId": "1c68fbb9-0ff4-4ad1-bace-8bda307f20a2"
      },
      "execution_count": 29,
      "outputs": [
        {
          "output_type": "execute_result",
          "data": {
            "text/plain": [
              "800"
            ]
          },
          "metadata": {},
          "execution_count": 29
        }
      ]
    },
    {
      "cell_type": "markdown",
      "source": [
        "En este caso, todos los argumentos extra se localizan en la variable `args` como una tupla. Podemos por lo tanto trabajar con los argumentos utilizando las operaciones estándar de secuencias: iteración, slicing, desempaquetado etc."
      ],
      "metadata": {
        "id": "3akJA4bp89Sj"
      }
    },
    {
      "cell_type": "markdown",
      "source": [
        "---\n",
        "## Argumentos nombrados y posicionales\n",
        "\n",
        "Los argumentos de las funciones también pueden nombrarse explícitamente para cada parámetro cuando son invocadas, además en ese caso el orden de los argumentos no importa siempre que cada uno tome **un único valor**"
      ],
      "metadata": {
        "id": "gP8QRmvk9ufh"
      }
    },
    {
      "cell_type": "code",
      "source": [
        "def f(w, x, y, z):\n",
        "    pass"
      ],
      "metadata": {
        "id": "kCG7x19U-YrW"
      },
      "execution_count": 30,
      "outputs": []
    },
    {
      "cell_type": "markdown",
      "source": [
        "Podemos llamarla como `f(x=3, y=22, w=\"foo\", z=[1, 2])` y alterar el orden. Los argumentos en los que explicitamos el nombre son denominados **argumentos nombrados** y el resto **argumentos posicionales**. Si combinamos ambos, tendremos que tener en cuenta que los posicionales deben ir siempre primero y que ningún argumento reciba más de un valor. Por ejemplo"
      ],
      "metadata": {
        "id": "RM1oyfWv-bna"
      }
    },
    {
      "cell_type": "code",
      "source": [
        "# ✅\n",
        "f(\"foo\", 3, z=[1, 2], y=22) # los valores puedo modificarlos siempre y cuando los vuelva a llamar"
      ],
      "metadata": {
        "id": "UiTSwCzN_Lyv"
      },
      "execution_count": 31,
      "outputs": []
    },
    {
      "cell_type": "code",
      "source": [
        "# ❌\n",
        "f(3, 22, w=\"foo\", z=[1, 2])  # si quiero cambiar el orden tengo q escribirlos es su sitio la nueva variable que defina"
      ],
      "metadata": {
        "colab": {
          "base_uri": "https://localhost:8080/",
          "height": 193
        },
        "id": "8oAPcGjq_LJT",
        "outputId": "a63b1df1-73a7-4c47-a109-445d664114d8"
      },
      "execution_count": 32,
      "outputs": [
        {
          "output_type": "error",
          "ename": "TypeError",
          "evalue": "ignored",
          "traceback": [
            "\u001b[0;31m---------------------------------------------------------------------------\u001b[0m",
            "\u001b[0;31mTypeError\u001b[0m                                 Traceback (most recent call last)",
            "\u001b[0;32m<ipython-input-32-79c55e15d211>\u001b[0m in \u001b[0;36m<cell line: 2>\u001b[0;34m()\u001b[0m\n\u001b[1;32m      1\u001b[0m \u001b[0;31m# ❌\u001b[0m\u001b[0;34m\u001b[0m\u001b[0;34m\u001b[0m\u001b[0m\n\u001b[0;32m----> 2\u001b[0;31m \u001b[0mf\u001b[0m\u001b[0;34m(\u001b[0m\u001b[0;36m3\u001b[0m\u001b[0;34m,\u001b[0m \u001b[0;36m22\u001b[0m\u001b[0;34m,\u001b[0m \u001b[0mw\u001b[0m\u001b[0;34m=\u001b[0m\u001b[0;34m\"foo\"\u001b[0m\u001b[0;34m,\u001b[0m \u001b[0mz\u001b[0m\u001b[0;34m=\u001b[0m\u001b[0;34m[\u001b[0m\u001b[0;36m1\u001b[0m\u001b[0;34m,\u001b[0m \u001b[0;36m2\u001b[0m\u001b[0;34m]\u001b[0m\u001b[0;34m)\u001b[0m\u001b[0;34m\u001b[0m\u001b[0;34m\u001b[0m\u001b[0m\n\u001b[0m",
            "\u001b[0;31mTypeError\u001b[0m: f() got multiple values for argument 'w'"
          ]
        }
      ]
    },
    {
      "cell_type": "markdown",
      "source": [
        "Podemos obligar al uso de argumentos nombrados en nuestras funciones añadiendo argumentos tras un asterisco `*`. Por ejemplo"
      ],
      "metadata": {
        "id": "V26t47LW_mMW"
      }
    },
    {
      "cell_type": "code",
      "source": [
        "def product(first, *args, scale=1):\n",
        "    result = first * scale\n",
        "    for x in args:\n",
        "        result = result * x\n",
        "    return result"
      ],
      "metadata": {
        "id": "TUgpICtoALtp"
      },
      "execution_count": 33,
      "outputs": []
    },
    {
      "cell_type": "code",
      "source": [
        "def read_data(filename, *, debug=False):\n",
        "    pass"
      ],
      "metadata": {
        "id": "oqyjsqKwAPno"
      },
      "execution_count": 34,
      "outputs": []
    },
    {
      "cell_type": "code",
      "source": [
        "data = read_data(\"Data.csv\", True)"
      ],
      "metadata": {
        "colab": {
          "base_uri": "https://localhost:8080/",
          "height": 175
        },
        "id": "suy0IhLSA3JI",
        "outputId": "756e479f-0947-4cdb-8ce5-0709ccbacfc3"
      },
      "execution_count": 35,
      "outputs": [
        {
          "output_type": "error",
          "ename": "TypeError",
          "evalue": "ignored",
          "traceback": [
            "\u001b[0;31m---------------------------------------------------------------------------\u001b[0m",
            "\u001b[0;31mTypeError\u001b[0m                                 Traceback (most recent call last)",
            "\u001b[0;32m<ipython-input-35-875c77499821>\u001b[0m in \u001b[0;36m<cell line: 1>\u001b[0;34m()\u001b[0m\n\u001b[0;32m----> 1\u001b[0;31m \u001b[0mdata\u001b[0m \u001b[0;34m=\u001b[0m \u001b[0mread_data\u001b[0m\u001b[0;34m(\u001b[0m\u001b[0;34m\"Data.csv\"\u001b[0m\u001b[0;34m,\u001b[0m \u001b[0;32mTrue\u001b[0m\u001b[0;34m)\u001b[0m\u001b[0;34m\u001b[0m\u001b[0;34m\u001b[0m\u001b[0m\n\u001b[0m",
            "\u001b[0;31mTypeError\u001b[0m: read_data() takes 1 positional argument but 2 were given"
          ]
        }
      ]
    },
    {
      "cell_type": "code",
      "source": [
        "data = read_data(\"Data.csv\", debug=True)"
      ],
      "metadata": {
        "id": "Msp9fh-OA8Xn"
      },
      "execution_count": 36,
      "outputs": []
    },
    {
      "cell_type": "markdown",
      "source": [
        "---\n",
        "## Argumentos variacionales nombrados\n",
        "Si el último argumento de una función tiene el prefijo `**`, todos los argumentos nombrados que no coincidan con los anteriormente definidos se guardarán en un diccionario que se pasa a la función, que por convenio suele llamarse `kwargs`."
      ],
      "metadata": {
        "id": "l2jVuGReA_UJ"
      }
    },
    {
      "cell_type": "code",
      "source": [
        "def make_table(data, **kwargs):\n",
        "\n",
        "    font_color = kwargs.pop(\"font_color\", \"black\")\n",
        "    bg_color = kwargs.pop(\"bg_color\", \"white\")\n",
        "    width = kwargs.pop(\"width\", None)\n",
        "    # otros argumentos...\n",
        "    if kwargs:\n",
        "        # lanza un error si hay otras configuraciones\n",
        "        pass"
      ],
      "metadata": {
        "id": "cdrTzSPKGUUM"
      },
      "execution_count": 37,
      "outputs": []
    },
    {
      "cell_type": "markdown",
      "source": [
        "Combinando el uso de `*` y `**` podemos escribir funciones que aceptan cualquier combinación de argumentos. Los argumentos posicionales son pasado como una tupla y los nombrados como un diccionario"
      ],
      "metadata": {
        "id": "4tdw76h9Hc9E"
      }
    },
    {
      "cell_type": "code",
      "source": [
        "def f(*args, **kwargs):\n",
        "    print(args)  # argumentos posicionales\n",
        "    print(kwargs)  # argumentos nombrados"
      ],
      "metadata": {
        "id": "C8aWZaZfH7_-"
      },
      "execution_count": 38,
      "outputs": []
    },
    {
      "cell_type": "code",
      "source": [
        "f(3, 2, a=\"foo\", debug=False, foo=True)"
      ],
      "metadata": {
        "id": "63fgBOaEID-k",
        "outputId": "18cce0cf-304b-4d78-aa1b-897bd7ec7a1a",
        "colab": {
          "base_uri": "https://localhost:8080/"
        }
      },
      "execution_count": 40,
      "outputs": [
        {
          "output_type": "stream",
          "name": "stdout",
          "text": [
            "(3, 2)\n",
            "{'a': 'foo', 'debug': False, 'foo': True}\n"
          ]
        }
      ]
    },
    {
      "cell_type": "markdown",
      "source": [
        "Es posible pasar los argumentos a una función en formato de tupla o diccionario usando `*` y `**` respectivamente"
      ],
      "metadata": {
        "id": "4hikfr-3KBBm"
      }
    },
    {
      "cell_type": "code",
      "source": [
        "def f(x, y, z):\n",
        "    pass\n",
        "\n",
        "s = (1, \"foo\", [0, 1])\n",
        "\n",
        "d = {\n",
        "    \"x\": 1,\n",
        "    \"y\": \"foo\",\n",
        "    \"z\": [0, 1]\n",
        "}\n",
        "\n",
        "f(*s)\n",
        "f(**d)"
      ],
      "metadata": {
        "id": "bW8gird3KEYE"
      },
      "execution_count": 41,
      "outputs": []
    },
    {
      "cell_type": "markdown",
      "source": [
        ":::{exercise}\n",
        ":label: functions-recursive\n",
        "\n",
        "Dado un entero positivo $n$, consideremos la siguiente función\n",
        "\n",
        "$$\n",
        "f(n) =  \\begin{cases}\n",
        "      n / 2, & \\text{si }\\ n\\text{ es par} \\\\\n",
        "      3n + 1, & \\text{en caso contrario.}\n",
        "\\end{cases}\n",
        "$$\n",
        "\n",
        "Definimos **la órbita de $n$** como el conjunto de enteros que se obtienen al aplicar reiteradamente $f$ hasta obtener 1. Escribe una función `collatz` que acepte un número arbitrario de enteros y devuelva un diccionario donde las claves sean los enteros y los valores listas con sus correspondientes órbitas.\n",
        "\n",
        "> La [Conjetura de Collatz](https://en.wikipedia.org/wiki/Collatz_conjecture) propone que todo entero tiene una órbita finita.\n",
        "\n",
        ":::"
      ],
      "metadata": {
        "id": "bQKFhxM0cfvf"
      }
    },
    {
      "cell_type": "code",
      "source": [
        "def orbita_de(n):\n",
        "  l = []\n",
        "  while n > 1:\n",
        "    l.append(n)\n",
        "    if n % 2 == 0:\n",
        "      n = n // 2\n",
        "    else:\n",
        "      n = 3*n + 1\n",
        "  l.append(1)\n",
        "  return l\n",
        "\n",
        "\n",
        "def collatz(*args):\n",
        "  ret = {n: orbita_de(n) for n in args}\n",
        "  return ret\n",
        "\n",
        "print(orbita_de(17))\n",
        "print(orbita_de(29))\n",
        "print(orbita_de(47))"
      ],
      "metadata": {
        "colab": {
          "base_uri": "https://localhost:8080/"
        },
        "id": "PW8yxyRDJ0JH",
        "outputId": "b13ae7a0-8f6d-4508-dc24-3faf27c4d0c9"
      },
      "execution_count": 57,
      "outputs": [
        {
          "output_type": "stream",
          "name": "stdout",
          "text": [
            "[17, 52, 26, 13, 40, 20, 10, 5, 16, 8, 4, 2, 1]\n",
            "[29, 88, 44, 22, 11, 34, 17, 52, 26, 13, 40, 20, 10, 5, 16, 8, 4, 2, 1]\n",
            "[47, 142, 71, 214, 107, 322, 161, 484, 242, 121, 364, 182, 91, 274, 137, 412, 206, 103, 310, 155, 466, 233, 700, 350, 175, 526, 263, 790, 395, 1186, 593, 1780, 890, 445, 1336, 668, 334, 167, 502, 251, 754, 377, 1132, 566, 283, 850, 425, 1276, 638, 319, 958, 479, 1438, 719, 2158, 1079, 3238, 1619, 4858, 2429, 7288, 3644, 1822, 911, 2734, 1367, 4102, 2051, 6154, 3077, 9232, 4616, 2308, 1154, 577, 1732, 866, 433, 1300, 650, 325, 976, 488, 244, 122, 61, 184, 92, 46, 23, 70, 35, 106, 53, 160, 80, 40, 20, 10, 5, 16, 8, 4, 2, 1]\n"
          ]
        }
      ]
    },
    {
      "cell_type": "markdown",
      "source": [
        ":::{solution} functions-recursive\n",
        ":class: dropdown\n",
        "\n",
        "```\n",
        "def compute_orbit(n):\n",
        "    l = []\n",
        "    while n > 1:\n",
        "        l.append(n)\n",
        "        if n % 2 == 0:\n",
        "            n = n // 2\n",
        "        else:\n",
        "            n = 3*n + 1\n",
        "    l.append(1)\n",
        "    return l\n",
        "\n",
        "def collatz(*args):\n",
        "    ret = {n:compute_orbit(n) for n in args}\n",
        "    return ret\n",
        "```\n",
        "\n",
        ":::\n"
      ],
      "metadata": {
        "id": "okGKDzMf2F7D"
      }
    },
    {
      "cell_type": "code",
      "source": [
        "ret = collatz(3,6,17,8)\n",
        "print(ret)"
      ],
      "metadata": {
        "colab": {
          "base_uri": "https://localhost:8080/"
        },
        "id": "wq4XhWN1MhWr",
        "outputId": "4c57bd1c-555f-4617-ff81-a80de31240aa"
      },
      "execution_count": 58,
      "outputs": [
        {
          "output_type": "stream",
          "name": "stdout",
          "text": [
            "{3: [3, 10, 5, 16, 8, 4, 2, 1], 6: [6, 3, 10, 5, 16, 8, 4, 2, 1], 17: [17, 52, 26, 13, 40, 20, 10, 5, 16, 8, 4, 2, 1], 8: [8, 4, 2, 1]}\n"
          ]
        }
      ]
    },
    {
      "cell_type": "markdown",
      "source": [
        "---\n",
        "## Nombres, Documentación e indicaciones de tipado\n",
        "\n",
        "La convención estándar para nombrar funciones es utilizar *snake_case*, al igual que en las variables. Si se pretende que una función no sea utilizada directamente, si no que implementa algún tipo de detalle interno en nuestro programa, se suele empezar el nombre de la variable por un guión bajo."
      ],
      "metadata": {
        "id": "xFtZd4TLqLz3"
      }
    },
    {
      "cell_type": "markdown",
      "source": [
        "Como todo lo que definimos en Python, **las funciones también son objetos**, y tienen una serie de atributos que es importante conocer."
      ],
      "metadata": {
        "id": "VKG4kIcosAZB"
      }
    },
    {
      "cell_type": "code",
      "source": [
        "def square(x):\n",
        "    return x * x"
      ],
      "metadata": {
        "id": "2oxXZmynsOhw"
      },
      "execution_count": 59,
      "outputs": []
    },
    {
      "cell_type": "code",
      "source": [
        "# Para hacer funciones que no se usen fuera de nuestro codigo solo hay que empezar las funciones por un _"
      ],
      "metadata": {
        "id": "3HRsyV3YNGqC"
      },
      "execution_count": null,
      "outputs": []
    },
    {
      "cell_type": "markdown",
      "source": [
        "El nombre de la función queda guardado en el atributo `__name__`."
      ],
      "metadata": {
        "id": "4wR1gbOdzxXw"
      }
    },
    {
      "cell_type": "code",
      "source": [
        "square.__name__"
      ],
      "metadata": {
        "colab": {
          "base_uri": "https://localhost:8080/",
          "height": 35
        },
        "id": "9zHWfGQOz7qS",
        "outputId": "32330687-15a0-4f69-f31c-836cc6d7831a"
      },
      "execution_count": 60,
      "outputs": [
        {
          "output_type": "execute_result",
          "data": {
            "text/plain": [
              "'square'"
            ],
            "application/vnd.google.colaboratory.intrinsic+json": {
              "type": "string"
            }
          },
          "metadata": {},
          "execution_count": 60
        }
      ]
    },
    {
      "cell_type": "markdown",
      "source": [
        "Es común que la primera expresión que aparece en una función sea una cadena describiendo su uso. Por ejemplo,"
      ],
      "metadata": {
        "id": "xAezX3RGz9aR"
      }
    },
    {
      "cell_type": "code",
      "source": [
        "def factorial(n):  # Cadena de documentacion, que se almacena en una varibale especial llamada doc\n",
        "    \"\"\"\n",
        "    Calcula el factorial de n. Por ejemplo,\n",
        "\n",
        "    >>> factorial(6)\n",
        "    120\n",
        "    \"\"\"\n",
        "    if n <= 1:\n",
        "        return 1\n",
        "    else:\n",
        "        return n*factorial(n-1)"
      ],
      "metadata": {
        "id": "kCTd00Jg0HyY"
      },
      "execution_count": 61,
      "outputs": []
    },
    {
      "cell_type": "markdown",
      "source": [
        "La variable de tipo `str` que guarda la documentación está en el atributo `__doc__` de la función. A menudo es consultado por jupyter o IDEs para mostrarla al usuario."
      ],
      "metadata": {
        "id": "X84g3Ed60b56"
      }
    },
    {
      "cell_type": "code",
      "source": [
        "print(factorial.__doc__)"
      ],
      "metadata": {
        "colab": {
          "base_uri": "https://localhost:8080/"
        },
        "id": "a3lSjmY606eJ",
        "outputId": "0228e50f-46a4-4331-9dbd-5c5867139260"
      },
      "execution_count": 62,
      "outputs": [
        {
          "output_type": "stream",
          "name": "stdout",
          "text": [
            "\n",
            "    Calcula el factorial de n. Por ejemplo,  \n",
            "\n",
            "    >>> factorial(6)\n",
            "    120\n",
            "    \n"
          ]
        }
      ]
    },
    {
      "cell_type": "markdown",
      "source": [
        "> Python soporta **funciones recursivas**, es decir, funciones que se llaman a sí mismas. `factorial` es un ejemplo de función recursiva."
      ],
      "metadata": {
        "id": "4PViDUrkYXDc"
      }
    },
    {
      "cell_type": "markdown",
      "source": [
        "También se pueden realizar anotaciones sobre el tipado de los argumentos y del valor a devolver por la función. Como ya vimos, este tipo de indicaciones **son totalmente ignoradas por el intérprete de Python**, solo sirven para herramientas como [pylint](https://pylint.pycqa.org/en/latest/) que comprueban la consistencia de nuestro código sin ejecutarlo."
      ],
      "metadata": {
        "id": "t1jyEZfU076n"
      }
    },
    {
      "cell_type": "code",
      "source": [
        "def factorial(n: int) -> int:  # estos int son para nosotros, python los ignora por completo\n",
        "    if n <= 1:\n",
        "        return 1\n",
        "    else:\n",
        "        return n * factorial(n - 1)"
      ],
      "metadata": {
        "id": "i45MorIb2uIu"
      },
      "execution_count": 66,
      "outputs": []
    },
    {
      "cell_type": "code",
      "source": [
        "def factorial(n: str) -> None:  # estos int son para nosotros, python los ignora por completo, le da igual si las cambiamos\n",
        "    if n <= 1:\n",
        "        return 1\n",
        "    else:\n",
        "        return n * factorial(n - 1)"
      ],
      "metadata": {
        "id": "hn7eMZXSOJeI"
      },
      "execution_count": 64,
      "outputs": []
    },
    {
      "cell_type": "markdown",
      "source": [
        "Esta información queda guardada en forma de diccionario en el atributo `__annotations__`."
      ],
      "metadata": {
        "id": "EcUdqcCI25Xh"
      }
    },
    {
      "cell_type": "code",
      "source": [
        "factorial.__annotations__  # Aqui si tienen que estar bien puesto las anotaciones, esto sirve principalmente para corregir cuando hemos puesto alguna mal"
      ],
      "metadata": {
        "colab": {
          "base_uri": "https://localhost:8080/"
        },
        "id": "nGXFQV2eOa9i",
        "outputId": "1261482f-fdf6-4bfe-f56c-3444e0a96006"
      },
      "execution_count": 67,
      "outputs": [
        {
          "output_type": "execute_result",
          "data": {
            "text/plain": [
              "{'n': int, 'return': int}"
            ]
          },
          "metadata": {},
          "execution_count": 67
        }
      ]
    },
    {
      "cell_type": "markdown",
      "source": [
        "---\n",
        "## Llamadas a la función y alcance\n",
        "\n",
        "Cuando definimos una función, Python crea los objetos definidos en los parámetros por defecto y las respectivas variables en el espacio de nombres local de la función que apuntan a los mismos."
      ],
      "metadata": {
        "id": "j-I1Jk3v-nY4"
      }
    },
    {
      "cell_type": "code",
      "source": [
        "def init_foo():\n",
        "    print(\"foo\")\n",
        "    return 0"
      ],
      "metadata": {
        "id": "uRACiovsHCvf"
      },
      "execution_count": 68,
      "outputs": []
    },
    {
      "cell_type": "code",
      "source": [
        "def f(arg1=1, arg2=init_foo()):\n",
        "    print(a, b)"
      ],
      "metadata": {
        "colab": {
          "base_uri": "https://localhost:8080/"
        },
        "id": "rsqPCr3OHOkM",
        "outputId": "48165ac0-dc8e-41cc-e0fc-684f3fd795c8"
      },
      "execution_count": 69,
      "outputs": [
        {
          "output_type": "stream",
          "name": "stdout",
          "text": [
            "foo\n"
          ]
        }
      ]
    },
    {
      "cell_type": "code",
      "source": [
        "arg1"
      ],
      "metadata": {
        "colab": {
          "base_uri": "https://localhost:8080/",
          "height": 175
        },
        "id": "4xt9UIhJHpqh",
        "outputId": "e40ae7dc-7041-415e-96a4-9fae8478e159"
      },
      "execution_count": 70,
      "outputs": [
        {
          "output_type": "error",
          "ename": "NameError",
          "evalue": "ignored",
          "traceback": [
            "\u001b[0;31m---------------------------------------------------------------------------\u001b[0m",
            "\u001b[0;31mNameError\u001b[0m                                 Traceback (most recent call last)",
            "\u001b[0;32m<ipython-input-70-42cd4c5c2b13>\u001b[0m in \u001b[0;36m<cell line: 1>\u001b[0;34m()\u001b[0m\n\u001b[0;32m----> 1\u001b[0;31m \u001b[0marg1\u001b[0m\u001b[0;34m\u001b[0m\u001b[0;34m\u001b[0m\u001b[0m\n\u001b[0m",
            "\u001b[0;31mNameError\u001b[0m: name 'arg1' is not defined"
          ]
        }
      ]
    },
    {
      "cell_type": "markdown",
      "source": [
        "Cuando se realiza una llamada a una función, los parámetros (por defecto o no) pasan a ser variables que apuntan a los objetos de entrada de la función. Python crea estas referencias directamente, **sin realizar ningún tipo de copiado**, por ello hay que tener especial precaución con los objetos mutables que se pasan en la llamada de una función.  "
      ],
      "metadata": {
        "id": "BnMzzhVkIO7p"
      }
    },
    {
      "cell_type": "code",
      "source": [
        "def square(items):\n",
        "    for i, x in enumerate(items):\n",
        "        items[i] = x * x\n",
        "    return items"
      ],
      "metadata": {
        "id": "war4c9_gI8-6"
      },
      "execution_count": 72,
      "outputs": []
    },
    {
      "cell_type": "code",
      "source": [
        "a = [1, 2, 3, 4, 5]\n",
        "square(a)"
      ],
      "metadata": {
        "colab": {
          "base_uri": "https://localhost:8080/"
        },
        "id": "5GtKhCn3JBkm",
        "outputId": "ae34130b-1eee-4a12-d0dd-c6304a411a66"
      },
      "execution_count": 73,
      "outputs": [
        {
          "output_type": "execute_result",
          "data": {
            "text/plain": [
              "[1, 4, 9, 16, 25]"
            ]
          },
          "metadata": {},
          "execution_count": 73
        }
      ]
    },
    {
      "cell_type": "code",
      "source": [
        "a"
      ],
      "metadata": {
        "colab": {
          "base_uri": "https://localhost:8080/"
        },
        "id": "w3sG20IEJLLz",
        "outputId": "e31a563d-959f-418e-d944-6487c5e094ee"
      },
      "execution_count": 74,
      "outputs": [
        {
          "output_type": "execute_result",
          "data": {
            "text/plain": [
              "[1, 4, 9, 16, 25]"
            ]
          },
          "metadata": {},
          "execution_count": 74
        }
      ]
    },
    {
      "cell_type": "markdown",
      "source": [
        "Las funciones que mutan los objetos de entrada o que cambian el estado de otras partes del programa, se dice que tienen *side effects*. Un indicardor importante para identificarlas es que normalmente estas funciones no devuelven ningún valor. Se puede evitar este tipo de comportamiento en las funciones reasignando el nombre de la variable local."
      ],
      "metadata": {
        "id": "6HBMkvBUJLhD"
      }
    },
    {
      "cell_type": "code",
      "source": [
        "def square_nse(items):\n",
        "    # Nada de side-effects\n",
        "    items = [x * x for x in items]\n",
        "    return items"
      ],
      "metadata": {
        "id": "NcD3SA2eLIvG"
      },
      "execution_count": 75,
      "outputs": []
    },
    {
      "cell_type": "code",
      "source": [
        "a = [1, 2, 3, 4, 5]\n",
        "square(a)"
      ],
      "metadata": {
        "colab": {
          "base_uri": "https://localhost:8080/"
        },
        "id": "e5SQOLtiLZdT",
        "outputId": "5eb6b6fd-c575-49f8-d87e-33c5c8a19b84"
      },
      "execution_count": 76,
      "outputs": [
        {
          "output_type": "execute_result",
          "data": {
            "text/plain": [
              "[1, 4, 9, 16, 25]"
            ]
          },
          "metadata": {},
          "execution_count": 76
        }
      ]
    },
    {
      "cell_type": "code",
      "source": [
        "a"
      ],
      "metadata": {
        "colab": {
          "base_uri": "https://localhost:8080/"
        },
        "id": "hDgm2GxrLbMh",
        "outputId": "491e0382-2648-4939-f9d4-054e74938b9c"
      },
      "execution_count": 77,
      "outputs": [
        {
          "output_type": "execute_result",
          "data": {
            "text/plain": [
              "[1, 4, 9, 16, 25]"
            ]
          },
          "metadata": {},
          "execution_count": 77
        }
      ]
    },
    {
      "cell_type": "markdown",
      "source": [
        "Cada vez que ejecutamos una función se crea **un espacio de nombres local**, que es un entorno que contiene el nombre y los valores de los parámetros de la fucnión así como variables que son asignadas dentro de la función. Las variables no definidas en el espacio local de una función son buscadas de forma dinámica (es decir, durante la ejecución de la función cuando es llamada) en el espacio global de nombres.\n",
        "\n",
        "En este contexto son dos los tipos de errores que nos podemos encontrar\n",
        "- `UnboundedLocalError`: variable local que todavía no ha sido asignada.\n",
        "- `NameError`: se menciona una variable que no está ni el espacio de nombres local ni global.\n",
        "\n",
        "\n",
        "Considera los siguientes ejemplos"
      ],
      "metadata": {
        "id": "PIWuAV9BMOu8"
      }
    },
    {
      "cell_type": "code",
      "source": [
        "def f():\n",
        "    n = n + 1\n",
        "\n",
        "f()"
      ],
      "metadata": {
        "colab": {
          "base_uri": "https://localhost:8080/",
          "height": 314
        },
        "id": "YbrdTBZmSPh-",
        "outputId": "d2fe7d3c-db75-4289-d2ac-a834addd8828"
      },
      "execution_count": 78,
      "outputs": [
        {
          "output_type": "error",
          "ename": "UnboundLocalError",
          "evalue": "ignored",
          "traceback": [
            "\u001b[0;31m---------------------------------------------------------------------------\u001b[0m",
            "\u001b[0;31mUnboundLocalError\u001b[0m                         Traceback (most recent call last)",
            "\u001b[0;32m<ipython-input-78-d227933f6b14>\u001b[0m in \u001b[0;36m<cell line: 4>\u001b[0;34m()\u001b[0m\n\u001b[1;32m      2\u001b[0m     \u001b[0mn\u001b[0m \u001b[0;34m=\u001b[0m \u001b[0mn\u001b[0m \u001b[0;34m+\u001b[0m \u001b[0;36m1\u001b[0m\u001b[0;34m\u001b[0m\u001b[0;34m\u001b[0m\u001b[0m\n\u001b[1;32m      3\u001b[0m \u001b[0;34m\u001b[0m\u001b[0m\n\u001b[0;32m----> 4\u001b[0;31m \u001b[0mf\u001b[0m\u001b[0;34m(\u001b[0m\u001b[0;34m)\u001b[0m\u001b[0;34m\u001b[0m\u001b[0;34m\u001b[0m\u001b[0m\n\u001b[0m",
            "\u001b[0;32m<ipython-input-78-d227933f6b14>\u001b[0m in \u001b[0;36mf\u001b[0;34m()\u001b[0m\n\u001b[1;32m      1\u001b[0m \u001b[0;32mdef\u001b[0m \u001b[0mf\u001b[0m\u001b[0;34m(\u001b[0m\u001b[0;34m)\u001b[0m\u001b[0;34m:\u001b[0m\u001b[0;34m\u001b[0m\u001b[0;34m\u001b[0m\u001b[0m\n\u001b[0;32m----> 2\u001b[0;31m     \u001b[0mn\u001b[0m \u001b[0;34m=\u001b[0m \u001b[0mn\u001b[0m \u001b[0;34m+\u001b[0m \u001b[0;36m1\u001b[0m\u001b[0;34m\u001b[0m\u001b[0;34m\u001b[0m\u001b[0m\n\u001b[0m\u001b[1;32m      3\u001b[0m \u001b[0;34m\u001b[0m\u001b[0m\n\u001b[1;32m      4\u001b[0m \u001b[0mf\u001b[0m\u001b[0;34m(\u001b[0m\u001b[0;34m)\u001b[0m\u001b[0;34m\u001b[0m\u001b[0;34m\u001b[0m\u001b[0m\n",
            "\u001b[0;31mUnboundLocalError\u001b[0m: local variable 'n' referenced before assignment"
          ]
        }
      ]
    },
    {
      "cell_type": "code",
      "source": [
        "def g():\n",
        "    print(non_defined_var)\n",
        "\n",
        "g()"
      ],
      "metadata": {
        "colab": {
          "base_uri": "https://localhost:8080/",
          "height": 314
        },
        "id": "MK849dBWSdvl",
        "outputId": "190ee535-b8a6-470a-f196-9f9c914ef86a"
      },
      "execution_count": 81,
      "outputs": [
        {
          "output_type": "error",
          "ename": "NameError",
          "evalue": "ignored",
          "traceback": [
            "\u001b[0;31m---------------------------------------------------------------------------\u001b[0m",
            "\u001b[0;31mNameError\u001b[0m                                 Traceback (most recent call last)",
            "\u001b[0;32m<ipython-input-81-9a9aa7a53d93>\u001b[0m in \u001b[0;36m<cell line: 4>\u001b[0;34m()\u001b[0m\n\u001b[1;32m      2\u001b[0m     \u001b[0mprint\u001b[0m\u001b[0;34m(\u001b[0m\u001b[0mnon_defined_var\u001b[0m\u001b[0;34m)\u001b[0m\u001b[0;34m\u001b[0m\u001b[0;34m\u001b[0m\u001b[0m\n\u001b[1;32m      3\u001b[0m \u001b[0;34m\u001b[0m\u001b[0m\n\u001b[0;32m----> 4\u001b[0;31m \u001b[0mg\u001b[0m\u001b[0;34m(\u001b[0m\u001b[0;34m)\u001b[0m\u001b[0;34m\u001b[0m\u001b[0;34m\u001b[0m\u001b[0m\n\u001b[0m",
            "\u001b[0;32m<ipython-input-81-9a9aa7a53d93>\u001b[0m in \u001b[0;36mg\u001b[0;34m()\u001b[0m\n\u001b[1;32m      1\u001b[0m \u001b[0;32mdef\u001b[0m \u001b[0mg\u001b[0m\u001b[0;34m(\u001b[0m\u001b[0;34m)\u001b[0m\u001b[0;34m:\u001b[0m\u001b[0;34m\u001b[0m\u001b[0;34m\u001b[0m\u001b[0m\n\u001b[0;32m----> 2\u001b[0;31m     \u001b[0mprint\u001b[0m\u001b[0;34m(\u001b[0m\u001b[0mnon_defined_var\u001b[0m\u001b[0;34m)\u001b[0m\u001b[0;34m\u001b[0m\u001b[0;34m\u001b[0m\u001b[0m\n\u001b[0m\u001b[1;32m      3\u001b[0m \u001b[0;34m\u001b[0m\u001b[0m\n\u001b[1;32m      4\u001b[0m \u001b[0mg\u001b[0m\u001b[0;34m(\u001b[0m\u001b[0;34m)\u001b[0m\u001b[0;34m\u001b[0m\u001b[0;34m\u001b[0m\u001b[0m\n",
            "\u001b[0;31mNameError\u001b[0m: name 'non_defined_var' is not defined"
          ]
        }
      ]
    },
    {
      "cell_type": "code",
      "source": [
        "global_var = \"foo\"\n",
        "def h():\n",
        "    print(global_var)\n",
        "\n",
        "h()"
      ],
      "metadata": {
        "colab": {
          "base_uri": "https://localhost:8080/"
        },
        "id": "45CSkYgJTmWP",
        "outputId": "16f6e1de-92fd-475a-8fe0-e74e07bc02fe"
      },
      "execution_count": 82,
      "outputs": [
        {
          "output_type": "stream",
          "name": "stdout",
          "text": [
            "foo\n"
          ]
        }
      ]
    },
    {
      "cell_type": "markdown",
      "source": [
        "Las variables definidas dentro de las funciones (incluidos los parámetros) tienen un *scope* o alcance que restringe su acceso a la definición de la función. Por ello cuando un nombre aparece tanto en el espacio de nombres local como global, su valor depende del *scope* del mismo."
      ],
      "metadata": {
        "id": "Pe8o6INGUAF6"
      }
    },
    {
      "cell_type": "code",
      "source": [
        "x = 42\n",
        "def f():\n",
        "    x = 13\n",
        "    print(x)\n",
        "\n",
        "f()\n",
        "print(x)"
      ],
      "metadata": {
        "colab": {
          "base_uri": "https://localhost:8080/"
        },
        "id": "tKaXXrOMUlFB",
        "outputId": "5e8fa3ce-83c3-4e3e-efef-7b89860a5e1d"
      },
      "execution_count": 83,
      "outputs": [
        {
          "output_type": "stream",
          "name": "stdout",
          "text": [
            "13\n",
            "42\n"
          ]
        }
      ]
    },
    {
      "cell_type": "markdown",
      "source": [
        "Si dentro de una función queremos acceder al valor global de una variable utilizamos `global`"
      ],
      "metadata": {
        "id": "5T9Hoss8Uu6d"
      }
    },
    {
      "cell_type": "code",
      "source": [
        "x = 42\n",
        "def f():\n",
        "    global x  # global es para que no se cambie el valor de lo que definamos una vez salgamos de la funcion que definamos con esa variable\n",
        "    x = 13\n",
        "    print(x)\n",
        "\n",
        "f()\n",
        "print(x)"
      ],
      "metadata": {
        "colab": {
          "base_uri": "https://localhost:8080/"
        },
        "id": "8CzyzbycU2uB",
        "outputId": "9c5b984a-a1d7-4493-af58-602d388fca49"
      },
      "execution_count": 84,
      "outputs": [
        {
          "output_type": "stream",
          "name": "stdout",
          "text": [
            "13\n",
            "13\n"
          ]
        }
      ]
    },
    {
      "cell_type": "markdown",
      "source": [
        "Python acepta funciones **recursivas**, es decir, funciones que se llaman a así mismas"
      ],
      "metadata": {
        "id": "jOp-q8QDTNbC"
      }
    },
    {
      "cell_type": "code",
      "source": [
        "def fibonacci(n):\n",
        "    if n > 1:\n",
        "        return fibonacci(n-1) + fibonacci(n-2)\n",
        "    return 1"
      ],
      "metadata": {
        "id": "GFtqVVqqTTH5"
      },
      "execution_count": 85,
      "outputs": []
    },
    {
      "cell_type": "markdown",
      "source": [
        "---\n",
        "## Funciones lambda\n"
      ],
      "metadata": {
        "id": "Z0-ogxs1Dd1K"
      }
    },
    {
      "cell_type": "markdown",
      "source": [
        "Se puden definir funciones **anónimas**, es decir, no tienen un nombre asignado, mediante las denominadas **expresiones lambda**, que tienen la siguiente sintaxis\n",
        "\n",
        "```\n",
        "lambda args: expression\n",
        "```\n",
        "\n",
        "donde `args` son parámetros separados por comas y `expression` es una expresión (una concatenación de operadores; no se realizan bucles, ni asignaciones etc). Por ejemplo"
      ],
      "metadata": {
        "id": "kPtQQxFlEBK5"
      }
    },
    {
      "cell_type": "code",
      "source": [
        "a = lambda x, y: x + y  # lambda es para definir algo muy corto, si es cualquier cosa con nombre mas larga necesitamos el def\n",
        "\n",
        "a(2, 3)"
      ],
      "metadata": {
        "colab": {
          "base_uri": "https://localhost:8080/"
        },
        "id": "aqOGx1mQFJBm",
        "outputId": "196b32bf-941e-4a0d-8b53-8a91307b0de7"
      },
      "execution_count": 86,
      "outputs": [
        {
          "output_type": "execute_result",
          "data": {
            "text/plain": [
              "5"
            ]
          },
          "metadata": {},
          "execution_count": 86
        }
      ]
    },
    {
      "cell_type": "markdown",
      "source": [
        "Las expresiones lambda son útiles cuando por ejemplo pasemos una función como parámetro a una función de orden superior."
      ],
      "metadata": {
        "id": "LX7cJwcqFeSM"
      }
    },
    {
      "cell_type": "markdown",
      "source": [
        ":::{exercise}\n",
        ":label: functions-lambda\n",
        "\n",
        "Pasa una función lambda al parámetro `key` [del método `sort`](https://docs.python.org/3/library/stdtypes.html#list) para ordenar una lista (de mayor a menor) de cadenas por order alfabético inverso, empezando por el último elemento de la cadena. Por ejemplo\n",
        "\n",
        "```\n",
        "[\"foo\", \"bar\", \"baz\"] -> [\"baz\", \"bar\", \"foo\"]\n",
        "```\n",
        "\n",
        ":::"
      ],
      "metadata": {
        "id": "iQiYlZmjFqpG"
      }
    },
    {
      "cell_type": "code",
      "source": [
        "l = [4,4,5,5,6,2,3,8]\n",
        "l.sort(key=lambda x: x % 3)  #sort funciona alterando la cadena, no devolviendola\n",
        "print(l)  # nos la devuelve en modulo 3"
      ],
      "metadata": {
        "colab": {
          "base_uri": "https://localhost:8080/"
        },
        "id": "AtGrlqD-QXpk",
        "outputId": "b5e32164-9d8d-4202-ef29-f7f6b5154aa4"
      },
      "execution_count": 88,
      "outputs": [
        {
          "output_type": "stream",
          "name": "stdout",
          "text": [
            "[6, 3, 4, 4, 5, 5, 2, 8]\n"
          ]
        }
      ]
    },
    {
      "cell_type": "code",
      "source": [
        "\"aaa\" >= \"bbb\" # las cadenas se pueden comparar porque estan en orden alfabetico componente a componente"
      ],
      "metadata": {
        "colab": {
          "base_uri": "https://localhost:8080/"
        },
        "id": "ZeoB8qBuROzn",
        "outputId": "8160dfb3-1952-4313-9748-b74d9f97d2be"
      },
      "execution_count": 89,
      "outputs": [
        {
          "output_type": "execute_result",
          "data": {
            "text/plain": [
              "False"
            ]
          },
          "metadata": {},
          "execution_count": 89
        }
      ]
    },
    {
      "cell_type": "code",
      "source": [
        "a = \"abc\"\n",
        "a[::-1] # los 2 puntos y el -1 es para darle la vuelta a toda la cadena\n",
        "# viene de l[start=0:stop=len(iterable):setp=-1]"
      ],
      "metadata": {
        "id": "Cklh8J93RxTx"
      },
      "execution_count": null,
      "outputs": []
    },
    {
      "cell_type": "code",
      "source": [
        "m = [\"foo\", \"bar\", \"baz\"]\n",
        "m.sort(key=lambda s: s[::-1], reverse=True) # sort ordena de menor a mayor, y el reverse es para mayor a menor\n",
        "print(m)"
      ],
      "metadata": {
        "colab": {
          "base_uri": "https://localhost:8080/"
        },
        "id": "ylgJGtkuQ60-",
        "outputId": "bc9867be-f9a1-4ff2-b24e-0bcb99a74d33"
      },
      "execution_count": 92,
      "outputs": [
        {
          "output_type": "stream",
          "name": "stdout",
          "text": [
            "['baz', 'bar', 'foo']\n"
          ]
        }
      ]
    },
    {
      "cell_type": "code",
      "source": [
        "t = [\"1\"*100, \"foo\", \"fgdhjs\"]\n",
        "t.sort(key=lambda t: len(t)) # ordenar por el numero de caracteres que tenga\n",
        "print(t)"
      ],
      "metadata": {
        "colab": {
          "base_uri": "https://localhost:8080/"
        },
        "id": "jGMtmmiiSux-",
        "outputId": "08a55290-0e68-4a00-85ad-2a74963007d7"
      },
      "execution_count": 94,
      "outputs": [
        {
          "output_type": "stream",
          "name": "stdout",
          "text": [
            "['foo', 'fgdhjs', '1111111111111111111111111111111111111111111111111111111111111111111111111111111111111111111111111111']\n"
          ]
        }
      ]
    },
    {
      "cell_type": "markdown",
      "source": [
        "---\n",
        "## Map, Filter, Reduce\n",
        "\n",
        "Python soporta lo que se denomina el concepto de **funciones de orden superior**. Esto significa que podemos usar funciones como argumentos de otras funciones, almacenarlas en estructuras de datos, devolver una función en una función etc. Considera el siguiente ejemplo"
      ],
      "metadata": {
        "id": "6wWqT4enaJM1"
      }
    },
    {
      "cell_type": "code",
      "source": [
        "import time\n",
        "\n",
        "def after(seconds, f):   # esto hace que el programa se tenga que esperar x segundos para ejecutar la funcion f\n",
        "    time.sleep(seconds)\n",
        "    f()\n",
        "\n",
        "def foo():\n",
        "    print(\"Foo!\")\n",
        "\n",
        "after(5, foo)"
      ],
      "metadata": {
        "colab": {
          "base_uri": "https://localhost:8080/"
        },
        "id": "EnkBozKcaVJ-",
        "outputId": "a847bee5-2ae7-47fd-e4d7-cf04bb51c23e"
      },
      "execution_count": 96,
      "outputs": [
        {
          "output_type": "stream",
          "name": "stdout",
          "text": [
            "Foo!\n"
          ]
        }
      ]
    },
    {
      "cell_type": "markdown",
      "source": [
        "En este contexto, Python incorporta algunas funciones que nos permiten trabajar con funciones y que son la base de las expresiones de comprensión. Por un lado tenemos `filter` para filtrar según una función que devuelva un booleano y `map` para aplicar una función a un iterable."
      ],
      "metadata": {
        "id": "kFc5D83qe9-o"
      }
    },
    {
      "cell_type": "code",
      "source": [
        "nums = list(range(11))\n",
        "filt = filter(lambda x: x%3 == 0, nums)  #filtra los numeros\n",
        "squares = map(lambda x: x*x, nums)  # aplica la fuuncion a todos los elementos de la lista"
      ],
      "metadata": {
        "id": "GrFyaElfJke6"
      },
      "execution_count": 106,
      "outputs": []
    },
    {
      "cell_type": "code",
      "source": [
        "type(filt)"
      ],
      "metadata": {
        "colab": {
          "base_uri": "https://localhost:8080/"
        },
        "id": "xPQSZ63gJvTv",
        "outputId": "087ac99d-6859-4f4b-c7b2-11fc81b881f2"
      },
      "execution_count": 98,
      "outputs": [
        {
          "output_type": "execute_result",
          "data": {
            "text/plain": [
              "filter"
            ]
          },
          "metadata": {},
          "execution_count": 98
        }
      ]
    },
    {
      "cell_type": "code",
      "source": [
        "nums"
      ],
      "metadata": {
        "colab": {
          "base_uri": "https://localhost:8080/"
        },
        "id": "Yc_koKdvTzri",
        "outputId": "386fcf46-2451-4548-c69c-a3e52840b222"
      },
      "execution_count": 103,
      "outputs": [
        {
          "output_type": "execute_result",
          "data": {
            "text/plain": [
              "[0, 1, 2, 3, 4, 5, 6, 7, 8, 9, 10]"
            ]
          },
          "metadata": {},
          "execution_count": 103
        }
      ]
    },
    {
      "cell_type": "code",
      "source": [
        "type(squares)"
      ],
      "metadata": {
        "colab": {
          "base_uri": "https://localhost:8080/"
        },
        "id": "4J2uyJUIKXl2",
        "outputId": "3765d140-b2ca-47a0-a244-21de3929b96d"
      },
      "execution_count": 107,
      "outputs": [
        {
          "output_type": "execute_result",
          "data": {
            "text/plain": [
              "map"
            ]
          },
          "metadata": {},
          "execution_count": 107
        }
      ]
    },
    {
      "cell_type": "code",
      "source": [
        "nums"
      ],
      "metadata": {
        "colab": {
          "base_uri": "https://localhost:8080/"
        },
        "id": "39t_yIbzT5MK",
        "outputId": "884b709a-a67f-4034-b9d9-cc06a4ff554d"
      },
      "execution_count": 108,
      "outputs": [
        {
          "output_type": "execute_result",
          "data": {
            "text/plain": [
              "[0, 1, 2, 3, 4, 5, 6, 7, 8, 9, 10]"
            ]
          },
          "metadata": {},
          "execution_count": 108
        }
      ]
    },
    {
      "cell_type": "markdown",
      "source": [
        "Tanto `filter` como `map` devuelven **generadores**."
      ],
      "metadata": {
        "id": "JUr7oHTcLBIb"
      }
    },
    {
      "cell_type": "markdown",
      "source": [
        "Finalmente, existe la función `reduce` del módulo `itertools` para aplicar una función de dos parámetros a los objetos de un iterable de forma reiterada."
      ],
      "metadata": {
        "id": "l76ojkEgMAid"
      }
    },
    {
      "cell_type": "code",
      "source": [
        "from functools import reduce\n",
        "nums = range(11)\n",
        "total = reduce(lambda x, y: x + y, nums)\n",
        "print(total)"
      ],
      "metadata": {
        "colab": {
          "base_uri": "https://localhost:8080/"
        },
        "id": "VPqTmVAiMQRa",
        "outputId": "96255608-a718-4bfe-dc8a-b472624944ed"
      },
      "execution_count": 109,
      "outputs": [
        {
          "output_type": "stream",
          "name": "stdout",
          "text": [
            "55\n"
          ]
        }
      ]
    },
    {
      "cell_type": "markdown",
      "source": [
        "La función reduce tiene un parámetro opcional `initial` por si queremos añadirlo al principio del iterable antes de ejecutar las evaluaciones de la función."
      ],
      "metadata": {
        "id": "dHSKllxwNJqV"
      }
    },
    {
      "cell_type": "markdown",
      "source": [
        ":::{exercise}\n",
        ":label: functions-reduce\n",
        "\n",
        "Utiliza `reduce` sobre un iterable para obtener\n",
        "\n",
        "```\n",
        "(((((None, 1), 2), 3), 4), 5)\n",
        "```\n",
        "\n",
        ":::"
      ],
      "metadata": {
        "id": "0fPC6XAWM91c"
      }
    },
    {
      "cell_type": "code",
      "source": [
        "from functools import reduce\n",
        "lista = range(6)\n",
        "lista_1 = [None, 1, 2, 3, 4, 5]\n",
        "resultado = reduce(lambda x, y: (x,y), lista)\n",
        "resultado_1 = reduce(lambda x, y: (x,y), lista_1)\n",
        "print(resultado)\n",
        "print(resultado_1)"
      ],
      "metadata": {
        "colab": {
          "base_uri": "https://localhost:8080/"
        },
        "id": "s3O2O6Q2UVY9",
        "outputId": "ef437caf-49d0-4bcd-ca86-b4c3a376403d"
      },
      "execution_count": 117,
      "outputs": [
        {
          "output_type": "stream",
          "name": "stdout",
          "text": [
            "(((((0, 1), 2), 3), 4), 5)\n",
            "(((((None, 1), 2), 3), 4), 5)\n"
          ]
        }
      ]
    },
    {
      "cell_type": "markdown",
      "source": [
        ":::{exercise}\n",
        ":label: functions-ret-a-function\n",
        "\n",
        "Crea una función `wrapper` que tome como argumento una función y realice las siguientes tareas\n",
        "- Escribir por pantalla el mensaje \"Llamando a la función...\"\n",
        "- Ejecute al función\n",
        "- Escriba otro mensaje \"La función ha sido llamada\"\n",
        "\n",
        ":::"
      ],
      "metadata": {
        "id": "fVf4Kze-AvY1"
      }
    },
    {
      "cell_type": "markdown",
      "source": [
        ":::{exercise}\n",
        ":label: functions-reduce-2\n",
        "\n",
        "Implementa la función `reduce` por ti mismo.\n",
        "\n",
        ":::"
      ],
      "metadata": {
        "id": "I0a7DeNmOMKc"
      }
    },
    {
      "cell_type": "code",
      "source": [
        "def wrapper(f, *args, **kwargs):  # ponemos los 2 argumentos por si acaso\n",
        "  print(\"Llamando a la funcion...\")\n",
        "  f(*args, **kwargs)  # no nos hace falta saber los argumentos que sean\n",
        "  print(\"La funcion ha sido llamada\")\n",
        "\n",
        "def f(a, b, c):\n",
        "  print (\"hola dentro de f\", a, b, c)\n",
        "  return a + b + c\n",
        "\n",
        "wrapper(f,1,c=2, b=100) # Da igual el orden, ya que tenemos el **kwargs, solo nos importa el nombre"
      ],
      "metadata": {
        "id": "Zfv5hkWMbM8X",
        "outputId": "77faa8f2-bc67-4ff7-f6db-5e330a575924",
        "colab": {
          "base_uri": "https://localhost:8080/"
        }
      },
      "execution_count": 124,
      "outputs": [
        {
          "output_type": "stream",
          "name": "stdout",
          "text": [
            "Llamando a la funcion...\n",
            "hola dentro de f 1 100 2\n",
            "La funcion ha sido llamada\n"
          ]
        }
      ]
    },
    {
      "cell_type": "code",
      "source": [
        "def wrapper(f, *args):\n",
        "  print(\"Llamando a la funcion...\")\n",
        "  f(*args)  # no nos hace falta saber los argumentos que sean\n",
        "  print(\"La funcion ha sido llamada\")\n",
        "\n",
        "def f(a, b, c):\n",
        "  print (\"hola dentro de f\", a, b, c)\n",
        "  return a + b + c\n",
        "\n",
        "wrapper(f,1,c=2,b=100)  # al no tener el **kwars nos da error porque tenemos los nombres desordenados y no en su posicion"
      ],
      "metadata": {
        "id": "z11COxzhbqRu",
        "outputId": "372b45de-cbdd-4ca0-bef1-bbcfd6c0b7f6",
        "colab": {
          "base_uri": "https://localhost:8080/",
          "height": 210
        }
      },
      "execution_count": 125,
      "outputs": [
        {
          "output_type": "error",
          "ename": "TypeError",
          "evalue": "ignored",
          "traceback": [
            "\u001b[0;31m---------------------------------------------------------------------------\u001b[0m",
            "\u001b[0;31mTypeError\u001b[0m                                 Traceback (most recent call last)",
            "\u001b[0;32m<ipython-input-125-ef772cc26346>\u001b[0m in \u001b[0;36m<cell line: 10>\u001b[0;34m()\u001b[0m\n\u001b[1;32m      8\u001b[0m   \u001b[0;32mreturn\u001b[0m \u001b[0ma\u001b[0m \u001b[0;34m+\u001b[0m \u001b[0mb\u001b[0m \u001b[0;34m+\u001b[0m \u001b[0mc\u001b[0m\u001b[0;34m\u001b[0m\u001b[0;34m\u001b[0m\u001b[0m\n\u001b[1;32m      9\u001b[0m \u001b[0;34m\u001b[0m\u001b[0m\n\u001b[0;32m---> 10\u001b[0;31m \u001b[0mwrapper\u001b[0m\u001b[0;34m(\u001b[0m\u001b[0mf\u001b[0m\u001b[0;34m,\u001b[0m\u001b[0;36m1\u001b[0m\u001b[0;34m,\u001b[0m\u001b[0mc\u001b[0m\u001b[0;34m=\u001b[0m\u001b[0;36m2\u001b[0m\u001b[0;34m,\u001b[0m\u001b[0mb\u001b[0m\u001b[0;34m=\u001b[0m\u001b[0;36m100\u001b[0m\u001b[0;34m)\u001b[0m  \u001b[0;31m# al no tener el **kwars nos da error porque tenemos los nombres desordenados y no en su posicion\u001b[0m\u001b[0;34m\u001b[0m\u001b[0;34m\u001b[0m\u001b[0m\n\u001b[0m",
            "\u001b[0;31mTypeError\u001b[0m: wrapper() got an unexpected keyword argument 'c'"
          ]
        }
      ]
    },
    {
      "cell_type": "code",
      "source": [
        "def reduce_ejer(f, iter):\n",
        "  if len(iter) == 1:\n",
        "    return iter[0]\n",
        "  return f(iter[0], reduce_ejer(f, iter[1:]))\n",
        "\n",
        "print(reduce_ejer(lambda x,y: (x,y), [1, 2, 3]))\n",
        "print(reduce(lambda x,y: (x,y), [1, 2, 3]))"
      ],
      "metadata": {
        "id": "msN9fnMmcuUw",
        "outputId": "320b53eb-6caf-4529-f3d5-4a11e8ee6af6",
        "colab": {
          "base_uri": "https://localhost:8080/"
        }
      },
      "execution_count": 129,
      "outputs": [
        {
          "output_type": "stream",
          "name": "stdout",
          "text": [
            "(1, (2, 3))\n",
            "((1, 2), 3)\n"
          ]
        }
      ]
    },
    {
      "cell_type": "markdown",
      "source": [
        ":::{solution} functions-reduce-2\n",
        ":class: dropdown\n",
        "\n",
        "```\n",
        "def my_reduce(f, s):\n",
        "    if len(s) == 1:\n",
        "        return s[0]\n",
        "    return f(s[0], reduce(f, s[1:]))\n",
        "```\n",
        "\n",
        ":::\n"
      ],
      "metadata": {
        "id": "Fw2TiYAL131p"
      }
    }
  ],
  "metadata": {
    "kernelspec": {
      "display_name": "Python 3.9.1 64-bit",
      "language": "python",
      "name": "python3"
    },
    "language_info": {
      "name": "python",
      "version": "3.9.1"
    },
    "orig_nbformat": 4,
    "vscode": {
      "interpreter": {
        "hash": "397704579725e15f5c7cb49fe5f0341eb7531c82d19f2c29d197e8b64ab5776b"
      }
    },
    "colab": {
      "provenance": []
    }
  },
  "nbformat": 4,
  "nbformat_minor": 0
}