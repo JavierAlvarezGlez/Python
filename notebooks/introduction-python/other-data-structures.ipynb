{
  "cells": [
    {
      "cell_type": "markdown",
      "metadata": {
        "id": "5Qy9Hf6aAycF"
      },
      "source": [
        "# Otras estructuras de datos\n",
        "\n",
        "Hasta ahora hemos introducido las listas de Python como estructura que nos permite manipular conjutos de datos. En esta sección veremos otras estructuras de datos e investigaremos cúando es conveniente usar cada una, en concreto vamos a ver\n",
        "- tuplas\n",
        "- diccionarios\n",
        "- conjuntos\n",
        "- generadores"
      ]
    },
    {
      "cell_type": "markdown",
      "metadata": {
        "id": "qp6SVDFyAycH"
      },
      "source": [
        "---\n",
        "## Tuplas\n",
        "\n",
        "Las **tuplas** son similares a las listas en el sentido de que nos permiten guardar un número arbitrario de objetos y acceder a los mismos mediante índices, es decir, son objetos secuenciales. Para definir una tupla utilizamos paréntesis `()`"
      ]
    },
    {
      "cell_type": "code",
      "execution_count": 1,
      "metadata": {
        "id": "TzyxVYM3Eugo"
      },
      "outputs": [],
      "source": [
        "foo = (1, \"b\")  # sin la coma dentro del parentesis no seria una tupla"
      ]
    },
    {
      "cell_type": "markdown",
      "metadata": {
        "id": "iorYGy1OEx7W"
      },
      "source": [
        "Al igual que con las listas, podemos incluir expresiones que se evaluarán antes de formar la tupla"
      ]
    },
    {
      "cell_type": "code",
      "execution_count": 2,
      "metadata": {
        "id": "phYnOtUHE5ZJ",
        "outputId": "91a89140-9305-4a8c-fd86-60d5afb490c7",
        "colab": {
          "base_uri": "https://localhost:8080/"
        }
      },
      "outputs": [
        {
          "output_type": "stream",
          "name": "stderr",
          "text": [
            "<>:1: SyntaxWarning: \"is\" with a literal. Did you mean \"==\"?\n",
            "<>:1: SyntaxWarning: \"is\" with a literal. Did you mean \"==\"?\n",
            "<ipython-input-2-7dd81825fdfb>:1: SyntaxWarning: \"is\" with a literal. Did you mean \"==\"?\n",
            "  bar = (1 is None, \"fjkdsljfd\".islower(), 2 in [1, 4, 5, 3])\n"
          ]
        }
      ],
      "source": [
        "bar = (1 is None, \"fjkdsljfd\".islower(), 2 in [1, 4, 5, 3])"
      ]
    },
    {
      "cell_type": "code",
      "execution_count": 3,
      "metadata": {
        "colab": {
          "base_uri": "https://localhost:8080/"
        },
        "id": "eZeDF6Q1HLGa",
        "outputId": "cc3411de-51ca-4ecf-b93a-3ff1b4ec5801"
      },
      "outputs": [
        {
          "output_type": "execute_result",
          "data": {
            "text/plain": [
              "(False, True, False)"
            ]
          },
          "metadata": {},
          "execution_count": 3
        }
      ],
      "source": [
        "bar"
      ]
    },
    {
      "cell_type": "code",
      "execution_count": 4,
      "metadata": {
        "colab": {
          "base_uri": "https://localhost:8080/"
        },
        "id": "6e91M95sG-Uc",
        "outputId": "b56090df-0291-42ce-f9d9-2a60a777349c"
      },
      "outputs": [
        {
          "output_type": "execute_result",
          "data": {
            "text/plain": [
              "True"
            ]
          },
          "metadata": {},
          "execution_count": 4
        }
      ],
      "source": [
        "isinstance(bar, tuple)"
      ]
    },
    {
      "cell_type": "code",
      "execution_count": 5,
      "metadata": {
        "colab": {
          "base_uri": "https://localhost:8080/"
        },
        "id": "U0Qv32CIHIO5",
        "outputId": "ed2bedd8-7c3d-4da2-92bf-aa48534e84af"
      },
      "outputs": [
        {
          "output_type": "execute_result",
          "data": {
            "text/plain": [
              "tuple"
            ]
          },
          "metadata": {},
          "execution_count": 5
        }
      ],
      "source": [
        "type(foo)"
      ]
    },
    {
      "cell_type": "markdown",
      "metadata": {
        "id": "0XA_SlzvHJkP"
      },
      "source": [
        "Las tuplas son utilizadas para guardar una colección de datos en una estructura simple e **inmutable**, es decir, no podremos modificarlas una vez sean creadas: ni reemplezar, añadir o borrar sus elementos. Dicho de otro modo, es un único objeto formado por distintas partes más que una colección de distintos objetos como una lista."
      ]
    },
    {
      "cell_type": "markdown",
      "metadata": {
        "id": "j2IPUI18J2Gi"
      },
      "source": [
        ":::{exercise}\n",
        ":label: other-data-structures-tuples-inmmutable\n",
        "\n",
        "¿Qué error obtenemos al intentar modificar un objeto de una tupla?\n",
        "\n",
        ":::"
      ]
    },
    {
      "cell_type": "code",
      "source": [
        "t = (1, 2, 3)\n",
        "type(t)"
      ],
      "metadata": {
        "id": "9ImcqgVtyRtG",
        "outputId": "05ceab72-f166-4fcd-a1fe-f7f2dfb76446",
        "colab": {
          "base_uri": "https://localhost:8080/"
        }
      },
      "execution_count": 6,
      "outputs": [
        {
          "output_type": "execute_result",
          "data": {
            "text/plain": [
              "tuple"
            ]
          },
          "metadata": {},
          "execution_count": 6
        }
      ]
    },
    {
      "cell_type": "code",
      "source": [
        "l = (1, 2, 3)\n",
        "l[0] = \"foo\"  # No puedo asignar nada en un indice de una tupla\n",
        "print(l)"
      ],
      "metadata": {
        "id": "ACjac7MUyiaw",
        "outputId": "5af694fa-5de5-4bdc-c39d-5fb5c001e113",
        "colab": {
          "base_uri": "https://localhost:8080/",
          "height": 210
        }
      },
      "execution_count": 7,
      "outputs": [
        {
          "output_type": "error",
          "ename": "TypeError",
          "evalue": "ignored",
          "traceback": [
            "\u001b[0;31m---------------------------------------------------------------------------\u001b[0m",
            "\u001b[0;31mTypeError\u001b[0m                                 Traceback (most recent call last)",
            "\u001b[0;32m<ipython-input-7-63a8b50c0fd7>\u001b[0m in \u001b[0;36m<cell line: 2>\u001b[0;34m()\u001b[0m\n\u001b[1;32m      1\u001b[0m \u001b[0ml\u001b[0m \u001b[0;34m=\u001b[0m \u001b[0;34m(\u001b[0m\u001b[0;36m1\u001b[0m\u001b[0;34m,\u001b[0m \u001b[0;36m2\u001b[0m\u001b[0;34m,\u001b[0m \u001b[0;36m3\u001b[0m\u001b[0;34m)\u001b[0m\u001b[0;34m\u001b[0m\u001b[0;34m\u001b[0m\u001b[0m\n\u001b[0;32m----> 2\u001b[0;31m \u001b[0ml\u001b[0m\u001b[0;34m[\u001b[0m\u001b[0;36m0\u001b[0m\u001b[0;34m]\u001b[0m \u001b[0;34m=\u001b[0m \u001b[0;34m\"foo\"\u001b[0m\u001b[0;34m\u001b[0m\u001b[0;34m\u001b[0m\u001b[0m\n\u001b[0m\u001b[1;32m      3\u001b[0m \u001b[0mprint\u001b[0m\u001b[0;34m(\u001b[0m\u001b[0ml\u001b[0m\u001b[0;34m)\u001b[0m\u001b[0;34m\u001b[0m\u001b[0;34m\u001b[0m\u001b[0m\n",
            "\u001b[0;31mTypeError\u001b[0m: 'tuple' object does not support item assignment"
          ]
        }
      ]
    },
    {
      "cell_type": "markdown",
      "metadata": {
        "id": "5T6SKgXIKp2p"
      },
      "source": [
        ":::{exercise}\n",
        ":label: other-data-structures-tuples-inmmutable-2\n",
        "\n",
        "Las tuplas son objetos inmutables pero, ¿pueden los objetos que forman la tupla ser mutables?\n",
        "\n",
        ":::"
      ]
    },
    {
      "cell_type": "code",
      "source": [
        "t = (1, 2, [1, 2])\n",
        "t[2][1] = \"foo\" #El primer elemento de la lista en la posicion 2 de la tupla valga foo\n",
        "print(t)\n",
        "# No puedo modificar 2 directamente pero si puedo acceder a los objetos de dentro de 2\n",
        "# a menos que 2 sea otra tupla u otro elemento no mutable"
      ],
      "metadata": {
        "id": "x_87KU5c0E_c",
        "outputId": "c68d9994-2d4d-4ee9-872b-0319a8554ad0",
        "colab": {
          "base_uri": "https://localhost:8080/"
        }
      },
      "execution_count": 8,
      "outputs": [
        {
          "output_type": "stream",
          "name": "stdout",
          "text": [
            "(1, 2, [1, 'foo'])\n"
          ]
        }
      ]
    },
    {
      "cell_type": "markdown",
      "metadata": {
        "id": "UejKhQ7eJwCv"
      },
      "source": [
        "Por consistencia, existen las tuplas de longitud 0 y 1"
      ]
    },
    {
      "cell_type": "code",
      "execution_count": 9,
      "metadata": {
        "id": "zGQHMCsUIV4y"
      },
      "outputs": [],
      "source": [
        "zero_tuple = ()\n",
        "one_tuple = (5,) # notemos la coma para q no sea un entero y sea una tupla"
      ]
    },
    {
      "cell_type": "markdown",
      "metadata": {
        "id": "xEHmnu_ZIoiT"
      },
      "source": [
        "Aunque podemos utilizar índices numéricos para acceder a los elementos de la tupla, es más común *deshacer* la tupla en variables"
      ]
    },
    {
      "cell_type": "code",
      "execution_count": 10,
      "metadata": {
        "id": "VSxQSpTdJBUr"
      },
      "outputs": [],
      "source": [
        "holding = ('GOOG', 100, 490.10)\n",
        "address = ('www.python.org', 80)\n",
        "\n",
        "name, shares, price = holding\n",
        "host, port = address"
      ]
    },
    {
      "cell_type": "markdown",
      "metadata": {
        "id": "o8sP6UD-JP-p"
      },
      "source": [
        "> Esta misma sintaxis se puede utilizar para hacer varias asignaciones a la vez\n",
        "```\n",
        "a, b = 1, None\n",
        "```"
      ]
    },
    {
      "cell_type": "markdown",
      "source": [
        "El segundo argumento de la funión `isinstance` puede ser una tupla de tipos, de modo que devolverá `True` si el objeto es de alguno de los tipos que forman la tupla."
      ],
      "metadata": {
        "id": "MDLXPdiRM3oL"
      }
    },
    {
      "cell_type": "code",
      "execution_count": 11,
      "metadata": {
        "colab": {
          "base_uri": "https://localhost:8080/"
        },
        "id": "1cebfsg3LfJ0",
        "outputId": "5d60969b-e013-4e79-c509-81a02db3cc96"
      },
      "outputs": [
        {
          "output_type": "execute_result",
          "data": {
            "text/plain": [
              "True"
            ]
          },
          "metadata": {},
          "execution_count": 11
        }
      ],
      "source": [
        "isinstance(1, (bool, int)) #la segunda tupla es como o bool o int, con 1 verdadera ya sale True"
      ]
    },
    {
      "cell_type": "markdown",
      "metadata": {
        "id": "n6iYQq0buBKO"
      },
      "source": [
        "---\n",
        "## Trabajando con secuencias\n",
        "\n",
        "Ya hemos visto tres tipos secuenciales: cadenas, listas y tuplas. Vamos a dedicar un apartado a repasar las principales operaciones que podemos realizar con objetos secuenciales"
      ]
    },
    {
      "cell_type": "markdown",
      "metadata": {
        "id": "qqaRsi9QVzdr"
      },
      "source": [
        "### Comprobar pertenencia\n",
        "\n",
        "Lo haremos a través del operador `in` y su negación `not in`"
      ]
    },
    {
      "cell_type": "code",
      "execution_count": 12,
      "metadata": {
        "colab": {
          "base_uri": "https://localhost:8080/"
        },
        "id": "DnpPu_gzbqoy",
        "outputId": "63f1ad98-4752-4fa5-a06c-99aa303aa734"
      },
      "outputs": [
        {
          "output_type": "execute_result",
          "data": {
            "text/plain": [
              "True"
            ]
          },
          "metadata": {},
          "execution_count": 12
        }
      ],
      "source": [
        "# con tuplas\n",
        "x = (1, 3, 5)\n",
        "3 in x"
      ]
    },
    {
      "cell_type": "code",
      "execution_count": 13,
      "metadata": {
        "colab": {
          "base_uri": "https://localhost:8080/"
        },
        "id": "9Yp2slFtbuK3",
        "outputId": "99e98196-ee82-4e01-cbdb-fa55339de067"
      },
      "outputs": [
        {
          "output_type": "execute_result",
          "data": {
            "text/plain": [
              "True"
            ]
          },
          "metadata": {},
          "execution_count": 13
        }
      ],
      "source": [
        "# con cadenas\n",
        "\"cat\" in \"the cat in the hat\"\n",
        "True"
      ]
    },
    {
      "cell_type": "code",
      "execution_count": 14,
      "metadata": {
        "colab": {
          "base_uri": "https://localhost:8080/"
        },
        "id": "J-D4n36Vbu3X",
        "outputId": "81f757de-d94e-4814-9acc-19b8cf377ead"
      },
      "outputs": [
        {
          "output_type": "execute_result",
          "data": {
            "text/plain": [
              "False"
            ]
          },
          "metadata": {},
          "execution_count": 14
        }
      ],
      "source": [
        "# con listas\n",
        "[1, 2] in [1, 2, 3, 4]"
      ]
    },
    {
      "cell_type": "code",
      "execution_count": 15,
      "metadata": {
        "colab": {
          "base_uri": "https://localhost:8080/"
        },
        "id": "QTyKqljhbvCp",
        "outputId": "2815e6e4-48ae-4509-def7-181ae834daeb"
      },
      "outputs": [
        {
          "output_type": "execute_result",
          "data": {
            "text/plain": [
              "True"
            ]
          },
          "metadata": {},
          "execution_count": 15
        }
      ],
      "source": [
        "[1, 2] in [None, [1, 2], None]"
      ]
    },
    {
      "cell_type": "markdown",
      "metadata": {
        "id": "sYdiU8Dgcn4i"
      },
      "source": [
        "### Obtener el índice de la primera instancia de un objeto\n",
        "\n",
        "Mediante el método `index`"
      ]
    },
    {
      "cell_type": "code",
      "execution_count": 16,
      "metadata": {
        "colab": {
          "base_uri": "https://localhost:8080/"
        },
        "id": "ibtwoPxc8jVZ",
        "outputId": "3a539ef6-2b4d-41f7-d233-97d0f879ebc2"
      },
      "outputs": [
        {
          "output_type": "execute_result",
          "data": {
            "text/plain": [
              "0"
            ]
          },
          "metadata": {},
          "execution_count": 16
        }
      ],
      "source": [
        "\"cat cat cat\".index(\"cat\")"
      ]
    },
    {
      "cell_type": "code",
      "execution_count": 18,
      "metadata": {
        "colab": {
          "base_uri": "https://localhost:8080/"
        },
        "id": "op2BAXzk8nSJ",
        "outputId": "d19f4435-2583-4584-aace-6f2e6639c56f"
      },
      "outputs": [
        {
          "output_type": "execute_result",
          "data": {
            "text/plain": [
              "2"
            ]
          },
          "metadata": {},
          "execution_count": 18
        }
      ],
      "source": [
        "[1, 2, \"moo\"].index(\"moo\")"
      ]
    },
    {
      "cell_type": "markdown",
      "metadata": {
        "id": "2XNbpVTp8q0W"
      },
      "source": [
        "### Contar el número de ocurrencias\n",
        "\n",
        "Utilizaremos el método `count`"
      ]
    },
    {
      "cell_type": "code",
      "execution_count": 19,
      "metadata": {
        "colab": {
          "base_uri": "https://localhost:8080/"
        },
        "id": "0dLhZxSI9G-4",
        "outputId": "6681b545-adfd-4cd4-e5cd-43ded5e5da38"
      },
      "outputs": [
        {
          "output_type": "execute_result",
          "data": {
            "text/plain": [
              "3"
            ]
          },
          "metadata": {},
          "execution_count": 19
        }
      ],
      "source": [
        "\"the cat in the hat\".count(\"h\")"
      ]
    },
    {
      "cell_type": "markdown",
      "metadata": {
        "id": "ice9QAxC9HWQ"
      },
      "source": [
        "### Indexado y *slicing*\n",
        "\n",
        "Como ya hemos visto, podemos acceder a objetos individuales utilizando in índice entero que empieza en cero. Este índice puede ser negativo si queremos buscar desde el final de la secuencia"
      ]
    },
    {
      "cell_type": "code",
      "execution_count": 21,
      "metadata": {
        "colab": {
          "base_uri": "https://localhost:8080/"
        },
        "id": "h_7xYiLl-GMU",
        "outputId": "c565f632-0ec4-4809-f83a-861e9f4acef7"
      },
      "outputs": [
        {
          "output_type": "execute_result",
          "data": {
            "text/plain": [
              "21"
            ]
          },
          "metadata": {},
          "execution_count": 21
        }
      ],
      "source": [
        "l = [1, 1, 2, 3, 5, 8, 13, 21]\n",
        "l[-1]"
      ]
    },
    {
      "cell_type": "markdown",
      "metadata": {
        "id": "ncPiY70Q91g3"
      },
      "source": [
        "Podemos ir más allá y pedir un subconjunto de la sucencia con las operaciones de *slicing*, cuya sintaxis básica es `seq[start:stop:step]`"
      ]
    },
    {
      "cell_type": "code",
      "execution_count": 24,
      "metadata": {
        "colab": {
          "base_uri": "https://localhost:8080/",
          "height": 35
        },
        "id": "nzWyrFd0-bDH",
        "outputId": "7a8fc5bb-964b-41f1-dab0-a96068b2020f"
      },
      "outputs": [
        {
          "output_type": "execute_result",
          "data": {
            "text/plain": [
              "'abcd'"
            ],
            "application/vnd.google.colaboratory.intrinsic+json": {
              "type": "string"
            }
          },
          "metadata": {},
          "execution_count": 24
        }
      ],
      "source": [
        "seq = \"abcdefg\"\n",
        "seq[0:4:1]"
      ]
    },
    {
      "cell_type": "code",
      "execution_count": 25,
      "metadata": {
        "colab": {
          "base_uri": "https://localhost:8080/",
          "height": 35
        },
        "id": "_NsAayt-_Cq8",
        "outputId": "b133ee37-63e6-4817-b61e-84ce13ca3628"
      },
      "outputs": [
        {
          "output_type": "execute_result",
          "data": {
            "text/plain": [
              "'aceg'"
            ],
            "application/vnd.google.colaboratory.intrinsic+json": {
              "type": "string"
            }
          },
          "metadata": {},
          "execution_count": 25
        }
      ],
      "source": [
        "seq[::2]"
      ]
    },
    {
      "cell_type": "markdown",
      "metadata": {
        "id": "QgPBUoFd-cMS"
      },
      "source": [
        "Por defecto, `start=0`, `stop=len(seq)` y `step=1`. Si utilizamos valores negativos para `step` invertiremos el orden de la secuencia"
      ]
    },
    {
      "cell_type": "code",
      "execution_count": 26,
      "metadata": {
        "colab": {
          "base_uri": "https://localhost:8080/",
          "height": 35
        },
        "id": "NrcThIX_-cic",
        "outputId": "cbe13d3b-e206-4746-bb3b-168a490932b3"
      },
      "outputs": [
        {
          "output_type": "execute_result",
          "data": {
            "text/plain": [
              "'gfedcba'"
            ],
            "application/vnd.google.colaboratory.intrinsic+json": {
              "type": "string"
            }
          },
          "metadata": {},
          "execution_count": 26
        }
      ],
      "source": [
        "seq[::-1]"
      ]
    },
    {
      "cell_type": "markdown",
      "metadata": {
        "id": "CjMRbqiE-ctS"
      },
      "source": [
        "Aunque la sintaxis con `:` es la más frecuente, está bien saber que en Python existe el objeto de tipo `slice` para definir nuestra selección de forma independiente a la secuencia. Para ello utilizamos el tipo `slice` con los tres argumentos que hemos visto: `start`, `stop` y `step`."
      ]
    },
    {
      "cell_type": "code",
      "execution_count": 29,
      "metadata": {
        "id": "lHBRx0WB_uPs"
      },
      "outputs": [],
      "source": [
        "reverse = slice(None, None, -1)"
      ]
    },
    {
      "cell_type": "code",
      "execution_count": 30,
      "metadata": {
        "colab": {
          "base_uri": "https://localhost:8080/"
        },
        "id": "w7b2xBL8AZVF",
        "outputId": "07a1b824-7d77-4e55-d8fe-003be50f0247"
      },
      "outputs": [
        {
          "output_type": "execute_result",
          "data": {
            "text/plain": [
              "slice"
            ]
          },
          "metadata": {},
          "execution_count": 30
        }
      ],
      "source": [
        "type(reverse)"
      ]
    },
    {
      "cell_type": "markdown",
      "metadata": {
        "id": "O8-N5elfAaP-"
      },
      "source": [
        ":::{exercise}\n",
        ":label: other-data-structures-slices\n",
        "\n",
        "¿Qué error obtenemos cuando intentamos acceder a un índice que no existe para una secuencia?\n",
        "\n",
        ":::"
      ]
    },
    {
      "cell_type": "code",
      "source": [
        "l = [2, 3, 4]\n",
        "l[3]"
      ],
      "metadata": {
        "id": "lbnFd6tW5zmj",
        "outputId": "a2e08116-e5f2-43fb-83a5-bc61fbaab84c",
        "colab": {
          "base_uri": "https://localhost:8080/",
          "height": 193
        }
      },
      "execution_count": 31,
      "outputs": [
        {
          "output_type": "error",
          "ename": "IndexError",
          "evalue": "ignored",
          "traceback": [
            "\u001b[0;31m---------------------------------------------------------------------------\u001b[0m",
            "\u001b[0;31mIndexError\u001b[0m                                Traceback (most recent call last)",
            "\u001b[0;32m<ipython-input-31-936ccfce661b>\u001b[0m in \u001b[0;36m<cell line: 2>\u001b[0;34m()\u001b[0m\n\u001b[1;32m      1\u001b[0m \u001b[0ml\u001b[0m \u001b[0;34m=\u001b[0m \u001b[0;34m[\u001b[0m\u001b[0;36m2\u001b[0m\u001b[0;34m,\u001b[0m \u001b[0;36m3\u001b[0m\u001b[0;34m,\u001b[0m \u001b[0;36m4\u001b[0m\u001b[0;34m]\u001b[0m\u001b[0;34m\u001b[0m\u001b[0;34m\u001b[0m\u001b[0m\n\u001b[0;32m----> 2\u001b[0;31m \u001b[0ml\u001b[0m\u001b[0;34m[\u001b[0m\u001b[0;36m3\u001b[0m\u001b[0;34m]\u001b[0m\u001b[0;34m\u001b[0m\u001b[0;34m\u001b[0m\u001b[0m\n\u001b[0m",
            "\u001b[0;31mIndexError\u001b[0m: list index out of range"
          ]
        }
      ]
    },
    {
      "cell_type": "markdown",
      "metadata": {
        "id": "wgXUCyosApDi"
      },
      "source": [
        ":::{exercise}\n",
        ":label: other-data-structures-slices-2\n",
        "\n",
        "Considera la siguiente tupla\n",
        "\n",
        "```\n",
        "x = (0, 2, 4, 6, 8)\n",
        "```\n",
        "\n",
        "Indexa o utiliza slides para obtener\n",
        "1. `0`\n",
        "2. `8`\n",
        "3. `(2, 4, 6)`\n",
        "4. `(4,)`\n",
        "5. `4`\n",
        "6. `4` utilizando un índice negativo\n",
        "7. `(6, 8)`\n",
        "8. `(2, 6)`\n",
        "9. `(8, 6, 4, 2)`\n",
        "\n",
        ":::"
      ]
    },
    {
      "cell_type": "code",
      "source": [
        "x = (0, 2, 4, 6, 8)\n",
        "print(x[0])\n",
        "print(x[-1])\n",
        "print(x[1:4:1])\n",
        "print((x[2],))\n",
        "print(x[2])\n",
        "print(x[-3])\n",
        "print(x[3:5:1])\n",
        "print(x[1:5:2])\n",
        "print(x[5:0:-1])"
      ],
      "metadata": {
        "id": "Zx1a_rHL8kzT",
        "outputId": "3b1188ca-e23e-4acd-fe8f-4c7588041815",
        "colab": {
          "base_uri": "https://localhost:8080/"
        }
      },
      "execution_count": 47,
      "outputs": [
        {
          "output_type": "stream",
          "name": "stdout",
          "text": [
            "0\n",
            "8\n",
            "(2, 4, 6)\n",
            "(4,)\n",
            "4\n",
            "4\n",
            "(6, 8)\n",
            "(2, 6)\n",
            "(8, 6, 4, 2)\n"
          ]
        }
      ]
    },
    {
      "cell_type": "code",
      "source": [
        "x = (0, 2, 4, 6, 8)\n",
        "\n",
        "answer = [\n",
        "    x[0],\n",
        "    x[-1],\n",
        "    x[1:4],\n",
        "    x[2:3],\n",
        "    x[2],\n",
        "    x[-3],\n",
        "    x[-2:],\n",
        "    x[1::2],\n",
        "    x[-1:0:-1]\n",
        "]\n",
        "print(answer)"
      ],
      "metadata": {
        "id": "djfEXhoFEQRU",
        "outputId": "805ab0a7-27a4-4be4-b38c-55f97de35247",
        "colab": {
          "base_uri": "https://localhost:8080/"
        }
      },
      "execution_count": 48,
      "outputs": [
        {
          "output_type": "stream",
          "name": "stdout",
          "text": [
            "[0, 8, (2, 4, 6), (4,), 4, 4, (6, 8), (2, 6), (8, 6, 4, 2)]\n"
          ]
        }
      ]
    },
    {
      "cell_type": "markdown",
      "metadata": {
        "id": "VQRjzslmBoO2"
      },
      "source": [
        ":::{exercise}\n",
        ":label: other-data-structures-slices-3\n",
        "\n",
        "Dada una tupla `x` que contenga el número `5`, escribe las instrucciones necesarias para reemplazar la primera instancia de `5` por `-5`.\n",
        "\n",
        ":::"
      ]
    },
    {
      "cell_type": "code",
      "source": [
        "# No se puede, las tuplas son inmutables"
      ],
      "metadata": {
        "id": "_t8cU1LLErWK"
      },
      "execution_count": null,
      "outputs": []
    },
    {
      "cell_type": "markdown",
      "metadata": {
        "id": "wEl4wwqxDXnx"
      },
      "source": [
        "---\n",
        "## Diccionarios\n",
        "\n"
      ]
    },
    {
      "cell_type": "markdown",
      "metadata": {
        "id": "O6JX_DWmqCa4"
      },
      "source": [
        "Un **diccionario** es un objeto que nos permite guardar campos informados mediante una clave. Para crearlos escribimos pares de clave - valor separados por `:` entre corchetes"
      ]
    },
    {
      "cell_type": "code",
      "execution_count": 49,
      "metadata": {
        "id": "HzGUFQ0-sxBc"
      },
      "outputs": [],
      "source": [
        "prices = {\n",
        "    \"GOOG\": 490.1,\n",
        "    \"AAPL\": 123.5,\n",
        "    \"IBM\": 91.5,\n",
        "    \"MSFT\": 52.13\n",
        "}\n",
        "\n",
        "# diccionario vacío\n",
        "empty_dict = {}    # también se crea con dict()"
      ]
    },
    {
      "cell_type": "markdown",
      "metadata": {
        "id": "DxmHeZUptDBy"
      },
      "source": [
        "Se pueden crear también diccionarios a partir del constructor `dict`, que acepta un iterable de pares de clave-valor empaquetados en una secuencia.   "
      ]
    },
    {
      "cell_type": "code",
      "execution_count": 50,
      "metadata": {
        "id": "LMu3lwxM2XAI"
      },
      "outputs": [],
      "source": [
        "fruit_or_veggie = dict([(\"apple\", \"fruit\"), (\"carrot\", \"vegetable\")])"
      ]
    },
    {
      "cell_type": "markdown",
      "metadata": {
        "id": "P6F7PHmfpWYx"
      },
      "source": [
        "Para acceder a un valor del diccionario a través de la clave se pueden utilizar corchetes `[]` con la clave entre comillas"
      ]
    },
    {
      "cell_type": "code",
      "execution_count": 51,
      "metadata": {
        "colab": {
          "base_uri": "https://localhost:8080/"
        },
        "id": "IEAUv_f_pnCm",
        "outputId": "73ac9bed-5191-4eee-9817-f2191f710c33"
      },
      "outputs": [
        {
          "output_type": "execute_result",
          "data": {
            "text/plain": [
              "490.1"
            ]
          },
          "metadata": {},
          "execution_count": 51
        }
      ],
      "source": [
        "prices[\"GOOG\"]"
      ]
    },
    {
      "cell_type": "markdown",
      "metadata": {
        "id": "p82yoAkxpmk7"
      },
      "source": [
        "aunque es más recomendable utilizar el método `get`, ya que si la clave buscada no se encuentra devuelve un `None` o el valor por defecto que le indiquemos, en lugar de levantar un error tipo `KeyError`."
      ]
    },
    {
      "cell_type": "code",
      "execution_count": 52,
      "metadata": {
        "colab": {
          "base_uri": "https://localhost:8080/"
        },
        "id": "tgGIa8-tqim7",
        "outputId": "8af3358e-91cd-4370-b6f2-e60cafce9ed8"
      },
      "outputs": [
        {
          "output_type": "execute_result",
          "data": {
            "text/plain": [
              "490.1"
            ]
          },
          "metadata": {},
          "execution_count": 52
        }
      ],
      "source": [
        "prices.get(\"GOOG\")"
      ]
    },
    {
      "cell_type": "code",
      "execution_count": 53,
      "metadata": {
        "colab": {
          "base_uri": "https://localhost:8080/"
        },
        "id": "B_EIMUpWp_pz",
        "outputId": "962ccf4d-5247-480c-b986-d806c7b3144b"
      },
      "outputs": [
        {
          "output_type": "execute_result",
          "data": {
            "text/plain": [
              "0.0"
            ]
          },
          "metadata": {},
          "execution_count": 53
        }
      ],
      "source": [
        "prices.get(\"AMZ\", 0.0)    # devuelve 0.0 si no encuentra la clave AMZ"
      ]
    },
    {
      "cell_type": "code",
      "execution_count": 54,
      "metadata": {
        "colab": {
          "base_uri": "https://localhost:8080/",
          "height": 175
        },
        "id": "J5Vf0X8MqJ0r",
        "outputId": "40c059b0-c5e6-4c6f-e78a-a3d11f65887c"
      },
      "outputs": [
        {
          "output_type": "error",
          "ename": "KeyError",
          "evalue": "ignored",
          "traceback": [
            "\u001b[0;31m---------------------------------------------------------------------------\u001b[0m",
            "\u001b[0;31mKeyError\u001b[0m                                  Traceback (most recent call last)",
            "\u001b[0;32m<ipython-input-54-a5e5920f828e>\u001b[0m in \u001b[0;36m<cell line: 1>\u001b[0;34m()\u001b[0m\n\u001b[0;32m----> 1\u001b[0;31m \u001b[0mprices\u001b[0m\u001b[0;34m[\u001b[0m\u001b[0;34m\"AMZ\"\u001b[0m\u001b[0;34m]\u001b[0m\u001b[0;34m\u001b[0m\u001b[0;34m\u001b[0m\u001b[0m\n\u001b[0m",
            "\u001b[0;31mKeyError\u001b[0m: 'AMZ'"
          ]
        }
      ],
      "source": [
        "prices[\"AMZ\"]"
      ]
    },
    {
      "cell_type": "markdown",
      "metadata": {
        "id": "3LSOPwY-qxAM"
      },
      "source": [
        "Los diccionarios son objetos **mutables**, podemos añadir elementos directamente"
      ]
    },
    {
      "cell_type": "code",
      "execution_count": 55,
      "metadata": {
        "colab": {
          "base_uri": "https://localhost:8080/"
        },
        "id": "i7z7dJ_TrMF2",
        "outputId": "6336cb25-b06c-4873-e3bf-71e5f014d834"
      },
      "outputs": [
        {
          "output_type": "execute_result",
          "data": {
            "text/plain": [
              "{'GOOG': 490.1, 'AAPL': 123.5, 'IBM': 91.5, 'MSFT': 52.13, 'AMZ': 90.98}"
            ]
          },
          "metadata": {},
          "execution_count": 55
        }
      ],
      "source": [
        "prices[\"AMZ\"] = 90.98\n",
        "prices"
      ]
    },
    {
      "cell_type": "markdown",
      "metadata": {
        "id": "iqDwah-7sIgM"
      },
      "source": [
        "para ello también tenemos el método `update`, que acepta otro diccionario o un iterable de pares clave-valor."
      ]
    },
    {
      "cell_type": "code",
      "execution_count": 56,
      "metadata": {
        "colab": {
          "base_uri": "https://localhost:8080/"
        },
        "id": "9Yen_8BSsWZy",
        "outputId": "2bde65a9-7c9e-4590-845f-125d61491ac6"
      },
      "outputs": [
        {
          "output_type": "execute_result",
          "data": {
            "text/plain": [
              "{'apple': 'fruit',\n",
              " 'carrot': 'vegetable',\n",
              " 'grape': 'fruit',\n",
              " 'onion': 'vegetable'}"
            ]
          },
          "metadata": {},
          "execution_count": 56
        }
      ],
      "source": [
        "fruit_or_veggie.update([(\"grape\", \"fruit\"), (\"onion\", \"vegetable\")])\n",
        "fruit_or_veggie"
      ]
    },
    {
      "cell_type": "code",
      "source": [
        "fruit_or_veggie[\"apple\"] = \"evil fruit\"\n",
        "fruit_or_veggie"
      ],
      "metadata": {
        "id": "RJLktLq7GHYO",
        "outputId": "2cdee468-bf87-4988-dbac-b4e4d259bb35",
        "colab": {
          "base_uri": "https://localhost:8080/"
        }
      },
      "execution_count": 59,
      "outputs": [
        {
          "output_type": "execute_result",
          "data": {
            "text/plain": [
              "{'apple': 'evil fruit',\n",
              " 'carrot': 'vegetable',\n",
              " 'grape': 'fruit',\n",
              " 'onion': 'vegetable'}"
            ]
          },
          "metadata": {},
          "execution_count": 59
        }
      ]
    },
    {
      "cell_type": "markdown",
      "metadata": {
        "id": "roqEbfQht8hz"
      },
      "source": [
        "para borrar un elemento utilizamos `del` (leventa error si no encuentra la clave) o el método `pop` o `remove` como vimos en listas."
      ]
    },
    {
      "cell_type": "code",
      "execution_count": null,
      "metadata": {
        "id": "VDAXxIsquARw"
      },
      "outputs": [],
      "source": [
        "del prices[\"AMZ\"]  #del es delit y es para borrar"
      ]
    },
    {
      "cell_type": "code",
      "execution_count": null,
      "metadata": {
        "colab": {
          "base_uri": "https://localhost:8080/"
        },
        "id": "rE6dc3eeuVZA",
        "outputId": "c4e9184f-f593-4c60-eb87-13bc8b0f07c7"
      },
      "outputs": [
        {
          "data": {
            "text/plain": [
              "{'GOOG': 490.1, 'AAPL': 123.5, 'IBM': 91.5, 'MSFT': 52.13}"
            ]
          },
          "execution_count": 44,
          "metadata": {},
          "output_type": "execute_result"
        }
      ],
      "source": [
        "prices"
      ]
    },
    {
      "cell_type": "markdown",
      "metadata": {
        "id": "R2MKWHA4sH06"
      },
      "source": [
        ":::{exercise}\n",
        ":label: other-data-structures-dict\n",
        "\n",
        "Dada la siguiente tupla de nombres\n",
        "\n",
        "```\n",
        "(\"Alicia\", \"Eva\", \"Manolo\", \"Virginia\")\n",
        "```\n",
        "\n",
        "y sus correspondientes calificaciones\n",
        "\n",
        "```\n",
        "(5.2, 9.1, 7.2, 4.9)\n",
        "```\n",
        "\n",
        "crea un diccionario que mapee nombres con calificaciones. Luego, actualiza la nota de Virginia a un `5.0`. Finalmente, añade a Alberto, que ha cateado con un `2.7`.\n",
        "\n",
        ":::"
      ]
    },
    {
      "cell_type": "code",
      "source": [
        "notas = {\n",
        "        \"Alicia\" : 5.2,\n",
        "        \"Eva\" : 9.1,\n",
        "        \"Manolo\" : 7.2,\n",
        "        \"Virginia\" : 4.9}\n",
        "\n",
        "print(notas)\n",
        "\n",
        "# actualizamos la nota de virginia:\n",
        "notas[\"Virginia\"] = 5.0\n",
        "\n",
        "# Añadimos a Alberto:\n",
        "notas[\"Alberto\"] = 2.7\n",
        "\n",
        "print(\"Despues de las modificaciones...\")\n",
        "print(notas)"
      ],
      "metadata": {
        "id": "OKxf04RnGdiF",
        "outputId": "1edd0e96-f7cb-4daa-9098-d25916eceb18",
        "colab": {
          "base_uri": "https://localhost:8080/"
        }
      },
      "execution_count": 60,
      "outputs": [
        {
          "output_type": "stream",
          "name": "stdout",
          "text": [
            "{'Alicia': 5.2, 'Eva': 9.1, 'Manolo': 7.2, 'Virginia': 4.9}\n",
            "Despues de las modificaciones...\n",
            "{'Alicia': 5.2, 'Eva': 9.1, 'Manolo': 7.2, 'Virginia': 5.0, 'Alberto': 2.7}\n"
          ]
        }
      ]
    },
    {
      "cell_type": "markdown",
      "metadata": {
        "id": "3WR_QmZLvf_9"
      },
      "source": [
        "> Un diccionario **puede almacenar cualquier tipo de objeto**, pero las claves deben ser siempre **inmutables**, o más generalmente, **hasheables**."
      ]
    },
    {
      "cell_type": "code",
      "execution_count": 61,
      "metadata": {
        "id": "lfonNBFb22-R"
      },
      "outputs": [],
      "source": [
        "example_dict = {\n",
        "    -1: 10,\n",
        "    \"moo\": True,\n",
        "    (1, 2): print,\n",
        "    3.4: \"cow\", # es altamente no recomendable usar floats como claves\n",
        "    False:[]\n",
        "}"
      ]
    },
    {
      "cell_type": "markdown",
      "metadata": {
        "id": "zlaa119JwiVh"
      },
      "source": [
        ":::{exercise}\n",
        ":label: other-data-structures-dict-2\n",
        "\n",
        "¿Qué tipo de error obtenemos al crear un diccionario con una clave que sea mutable?\n",
        "\n",
        ":::"
      ]
    },
    {
      "cell_type": "code",
      "source": [
        "{\n",
        "    [1,2]:None\n",
        "}"
      ],
      "metadata": {
        "id": "8vTLKwbuIa0t",
        "outputId": "3e663400-6517-4d46-f682-97df2e9b0df9",
        "colab": {
          "base_uri": "https://localhost:8080/",
          "height": 210
        }
      },
      "execution_count": 62,
      "outputs": [
        {
          "output_type": "error",
          "ename": "TypeError",
          "evalue": "ignored",
          "traceback": [
            "\u001b[0;31m---------------------------------------------------------------------------\u001b[0m",
            "\u001b[0;31mTypeError\u001b[0m                                 Traceback (most recent call last)",
            "\u001b[0;32m<ipython-input-62-3c3a99481f52>\u001b[0m in \u001b[0;36m<cell line: 2>\u001b[0;34m()\u001b[0m\n\u001b[0;32m----> 1\u001b[0;31m {\n\u001b[0m\u001b[1;32m      2\u001b[0m     \u001b[0;34m[\u001b[0m\u001b[0;36m1\u001b[0m\u001b[0;34m,\u001b[0m\u001b[0;36m2\u001b[0m\u001b[0;34m]\u001b[0m\u001b[0;34m:\u001b[0m\u001b[0;32mNone\u001b[0m\u001b[0;34m\u001b[0m\u001b[0;34m\u001b[0m\u001b[0m\n\u001b[1;32m      3\u001b[0m }\n",
            "\u001b[0;31mTypeError\u001b[0m: unhashable type: 'list'"
          ]
        }
      ]
    },
    {
      "cell_type": "markdown",
      "metadata": {
        "id": "8iblA2P33Vnw"
      },
      "source": [
        "Cuando iteramos sobre un diccionario, se utilizan las claves como referencia. Por ejemplo"
      ]
    },
    {
      "cell_type": "code",
      "execution_count": 63,
      "metadata": {
        "id": "_1UwieAN3iOY"
      },
      "outputs": [],
      "source": [
        "example_dict = {\"key1\": \"value1\", \"key2\": \"value2\", \"key3\": \"value3\"}"
      ]
    },
    {
      "cell_type": "code",
      "execution_count": 64,
      "metadata": {
        "colab": {
          "base_uri": "https://localhost:8080/"
        },
        "id": "gTxYSqVa3mp5",
        "outputId": "5ab2d1cf-bb53-49c6-d761-ea8a9fdff0fe"
      },
      "outputs": [
        {
          "output_type": "execute_result",
          "data": {
            "text/plain": [
              "['key1', 'key2', 'key3']"
            ]
          },
          "metadata": {},
          "execution_count": 64
        }
      ],
      "source": [
        "list(example_dict) # pasar del diccionario a lista, pero los valores no los saca,\n",
        "# Solo saca las variables"
      ]
    },
    {
      "cell_type": "code",
      "execution_count": 65,
      "metadata": {
        "colab": {
          "base_uri": "https://localhost:8080/"
        },
        "id": "t34cr1B43lXl",
        "outputId": "3b44591e-052e-4a6b-f63f-d94c9c52aa96"
      },
      "outputs": [
        {
          "output_type": "execute_result",
          "data": {
            "text/plain": [
              "False"
            ]
          },
          "metadata": {},
          "execution_count": 65
        }
      ],
      "source": [
        "\"value1\" in example_dict"
      ]
    },
    {
      "cell_type": "code",
      "execution_count": 66,
      "metadata": {
        "colab": {
          "base_uri": "https://localhost:8080/"
        },
        "id": "cm7G8PAs3vgc",
        "outputId": "f7639217-dd7e-47ea-a01e-bdd195dc58af"
      },
      "outputs": [
        {
          "output_type": "execute_result",
          "data": {
            "text/plain": [
              "3"
            ]
          },
          "metadata": {},
          "execution_count": 66
        }
      ],
      "source": [
        "len(example_dict) # nos da el número de claves"
      ]
    },
    {
      "cell_type": "markdown",
      "metadata": {
        "id": "XO88om-530vx"
      },
      "source": [
        "Para acceder a los valores de un diccionario, hay que invocar al método `values`. Si queremos los pares clave-valor como duplas, llamamos a `items`"
      ]
    },
    {
      "cell_type": "code",
      "execution_count": null,
      "metadata": {
        "id": "aRg5dHuG4AWi"
      },
      "outputs": [],
      "source": [
        "list(example_dict.values())"
      ]
    },
    {
      "cell_type": "code",
      "execution_count": null,
      "metadata": {
        "id": "EOABBAQg4GW-"
      },
      "outputs": [],
      "source": [
        "list(example_dict.items())"
      ]
    },
    {
      "cell_type": "markdown",
      "source": [
        "Los diccionarios son objetos **iterables**"
      ],
      "metadata": {
        "id": "_HlIr3SKPzZn"
      }
    },
    {
      "cell_type": "code",
      "source": [
        "x, s = {\"a\": \"foo\", 1: \"bar\"}"
      ],
      "metadata": {
        "id": "bUtW1kN1QI7R"
      },
      "execution_count": 67,
      "outputs": []
    },
    {
      "cell_type": "code",
      "source": [
        "x"
      ],
      "metadata": {
        "id": "00SkGYQkQVa1",
        "outputId": "b5e957ec-ae2c-4e49-a9dc-40ac4fc0d319",
        "colab": {
          "base_uri": "https://localhost:8080/",
          "height": 35
        }
      },
      "execution_count": 68,
      "outputs": [
        {
          "output_type": "execute_result",
          "data": {
            "text/plain": [
              "'a'"
            ],
            "application/vnd.google.colaboratory.intrinsic+json": {
              "type": "string"
            }
          },
          "metadata": {},
          "execution_count": 68
        }
      ]
    },
    {
      "cell_type": "code",
      "source": [
        "s"
      ],
      "metadata": {
        "id": "Yp0TFrp1QXvD",
        "outputId": "231ed7b0-da36-4f74-d3b0-f39720218946",
        "colab": {
          "base_uri": "https://localhost:8080/"
        }
      },
      "execution_count": 69,
      "outputs": [
        {
          "output_type": "execute_result",
          "data": {
            "text/plain": [
              "1"
            ]
          },
          "metadata": {},
          "execution_count": 69
        }
      ]
    },
    {
      "cell_type": "code",
      "source": [
        "for k in example_dict:\n",
        "    print(k)"
      ],
      "metadata": {
        "id": "JyLAVsNzQfOy",
        "outputId": "52ff24e8-7e1b-4a68-cd11-795fd60b7011",
        "colab": {
          "base_uri": "https://localhost:8080/"
        }
      },
      "execution_count": 70,
      "outputs": [
        {
          "output_type": "stream",
          "name": "stdout",
          "text": [
            "key1\n",
            "key2\n",
            "key3\n"
          ]
        }
      ]
    },
    {
      "cell_type": "markdown",
      "metadata": {
        "id": "1x97zPysze8h"
      },
      "source": [
        "---\n",
        "## Conjuntos\n",
        "\n",
        "Los **conjuntos** nos sirven para crear una estructura de objetos **únicos** y **sin orden**. Por lo tanto son útiles para\n",
        "- Filtrar objetos repetidos de una colección.\n",
        "- Comprobar pertenencia de un objeto en tiempo constante.\n",
        "- Verificar si una colección de objetos contiene a otra.\n",
        "La estructura de conjunto utiliza el método `__hash__` que incoporan los objetos hasheables para guardarlos. Es parecido a los diccionarios pero sin utilizar una clave, por lo tanto **no podemos guardar objetos mutables en un conjunto**.\n",
        "\n",
        "Para crear un conjunto utilizamos corchetes `{}` o la función `set`, a la que podemos pasar cualquier iterable."
      ]
    },
    {
      "cell_type": "code",
      "execution_count": 71,
      "metadata": {
        "colab": {
          "base_uri": "https://localhost:8080/"
        },
        "id": "QZqGYV5I0_vF",
        "outputId": "0b8df69d-20e6-41e9-efd5-dd1890dfc69f"
      },
      "outputs": [
        {
          "output_type": "execute_result",
          "data": {
            "text/plain": [
              "{(1, 2, 3), 1, 3.4, False, 'apple'}"
            ]
          },
          "metadata": {},
          "execution_count": 71
        }
      ],
      "source": [
        "my_set = {1, 3.4, \"apple\", False, (1, 2, 3)}\n",
        "my_set"
      ]
    },
    {
      "cell_type": "code",
      "execution_count": 72,
      "metadata": {
        "colab": {
          "base_uri": "https://localhost:8080/",
          "height": 175
        },
        "id": "ItsLR3_01J9-",
        "outputId": "57788af2-68a6-4499-863e-c7c64f8a4349"
      },
      "outputs": [
        {
          "output_type": "error",
          "ename": "TypeError",
          "evalue": "ignored",
          "traceback": [
            "\u001b[0;31m---------------------------------------------------------------------------\u001b[0m",
            "\u001b[0;31mTypeError\u001b[0m                                 Traceback (most recent call last)",
            "\u001b[0;32m<ipython-input-72-4fd79aa68f5c>\u001b[0m in \u001b[0;36m<cell line: 1>\u001b[0;34m()\u001b[0m\n\u001b[0;32m----> 1\u001b[0;31m \u001b[0;34m{\u001b[0m\u001b[0;34m\"foo\"\u001b[0m\u001b[0;34m,\u001b[0m \u001b[0;34m\"bar\"\u001b[0m\u001b[0;34m,\u001b[0m \u001b[0;34m[\u001b[0m\u001b[0;34m\"baz\"\u001b[0m\u001b[0;34m]\u001b[0m\u001b[0;34m}\u001b[0m\u001b[0;34m\u001b[0m\u001b[0;34m\u001b[0m\u001b[0m\n\u001b[0m",
            "\u001b[0;31mTypeError\u001b[0m: unhashable type: 'list'"
          ]
        }
      ],
      "source": [
        "{\"foo\", \"bar\", [\"baz\"]}"
      ]
    },
    {
      "cell_type": "markdown",
      "metadata": {
        "id": "rI3pElj41hWF"
      },
      "source": [
        "Al igual que los diccionarios, los conjuntos son objetos **iterables que no son secuencias**. A continuación mostramos las operaciones más usuales entre conjuntos"
      ]
    },
    {
      "cell_type": "code",
      "execution_count": 73,
      "metadata": {
        "id": "tf8mMa1S3CKi",
        "outputId": "809318e3-a8ae-444e-a2bc-3db47d037168",
        "colab": {
          "base_uri": "https://localhost:8080/"
        }
      },
      "outputs": [
        {
          "output_type": "execute_result",
          "data": {
            "text/plain": [
              "False"
            ]
          },
          "metadata": {},
          "execution_count": 73
        }
      ],
      "source": [
        "x = {\"a\", \"b\", \"c\", \"d\"}\n",
        "y = {\"a\", \"b\", \"e\"}\n",
        "\n",
        "# unión\n",
        "x | y  # o x.union(y)\n",
        "# {'a', 'b', 'c', 'd', 'e'}\n",
        "\n",
        "# intersección\n",
        "x & y  # o x.intersection(y)\n",
        "# {'a', 'b'}\n",
        "\n",
        "# diferencia\n",
        "x - y  # o x.difference(y)\n",
        "# {'c', 'd'}\n",
        "\n",
        "# diferencia simétrica\n",
        "x ^ y  # o x.symmetric_difference(y)\n",
        "# {'c', 'd', 'e'}\n",
        "\n",
        "# verifica subconjunto\n",
        "{1, 2, 3, 4} >= {1, 2}\n",
        "# True\n",
        "\n",
        "# verifica igualdad\n",
        "{1, 2, 3, 4} == {1, 2}\n",
        "# False"
      ]
    },
    {
      "cell_type": "markdown",
      "metadata": {
        "id": "E7lIWc4T3t__"
      },
      "source": [
        "Los conjuntos con objetos **mutables**, podemos modificarlos con los métodos `add` (añade un elemento), `update` (añade varios elementos mediante un iterable) o `remove`. Existe una versión **inmutable** de los conjuntos, llamada `fronzenset`."
      ]
    },
    {
      "cell_type": "markdown",
      "metadata": {
        "id": "JyTet8ls4Gik"
      },
      "source": [
        ":::{exercise}\n",
        ":label: other-data-structures-sets\n",
        "\n",
        "Considera las siguientes listas de nombres:\n",
        "\n",
        "```\n",
        "A = [\"Bohr\", \"Curie\", \"David\", \"Euler\", \"Fermi\", \"Feynman\", \"Gauss\", \"Heisenberg\", \"Noether\", \"Gauss\"]\n",
        "```\n",
        "\n",
        "```\n",
        "B = [\"Bohm\", \"Bohr\", \"Einstein\", \"Fermi\", \"Gauss\", \"Hopper\", \"Montalcini\", \"Fermi\", \"Einsteins\"]\n",
        "```\n",
        "\n",
        "Escribe expresiones que devuelvan:\n",
        "1. Número total de nombres únicos.\n",
        "2. Nombres de A que no están en B.\n",
        "3. Número de nombres de A que no están en B o nombres de B que no están en A\n",
        "\n",
        "\n",
        ":::"
      ]
    },
    {
      "cell_type": "markdown",
      "metadata": {
        "id": "td1JEwtU5Mle"
      },
      "source": [
        "Existen otras muchas estructuras de datos altamente optimizadas para tareas concretas en el módulo [`collections`](https://docs.python.org/3/library/collections.html)"
      ]
    },
    {
      "cell_type": "code",
      "source": [
        "A = [\"Bohr\", \"Curie\", \"David\", \"Euler\", \"Fermi\", \"Feynman\", \"Gauss\", \"Heisenberg\", \"Noether\", \"Gauss\"]\n",
        "B = [\"Bohm\", \"Bohr\", \"Einstein\", \"Fermi\", \"Gauss\", \"Hopper\", \"Montalcini\", \"Fermi\", \"Einsteins\"]\n",
        "\n",
        "# 1. Número total de nombres únicos.\n",
        "C = set(A) | set(B)\n",
        "print(len(C))\n",
        "\n",
        "# 2. Nombres de A que no están en B.\n",
        "D = set(A) - set(B)\n",
        "print(D)\n",
        "\n",
        "# 3. Número de nombres de A que no están en B o nombres de B que no están en A\n",
        "len(set(A)^set(B))"
      ],
      "metadata": {
        "id": "ThMoBnS1JgES",
        "outputId": "388e99e4-f58c-4a7a-a6f0-ad4fade333a8",
        "colab": {
          "base_uri": "https://localhost:8080/"
        }
      },
      "execution_count": 79,
      "outputs": [
        {
          "output_type": "stream",
          "name": "stdout",
          "text": [
            "14\n",
            "{'Feynman', 'David', 'Noether', 'Curie', 'Heisenberg', 'Euler'}\n"
          ]
        },
        {
          "output_type": "execute_result",
          "data": {
            "text/plain": [
              "11"
            ]
          },
          "metadata": {},
          "execution_count": 79
        }
      ]
    },
    {
      "cell_type": "markdown",
      "metadata": {
        "id": "m6Y293e3_5FC"
      },
      "source": [
        "---\n",
        "## Generadores"
      ]
    },
    {
      "cell_type": "markdown",
      "metadata": {
        "id": "YoEG8n_mBnlZ"
      },
      "source": [
        "Los **generadores** nos permiten generar en forma de promesa un número arbitrario de items sin necesidad de guardarlos en memoria. Se trata de un objeto iterable, pero que genera cada uno de sus miembros en orden cuando las iteraciones lo vayan requiriendo. Ya hemos visto un ejemplo de generador cuando hemos utilizado la función `range`. Es bastante común contruir listas, tuplas o conjuntos a partir de un generador.\n",
        "\n",
        "Una sintaxis disponible para crear un generador es la siguiente\n",
        "\n",
        "```\n",
        "(<expression> for <var> in <iterable> if <condition>)\n",
        "```\n"
      ]
    },
    {
      "cell_type": "markdown",
      "metadata": {
        "id": "Xv3IsPUYAV0h"
      },
      "source": [
        "Por ejemplo,"
      ]
    },
    {
      "cell_type": "code",
      "execution_count": 80,
      "metadata": {
        "id": "AFRGhy3LCeQd",
        "outputId": "fbbfde73-d171-4db7-c2fb-9aac2d337b5c",
        "colab": {
          "base_uri": "https://localhost:8080/"
        }
      },
      "outputs": [
        {
          "output_type": "stream",
          "name": "stdout",
          "text": [
            "<generator object <genexpr> at 0x7e10e86cba00>\n"
          ]
        }
      ],
      "source": [
        "even_gen = (i for i in range(100) if i%2 == 0)\n",
        "print(even_gen) #python no lo calcula solo lo define hasta que sea necesario"
      ]
    },
    {
      "cell_type": "code",
      "source": [
        "import string\n",
        "is_not_vocal = {c for c in string.ascii_lowercase if c not in [\"a\", \"e\", \"i\", \"o\", \"u\"]}"
      ],
      "metadata": {
        "id": "NEXCLkMGL3vr"
      },
      "execution_count": 82,
      "outputs": []
    },
    {
      "cell_type": "code",
      "source": [
        "list(is_not_vocal)"
      ],
      "metadata": {
        "id": "Is0k7noVMMR8",
        "outputId": "556bcff6-735e-40b7-f9fa-c0fd1daec714",
        "colab": {
          "base_uri": "https://localhost:8080/"
        }
      },
      "execution_count": 83,
      "outputs": [
        {
          "output_type": "execute_result",
          "data": {
            "text/plain": [
              "['s',\n",
              " 'c',\n",
              " 'k',\n",
              " 'y',\n",
              " 'm',\n",
              " 'w',\n",
              " 'r',\n",
              " 't',\n",
              " 'g',\n",
              " 'q',\n",
              " 'p',\n",
              " 'v',\n",
              " 'f',\n",
              " 'x',\n",
              " 'j',\n",
              " 'b',\n",
              " 'h',\n",
              " 'z',\n",
              " 'd',\n",
              " 'l',\n",
              " 'n']"
            ]
          },
          "metadata": {},
          "execution_count": 83
        }
      ]
    },
    {
      "cell_type": "markdown",
      "metadata": {
        "id": "Z7FBnQyNDo05"
      },
      "source": [
        ":::{exercise}\n",
        ":label: other-data-structures-generators\n",
        "\n",
        "Estudia cómo evoluciona el tamaño en memoria de un generador un función de su tamaño.\n",
        "\n",
        ":::"
      ]
    },
    {
      "cell_type": "code",
      "source": [
        "import sys\n",
        "print(sys.getsizeof(i for i in range(10)))  # El tamaño en memoria\n",
        "print(sys.getsizeof(i for i in range(100)))\n",
        "print(sys.getsizeof(i for i in range(1000)))"
      ],
      "metadata": {
        "id": "h9Jbg64WMisK",
        "outputId": "52b0c477-7859-4ede-e3ca-8f90d4e95148",
        "colab": {
          "base_uri": "https://localhost:8080/"
        }
      },
      "execution_count": 85,
      "outputs": [
        {
          "output_type": "stream",
          "name": "stdout",
          "text": [
            "104\n",
            "104\n",
            "104\n"
          ]
        }
      ]
    },
    {
      "cell_type": "markdown",
      "metadata": {
        "id": "eHOzziEBD4uc"
      },
      "source": [
        "Podemos aplicar métodos propios de un objeto iterable como `all` o `sum` a un generador. También son bastante útiles a la hora de definir listas, diccionarios o conjuntos mediante las denominadas **expresiones de comprensión**"
      ]
    },
    {
      "cell_type": "code",
      "execution_count": 86,
      "metadata": {
        "id": "dsl0RXPlEcL1"
      },
      "outputs": [],
      "source": [
        "# crea una lista\n",
        "my_list = [i for i in range(100) if i%2 == 0]\n",
        "\n",
        "# crea una tupla\n",
        "my_tuple = tuple(i for i in range(100) if i%2==0)\n",
        "\n",
        "# crea un conjunto\n",
        "my_set = {i for i in range(100) if i%2 == 0}"
      ]
    },
    {
      "cell_type": "markdown",
      "metadata": {
        "id": "aM7DO1J8E8SB"
      },
      "source": [
        "En los tres casos, lo que hace python es crear un generador y a partir del mismo llamar a las funciones `list`, `tuple` y `set`. En caso de los diccionarios, también existe una sintaxis similar"
      ]
    },
    {
      "cell_type": "code",
      "execution_count": 87,
      "metadata": {
        "id": "IakasQ2YGCPV"
      },
      "outputs": [],
      "source": [
        "# crea un diccionario\n",
        "keys = [\"key1\", \"key2\", \"key3\"]\n",
        "values = [\"value1\", \"value2\", \"value3\"]\n",
        "my_dict = {key:value for key, value in zip(keys, values)}"
      ]
    },
    {
      "cell_type": "code",
      "source": [
        "l = [i for i in range(10)]\n",
        "t = tuple(c for c in string.ascii_lowercase)\n",
        "z = zip(l,t) # hasta q no se necesite no se crea\n",
        "pairs = [(x,y)  for x, y in z] # aqui se crea el zip porque es necesario\n",
        "\n",
        "print(l)\n",
        "print(t)\n",
        "print(z)\n",
        "print(pairs)"
      ],
      "metadata": {
        "id": "ctN30UxKNaxc",
        "outputId": "f65b6cfb-3756-47cd-c912-314e18269982",
        "colab": {
          "base_uri": "https://localhost:8080/"
        }
      },
      "execution_count": 88,
      "outputs": [
        {
          "output_type": "stream",
          "name": "stdout",
          "text": [
            "[0, 1, 2, 3, 4, 5, 6, 7, 8, 9]\n",
            "('a', 'b', 'c', 'd', 'e', 'f', 'g', 'h', 'i', 'j', 'k', 'l', 'm', 'n', 'o', 'p', 'q', 'r', 's', 't', 'u', 'v', 'w', 'x', 'y', 'z')\n",
            "<zip object at 0x7e10e8658a40>\n",
            "[(0, 'a'), (1, 'b'), (2, 'c'), (3, 'd'), (4, 'e'), (5, 'f'), (6, 'g'), (7, 'h'), (8, 'i'), (9, 'j')]\n"
          ]
        }
      ]
    },
    {
      "cell_type": "markdown",
      "metadata": {
        "id": "1x4JLkW2GEzb"
      },
      "source": [
        "La función `zip` crea un iterable de tuplas de longitud 2 con los items del primer y segundo argumento, respectivamete.\n",
        "\n",
        "Para iterar sobre los elementos de un generador, podemos utilizar la función `next`"
      ]
    },
    {
      "cell_type": "code",
      "execution_count": 89,
      "metadata": {
        "colab": {
          "base_uri": "https://localhost:8080/"
        },
        "id": "HowiG88LHkUU",
        "outputId": "ee9d309a-0fb9-4747-867d-4e2aaeda6f5e"
      },
      "outputs": [
        {
          "output_type": "execute_result",
          "data": {
            "text/plain": [
              "0"
            ]
          },
          "metadata": {},
          "execution_count": 89
        }
      ],
      "source": [
        "next(even_gen)"
      ]
    },
    {
      "cell_type": "code",
      "execution_count": 90,
      "metadata": {
        "colab": {
          "base_uri": "https://localhost:8080/"
        },
        "id": "XL-uOG5HHnLD",
        "outputId": "1dc0048f-0a2f-49d1-80ba-64d967165391"
      },
      "outputs": [
        {
          "output_type": "execute_result",
          "data": {
            "text/plain": [
              "2"
            ]
          },
          "metadata": {},
          "execution_count": 90
        }
      ],
      "source": [
        "next(even_gen)"
      ]
    },
    {
      "cell_type": "code",
      "source": [
        "g = (i for i in range(5))"
      ],
      "metadata": {
        "id": "Nx7UuubIOGOV"
      },
      "execution_count": 92,
      "outputs": []
    },
    {
      "cell_type": "code",
      "source": [
        "next(g) # cuando llega al limite del conjunto"
      ],
      "metadata": {
        "id": "6dBerbTLOK4y",
        "outputId": "9da672fc-4093-4221-fd34-de8454bace41",
        "colab": {
          "base_uri": "https://localhost:8080/",
          "height": 175
        }
      },
      "execution_count": 98,
      "outputs": [
        {
          "output_type": "error",
          "ename": "StopIteration",
          "evalue": "ignored",
          "traceback": [
            "\u001b[0;31m---------------------------------------------------------------------------\u001b[0m",
            "\u001b[0;31mStopIteration\u001b[0m                             Traceback (most recent call last)",
            "\u001b[0;32m<ipython-input-98-e734f8aca5ac>\u001b[0m in \u001b[0;36m<cell line: 1>\u001b[0;34m()\u001b[0m\n\u001b[0;32m----> 1\u001b[0;31m \u001b[0mnext\u001b[0m\u001b[0;34m(\u001b[0m\u001b[0mg\u001b[0m\u001b[0;34m)\u001b[0m\u001b[0;34m\u001b[0m\u001b[0;34m\u001b[0m\u001b[0m\n\u001b[0m",
            "\u001b[0;31mStopIteration\u001b[0m: "
          ]
        }
      ]
    },
    {
      "cell_type": "markdown",
      "metadata": {
        "id": "DfjlUiVTHonl"
      },
      "source": [
        "Cuando un objeto además de ser un iterable tiene la capacidad de almacenar el estado de su iteración, se dice que es un **iterador**."
      ]
    },
    {
      "cell_type": "markdown",
      "metadata": {
        "id": "I8oB9sYeGY4G"
      },
      "source": [
        ":::{exercise}\n",
        ":label: other-data-structures-generators-2\n",
        "\n",
        "Considera las siguientes expresiones\n",
        "\n",
        "```\n",
        "sum(1/n for n in range(1, 101))\n",
        "```\n",
        "\n",
        "```\n",
        "sum([1/n for n in range(1, 101)])\n",
        "```\n",
        "\n",
        "¿Cuál es más eficiente? ¿Por qué?\n",
        "\n",
        ":::"
      ]
    },
    {
      "cell_type": "code",
      "source": [
        "sum(1/n for n in range(1, 101))\n",
        "# 1. Crea el generador (lazy)\n",
        "# 2. Llama a next para obtener el primero\n",
        "# 3. Va sumando y llamando a next en cada iteracion\n",
        "\n",
        "\n",
        "sum([1/n for n in range(1, 101)])\n",
        "# 1. crea la lista (vacia)\n",
        "# 2. recorre range(1,101) y para cada iteracion, va guardanado en memoria\n",
        "# 3. calcula la suma\n",
        "\n",
        "# El primero es mejor, ya que el segundo guarda las 101 iteraciones"
      ],
      "metadata": {
        "id": "6Q2cG-fUOY6T",
        "outputId": "a52205dd-be4e-4343-e98a-e1c16f39c219",
        "colab": {
          "base_uri": "https://localhost:8080/"
        }
      },
      "execution_count": 99,
      "outputs": [
        {
          "output_type": "execute_result",
          "data": {
            "text/plain": [
              "5.187377517639621"
            ]
          },
          "metadata": {},
          "execution_count": 99
        }
      ]
    },
    {
      "cell_type": "markdown",
      "source": [
        "Existe otra forma más general de definir los generadores, que es utilizando la palabra reservada `yield` dentro de una función. Si escribimos uno o más declaraciones `yield` dentro de una función, al llamar a esta se creará un generador, veremos esto más adelante en [en la sección dedicada a funciones](https://javlintor.github.io/curso-python-us/notebooks/introduction-python/functions.html)"
      ],
      "metadata": {
        "id": "jOOFKHcHfGkn"
      }
    },
    {
      "cell_type": "markdown",
      "metadata": {
        "id": "UYD6kWkQTZ05"
      },
      "source": [
        "---\n",
        "## Comparación complejidad computacional\n",
        "\n",
        "Vamos a comparar las diferentes estructuras de datos que hemos visto en cuanto a su tiempo de cómputo para diferentes tareas. No te preocupes ahora mismo por el código utilizado para hacer estas pruebas y pintar las gráficas."
      ]
    },
    {
      "cell_type": "markdown",
      "metadata": {
        "id": "Z3bfeRslp-sv"
      },
      "source": [
        "### Pertenencia\n"
      ]
    },
    {
      "cell_type": "code",
      "execution_count": 100,
      "metadata": {
        "id": "S1fzDaVrpONS"
      },
      "outputs": [],
      "source": [
        "%config InlineBackend.figure_format='retina'  # Esto es para que los dibujos se vean bien"
      ]
    },
    {
      "cell_type": "code",
      "execution_count": 101,
      "metadata": {
        "colab": {
          "base_uri": "https://localhost:8080/",
          "height": 472
        },
        "id": "UB-dtNKwppRl",
        "outputId": "bbf4744b-267a-4e82-91eb-9573f2075db0"
      },
      "outputs": [
        {
          "output_type": "display_data",
          "data": {
            "text/plain": [
              "<Figure size 640x480 with 1 Axes>"
            ],
            "image/png": "[encoded data removed]"
          },
          "metadata": {
            "image/png": {
              "width": 577,
              "height": 455
            }
          }
        }
      ],
      "source": [
        "import time\n",
        "import numpy as np\n",
        "import matplotlib.pyplot as plt\n",
        "\n",
        "\n",
        "def get_membership_time_from_range(i):\n",
        "    iterable = range(i)\n",
        "    execution_time = get_membership_time_from_iterable(i - 1, iterable)\n",
        "    return execution_time\n",
        "\n",
        "def get_membership_time_from_list(i):\n",
        "    iterable = list(range(i))\n",
        "    execution_time = get_membership_time_from_iterable(i - 1, iterable)\n",
        "    return execution_time\n",
        "\n",
        "def get_membership_time_from_set(i):\n",
        "    iterable = set(range(i))\n",
        "    execution_time = get_membership_time_from_iterable(i - 1, iterable)\n",
        "    return execution_time\n",
        "\n",
        "def get_membership_time_from_tuple(i):\n",
        "    iterable = tuple(range(i))\n",
        "    execution_time = get_membership_time_from_iterable(i - 1, iterable)\n",
        "    return execution_time\n",
        "\n",
        "def get_membership_time_from_iterable(i, iterable, repeat=10):\n",
        "    execution_times = []\n",
        "    for _ in range(repeat):\n",
        "        start = time.time()\n",
        "        i in iterable\n",
        "        end = time.time()\n",
        "        execution_time = end - start\n",
        "        execution_times.append(execution_time)\n",
        "    mean_execution_time = np.mean(execution_times)\n",
        "    return mean_execution_time\n",
        "\n",
        "n = [10**i for i in range(8)]\n",
        "t_range = [get_membership_time_from_range(i) for i in n]\n",
        "t_list = [get_membership_time_from_list(i) for i in n]\n",
        "t_set = [get_membership_time_from_set(i) for i in n]\n",
        "t_tuple = [get_membership_time_from_tuple(i) for i in n]\n",
        "\n",
        "fig, ax = plt.subplots()\n",
        "ax.plot(n, t_list, \"o-\", label=\"list\")\n",
        "ax.plot(n, t_range, \"o-\", label=\"range\")\n",
        "ax.plot(n, t_set, \"o-\", label=\"set\")\n",
        "ax.plot(n, t_tuple, \"o-\", label=\"tuple\")\n",
        "ax.set_xscale(\"log\")\n",
        "ax.set_yscale(\"log\")\n",
        "ax.set_xlabel(\"tamaño iterable\")\n",
        "ax.set_ylabel(\"tiempo (s)\")\n",
        "ax.set_title(\"Tiempo de cómputo en verificar pertenencia\")\n",
        "ax.grid(True)\n",
        "ax.legend()\n",
        "fig.show()"
      ]
    },
    {
      "cell_type": "markdown",
      "metadata": {
        "id": "JtvMKh7a6IRe"
      },
      "source": [
        "## Borra un elemento"
      ]
    },
    {
      "cell_type": "code",
      "execution_count": 102,
      "metadata": {
        "colab": {
          "base_uri": "https://localhost:8080/",
          "height": 472
        },
        "id": "H5pLm549pq70",
        "outputId": "f037e876-1bc7-49e8-8d30-c97d56335e6c"
      },
      "outputs": [
        {
          "output_type": "display_data",
          "data": {
            "text/plain": [
              "<Figure size 640x480 with 1 Axes>"
            ],
            "image/png": "[encoded data removed]"
          },
          "metadata": {
            "image/png": {
              "width": 577,
              "height": 455
            }
          }
        }
      ],
      "source": [
        "repeat = 10\n",
        "\n",
        "def get_deletion_time_from_list(i):\n",
        "    iterable = list(range(i))\n",
        "    execution_times = []\n",
        "    for _ in range(repeat):\n",
        "        start = time.time()\n",
        "        iterable.remove(i - 1)\n",
        "        end = time.time()\n",
        "        execution_time = end - start\n",
        "        iterable.append(i - 1)\n",
        "        execution_times.append(execution_time)\n",
        "    mean_execution_time = np.mean(execution_times)\n",
        "    return mean_execution_time\n",
        "\n",
        "def get_deletion_time_from_set(i):\n",
        "    iterable = set(range(i))\n",
        "    execution_times = []\n",
        "    for _ in range(repeat):\n",
        "        start = time.time()\n",
        "        iterable.remove(i - 1)\n",
        "        end = time.time()\n",
        "        execution_time = end - start\n",
        "        iterable.add(i - 1)\n",
        "        execution_times.append(execution_time)\n",
        "    mean_execution_time = np.mean(execution_times)\n",
        "    return mean_execution_time\n",
        "\n",
        "n = [10**i for i in range(1, 8)]\n",
        "t_list = [get_deletion_time_from_list(i) for i in n]\n",
        "t_set = [get_deletion_time_from_set(i) for i in n]\n",
        "\n",
        "fig, ax = plt.subplots()\n",
        "ax.plot(n, t_list, \"o-\", label=\"list\")\n",
        "ax.plot(n, t_set, \"o-\", label=\"set\")\n",
        "ax.set_xscale(\"log\")\n",
        "ax.set_yscale(\"log\")\n",
        "ax.set_xlabel(\"tamaño iterable\")\n",
        "ax.set_ylabel(\"tiempo (s)\")\n",
        "ax.set_title(\"Tiempo de cómputo en borrar elemento\")\n",
        "ax.grid(True)\n",
        "ax.legend()\n",
        "fig.show()"
      ]
    },
    {
      "cell_type": "code",
      "execution_count": 103,
      "metadata": {
        "colab": {
          "base_uri": "https://localhost:8080/",
          "height": 472
        },
        "id": "2Cgvuq356elZ",
        "outputId": "7e8ffba9-a140-4109-d467-925806233d8c"
      },
      "outputs": [
        {
          "output_type": "display_data",
          "data": {
            "text/plain": [
              "<Figure size 640x480 with 1 Axes>"
            ],
            "image/png": "[encoded data removed]"
          },
          "metadata": {
            "image/png": {
              "width": 601,
              "height": 455
            }
          }
        }
      ],
      "source": [
        "def get_len_time_from_range(i):\n",
        "    iterable = range(i)\n",
        "    execution_time = get_len_time_from_iterable(iterable)\n",
        "    return execution_time\n",
        "\n",
        "def get_len_time_from_list(i):\n",
        "    iterable = list(range(i))\n",
        "    execution_time = get_len_time_from_iterable(iterable)\n",
        "    return execution_time\n",
        "\n",
        "def get_len_time_from_set(i):\n",
        "    iterable = set(range(i))\n",
        "    execution_time = get_len_time_from_iterable(iterable)\n",
        "    return execution_time\n",
        "\n",
        "def get_len_time_from_tuple(i):\n",
        "    iterable = tuple(range(i))\n",
        "    execution_time = get_len_time_from_iterable(iterable)\n",
        "    return execution_time\n",
        "\n",
        "def get_len_time_from_iterable(iterable, repeat=50):\n",
        "    execution_times = []\n",
        "    for _ in range(repeat):\n",
        "        start = time.time()\n",
        "        len(iterable)\n",
        "        end = time.time()\n",
        "        execution_time = end - start\n",
        "        execution_times.append(execution_time)\n",
        "    mean_execution_time = np.mean(execution_times)\n",
        "    return mean_execution_time\n",
        "\n",
        "n = [10**i for i in range(8)]\n",
        "t_range = [get_len_time_from_range(i) for i in n]\n",
        "t_list = [get_len_time_from_list(i) for i in n]\n",
        "t_set = [get_len_time_from_set(i) for i in n]\n",
        "t_tuple = [get_len_time_from_tuple(i) for i in n]\n",
        "\n",
        "fig, ax = plt.subplots()\n",
        "ax.plot(n, t_list, \"o-\", label=\"list\")\n",
        "ax.plot(n, t_range, \"o-\", label=\"range\")\n",
        "ax.plot(n, t_set, \"o-\", label=\"set\")\n",
        "ax.plot(n, t_tuple, \"o-\", label=\"tuple\")\n",
        "ax.set_xscale(\"log\")\n",
        "ax.set_yscale(\"log\")\n",
        "ax.set_xlabel(\"tamaño iterable\")\n",
        "ax.set_ylabel(\"tiempo (s)\")\n",
        "ax.set_title(\"Tiempo de cómputo longitud\")\n",
        "ax.grid(True)\n",
        "ax.legend()\n",
        "fig.show()"
      ]
    }
  ],
  "metadata": {
    "colab": {
      "provenance": []
    },
    "kernelspec": {
      "display_name": "Python 3.9.1 64-bit",
      "language": "python",
      "name": "python3"
    },
    "language_info": {
      "codemirror_mode": {
        "name": "ipython",
        "version": 3
      },
      "file_extension": ".py",
      "mimetype": "text/x-python",
      "name": "python",
      "nbconvert_exporter": "python",
      "pygments_lexer": "ipython3",
      "version": "3.9.1 (v3.9.1:1e5d33e9b9, Dec  7 2020, 12:10:52) \n[Clang 6.0 (clang-600.0.57)]"
    },
    "orig_nbformat": 4,
    "vscode": {
      "interpreter": {
        "hash": "397704579725e15f5c7cb49fe5f0341eb7531c82d19f2c29d197e8b64ab5776b"
      }
    }
  },
  "nbformat": 4,
  "nbformat_minor": 0
}