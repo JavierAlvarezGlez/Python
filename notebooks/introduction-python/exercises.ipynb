{
  "cells": [
    {
      "cell_type": "markdown",
      "metadata": {
        "id": "wDhfh5GiZEEO"
      },
      "source": [
        "# Ejercicios de Introducción a Python"
      ]
    },
    {
      "cell_type": "markdown",
      "metadata": {
        "id": "qzhMHBlxZEEQ"
      },
      "source": [
        ":::{exercise}\n",
        ":label: chapter1-merge\n",
        "\n",
        "Crea una función `merge` que acepte un número arbitrario de diccionarios y devuelva un diccionario cuyas claves sean las uniones de las claves de los diccionarios de entradas y los valores listas donde se concatenan los valores de los diccionarios originales. Por ejemplo,\n",
        "\n",
        "```\n",
        "dict1 = {\n",
        "    \"foo\": 1,\n",
        "    \"bar\": [3, 4],\n",
        "    \"baz\": None\n",
        "}\n",
        "\n",
        "dict2 = {\n",
        "    \"foo\": \"Hello world\",\n",
        "    5: \"five\"\n",
        "}\n",
        "\n",
        "dict3 = {\n",
        "    \"bar\": \"yes\"\n",
        "}\n",
        "\n",
        ">>> merge(dict1, dict2, dict3)\n",
        "\n",
        "{\n",
        "    'foo': [1, 'Hello world'],\n",
        "    'bar': [[3, 4], 'yes'],\n",
        "    'baz': [None],\n",
        "    5: ['five']\n",
        "}\n",
        "```\n",
        "\n",
        ":::"
      ]
    },
    {
      "cell_type": "code",
      "source": [
        "d = {\"a\": \"foo\", \"b\": \"bar\"}\n",
        "for k in d:\n",
        "  print(k)"
      ],
      "metadata": {
        "id": "bIbBOh0xJ2Q6",
        "outputId": "25b96476-aba8-4a12-fa79-5d963e54dc70",
        "colab": {
          "base_uri": "https://localhost:8080/"
        }
      },
      "execution_count": 8,
      "outputs": [
        {
          "output_type": "stream",
          "name": "stdout",
          "text": [
            "a\n",
            "b\n"
          ]
        }
      ]
    },
    {
      "cell_type": "code",
      "source": [
        "def merge(*args):\n",
        "  merge_dict = {}\n",
        "  for dictionary in args:\n",
        "    # iterar sobre las claves de dictionary\n",
        "    for key in dictionary:\n",
        "      if key in merge_dict:\n",
        "        merge_dict[key].append(dictionary[key])\n",
        "      else:\n",
        "        merge_dict[key] = [dictionary[key]]\n",
        "\n",
        "  return merge_dict"
      ],
      "metadata": {
        "id": "aQnNCCWiJE5G"
      },
      "execution_count": 13,
      "outputs": []
    },
    {
      "cell_type": "code",
      "source": [
        "dict1 = {\n",
        "    \"foo\": 1,\n",
        "    \"bar\": [3, 4],\n",
        "    \"baz\": None\n",
        "}\n",
        "\n",
        "dict2 = {\n",
        "    \"foo\": \"Hello world\",\n",
        "    5: \"five\"\n",
        "}\n",
        "\n",
        "dict3 = {\n",
        "    \"bar\": \"yes\"\n",
        "}\n",
        "\n",
        "merge(dict1, dict2, dict3)"
      ],
      "metadata": {
        "id": "6ffSF8gPIAl4",
        "outputId": "acad125a-78b4-4620-c05e-295ecb05493f",
        "colab": {
          "base_uri": "https://localhost:8080/"
        }
      },
      "execution_count": 14,
      "outputs": [
        {
          "output_type": "execute_result",
          "data": {
            "text/plain": [
              "{'foo': [1, 'Hello world'], 'bar': [[3, 4], 'yes'], 'baz': [None], 5: ['five']}"
            ]
          },
          "metadata": {},
          "execution_count": 14
        }
      ]
    },
    {
      "cell_type": "markdown",
      "source": [
        ":::{exercise}\n",
        ":label: chapter1-exercises-4\n",
        "\n",
        "Considera el siguiente ejemplo\n",
        "\n",
        "```\n",
        "a = [1, 2, [3, 4]]\n",
        "b = list(a)\n",
        "```\n",
        "\n",
        "¿Cambia algún elemento de la lista `a` tras ejecutar `b.append(100)`?¿Y tras ejecutar `b[2][0] = -100`? ¿Por qué?\n",
        "\n",
        ":::"
      ],
      "metadata": {
        "id": "LZJsa8ZR0zP3"
      }
    },
    {
      "cell_type": "code",
      "source": [
        "a = [1, 2, [3, 4]]\n",
        "b = list(a)\n",
        "\n",
        "b.append(100)\n",
        "print(a)  # no cambia porque el numero 100 no esta en a\n",
        "\n",
        "b[2][0] = -100\n",
        "print(a)  # Si cambia porque literalmente modificamos un objeto de a al modificar un objeto de b"
      ],
      "metadata": {
        "id": "GsYux4WRK9dQ",
        "outputId": "e47f8c22-f316-4fed-a01e-8e0152dc6069",
        "colab": {
          "base_uri": "https://localhost:8080/"
        }
      },
      "execution_count": 19,
      "outputs": [
        {
          "output_type": "stream",
          "name": "stdout",
          "text": [
            "[1, 2, [3, 4]]\n",
            "[1, 2, [-100, 4]]\n"
          ]
        }
      ]
    },
    {
      "cell_type": "markdown",
      "metadata": {
        "id": "0giHwgj_a9EB"
      },
      "source": [
        ":::{exercise}\n",
        ":label: chapter1-concat_to_str\n",
        "\n",
        "Crea una función `concat_to_str` que convierta una secuencia de objetos de Python en una cadena de transcripciones siguiendo las siguientes normas:\n",
        "\n",
        "- Si el objeto es un entero, entonces escribimos cada dígito en español separados por guiones. Si el entero es negativo, lo indicamos empezando la cadena por `menos`:\n",
        "    - `142` -> `uno-cuatro-dos`\n",
        "    -  `-12` -> `menos-uno-dos`\n",
        "- Si el objeto es un flotante, nos quedamos con la parte entera y hacemos lo mismo que en el caso anterior añadiendo `\"y decimales\"` al final.\n",
        "    - `12.324` -> `uno-dos y decimales`\n",
        "- Si el objeto es una cadena, lo dejamos como está.\n",
        "- Si el objeto es de otro tipo (incluido `bool`), añadimos `\"<OTRO>\"`.\n",
        "\n",
        "Las transcripciones deben estar separas por `\" | \"`. Por ejemplo,\n",
        "\n",
        "```\n",
        ">>> s = concat_to_str([12, -14.23, \"hello\", True, None, 10.1, 5])\n",
        "\"uno-dos | menos-uno-cuatro y decimales\" | hello | <OTRO> | <OTRO> | uno-cero y decimales | cinco\"\n",
        "```\n",
        "\n",
        ":::"
      ]
    },
    {
      "cell_type": "code",
      "source": [
        "isinstance(True, int)  # recordar"
      ],
      "metadata": {
        "id": "buEKpcB6PXJw",
        "outputId": "e47faba2-067e-4c50-80bc-5ac37cab9bf4",
        "colab": {
          "base_uri": "https://localhost:8080/"
        }
      },
      "execution_count": 24,
      "outputs": [
        {
          "output_type": "execute_result",
          "data": {
            "text/plain": [
              "True"
            ]
          },
          "metadata": {},
          "execution_count": 24
        }
      ]
    },
    {
      "cell_type": "code",
      "source": [
        "[i for i in str(-53792)]"
      ],
      "metadata": {
        "id": "rZWnYa5OP3tx",
        "outputId": "2ebe58c0-b659-4650-d2bf-c6b874c0a48b",
        "colab": {
          "base_uri": "https://localhost:8080/"
        }
      },
      "execution_count": 28,
      "outputs": [
        {
          "output_type": "execute_result",
          "data": {
            "text/plain": [
              "['-', '5', '3', '7', '9', '2']"
            ]
          },
          "metadata": {},
          "execution_count": 28
        }
      ]
    },
    {
      "cell_type": "code",
      "source": [
        "def traduce(objeto):\n",
        "  if isinstance(objeto, int) and not isinstance(objeto,bool):\n",
        "    return traduce_entero(objeto)\n",
        "\n",
        "  if isinstance(objeto, float):\n",
        "    return traduce_flotante(objeto)\n",
        "\n",
        "  if isinstance(objeto, str):\n",
        "    return objeto\n",
        "\n",
        "  return \"<OTRO>\"\n",
        "\n",
        "# antes que poner 10 if segudidos con cada numero haremos un diccionario\n",
        "traductor_digitos = {\n",
        "      \"1\": \"uno\",\n",
        "      \"2\": \"dos\",\n",
        "      \"3\": \"tres\",\n",
        "      \"4\": \"cuatro\",\n",
        "      \"5\": \"cinco\",\n",
        "      \"6\": \"seis\",\n",
        "      \"7\": \"siete\",\n",
        "      \"8\": \"ocho\",\n",
        "      \"9\": \"nueve\",\n",
        "      \"0\": \"cero\",\n",
        "      \"-\": \"menos\"\n",
        "  }\n",
        "\n",
        "def traduce_entero(n):  # podriamos definir la funcion debajo del def traduce, mientras este en la misma pagina no importa donde se hagan las definiciones si antes o despues\n",
        "  n_str = str(n)\n",
        "  digits = [i for i in n_str]\n",
        "  return \"-\".join([traduce_digito(digit) for digit in digits])\n",
        "\n",
        "def traduce_digito(digito):\n",
        "  return traductor_digitos[digito]\n",
        "\n",
        "def traduce_flotante(f):\n",
        "  f_rounded = round(f)\n",
        "  return traduce_entero(f_rounded) + \" y decimales\"\n",
        "\n",
        "def concat_to_str(iterable):\n",
        "  traducciones = [traduce(i) for i in iterable]\n",
        "  return \" | \".join(traducciones)\n",
        "\n",
        "s = concat_to_str([12, -14.23, \"hello\", True, None, 10.1, 5])\n",
        "print(s)"
      ],
      "metadata": {
        "id": "rbGbADOWLsna",
        "outputId": "a7a08804-ba02-4d31-9234-9395807b5ba2",
        "colab": {
          "base_uri": "https://localhost:8080/"
        }
      },
      "execution_count": 34,
      "outputs": [
        {
          "output_type": "stream",
          "name": "stdout",
          "text": [
            "uno-dos | menos-uno-cuatro y decimales | hello | <OTRO> | <OTRO> | uno-cero y decimales | cinco\n"
          ]
        }
      ]
    },
    {
      "cell_type": "markdown",
      "source": [
        ":::{exercise}\n",
        ":label: chapter1-books\n",
        "\n",
        "Visita [este sitio web](https://gutenberg.org/browse/scores/top#books-last30) y copia el enlace de descarga de un libro a tu elección en texto plano en una variable `url`. Por ejemplo, [este](https://gutenberg.org/cache/epub/1342/pg1342.txt) es el enlace de descarga de *Orgullo y Prejuicio*.\n",
        "\n",
        "Utiliza el módulo `requests` para realizar una petición http y guardar el cuerpo de la respuesta en una variable `book` tal y como se indica a continuación\n",
        "\n",
        "```\n",
        "import requests\n",
        "\n",
        "url = \"https://gutenberg.org/cache/epub/1342/pg1342.txt\"\n",
        "book_request = requests.get(url)\n",
        "book = book_request.text\n",
        "```\n",
        "\n",
        "Escribe una función `count_words` que devuelva un diccionario con las 50 palabras más frecuentes del libro que tenga como claves dichas palabras y como valor el número de apariciones.\n",
        "\n",
        ":::"
      ],
      "metadata": {
        "id": "WFflJSheU4-w"
      }
    },
    {
      "cell_type": "markdown",
      "source": [
        ":::{exercise}\n",
        ":label: chapter1-shopping-cart\n",
        "\n",
        "Crea una clase `CarritoCompra`, donde cada instancia almacenará dos listas de cadenas representando productos\n",
        "\n",
        "- una lista para productos que necesitamos, `necesitados`.\n",
        "- otra para productos ya comprados, `comprados`.\n",
        "\n",
        "Un producto no puede aparecer más de una vez en cada lista.\n",
        "\n",
        "Crea un método `__init__` que acepte una cadena o un iterable de cadenas representando productos que se añadirán a la lista de `necesitados` y además métodos para\n",
        "\n",
        "- `añade_necestiados`: añadir nuevos elementos necesitados al carrito,\n",
        "- `compra`: marcar un producto como comprado (pasa de necesitados a comprados),\n",
        "- `elimina_necesitados`, `elimina_comprados`: eliminar productos, ya sea de la lista de necesitados o comprados,\n",
        "- `lista_necestiados` y `lista_comprados`: listar los elementos necesitados o comprados en orden alfabético.\n",
        "\n",
        ":::"
      ],
      "metadata": {
        "id": "-xt1nDKN0wuN"
      }
    },
    {
      "cell_type": "markdown",
      "source": [
        ":::{exercise} :label: return-none\n",
        "Lee [este blog](https://stackoverflow.com/questions/15300550/return-return-none-and-no-return-at-all) sobre en una función que devuelve `None` es mejor\n",
        "\n",
        "- No incluir `return`\n",
        "- Incuir solamente `return`\n",
        "- Incluir `return None`\n",
        "\n",
        "Y pon ejemplos de cuándo deberíamos usar cada uno de ellos."
      ],
      "metadata": {
        "id": "HA3ELD5xrOH_"
      }
    }
  ],
  "metadata": {
    "colab": {
      "provenance": []
    },
    "kernelspec": {
      "display_name": "Python 3.9.1 64-bit",
      "language": "python",
      "name": "python3"
    },
    "language_info": {
      "name": "python",
      "version": "3.9.1"
    },
    "orig_nbformat": 4,
    "vscode": {
      "interpreter": {
        "hash": "397704579725e15f5c7cb49fe5f0341eb7531c82d19f2c29d197e8b64ab5776b"
      }
    }
  },
  "nbformat": 4,
  "nbformat_minor": 0
}