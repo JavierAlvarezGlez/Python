{
  "cells": [
    {
      "cell_type": "markdown",
      "metadata": {
        "id": "view-in-github",
        "colab_type": "text"
      },
      "source": [
        "<a href=\"https://colab.research.google.com/github/JavierAlvarezGlez/Python/blob/main/notebooks/introduction-python/lists.ipynb\" target=\"_parent\"><img src=\"https://colab.research.google.com/assets/colab-badge.svg\" alt=\"Open In Colab\"/></a>"
      ]
    },
    {
      "cell_type": "markdown",
      "metadata": {
        "id": "eYHfIKROMii0"
      },
      "source": [
        "# Listas\n",
        "\n",
        "Las **listas** son un tipo de objeto que nos permite guardar una secuencia de otros objetos, actualizarlos, añadir nuevos y borrarlos. A diferencia de todos los tipos que hemos visto hasta ahora, las listas con objetos **mutables**, es decir, pueden cambiar durante la ejecución de nuestro programa.\n",
        "\n",
        "Para crear una lista en Python usamos corchetes y escribimos sus elementos separados por comas `[item1, item2, ..., itemN]`. Los objetos de una lista **no tienen por qué ser del mismo tipo de objeto**"
      ]
    },
    {
      "cell_type": "code",
      "execution_count": 1,
      "metadata": {
        "colab": {
          "base_uri": "https://localhost:8080/"
        },
        "id": "JmvoO1AnNirL",
        "outputId": "7b71e4aa-6a87-487d-e1b6-75a8bef7e272"
      },
      "outputs": [
        {
          "output_type": "execute_result",
          "data": {
            "text/plain": [
              "[3.5, None, 'foo']"
            ]
          },
          "metadata": {},
          "execution_count": 1
        }
      ],
      "source": [
        "[3.5, None, \"foo\"]"
      ]
    },
    {
      "cell_type": "code",
      "execution_count": 2,
      "metadata": {
        "colab": {
          "base_uri": "https://localhost:8080/"
        },
        "id": "KFHrUKuPRn6y",
        "outputId": "b63f1e26-4a30-4aa7-9150-d871772059a2"
      },
      "outputs": [
        {
          "output_type": "execute_result",
          "data": {
            "text/plain": [
              "list"
            ]
          },
          "metadata": {},
          "execution_count": 2
        }
      ],
      "source": [
        "type([1, 2, 3])"
      ]
    },
    {
      "cell_type": "code",
      "execution_count": 3,
      "metadata": {
        "colab": {
          "base_uri": "https://localhost:8080/"
        },
        "id": "rk6GMpGBRpjZ",
        "outputId": "fb5a10f7-6bf4-4394-81c9-699f69f62ccd"
      },
      "outputs": [
        {
          "output_type": "execute_result",
          "data": {
            "text/plain": [
              "[]"
            ]
          },
          "metadata": {},
          "execution_count": 3
        }
      ],
      "source": [
        "# lista vacía\n",
        "[]"
      ]
    },
    {
      "cell_type": "markdown",
      "metadata": {
        "id": "RNbpSdysRvDl"
      },
      "source": [
        "Puedes incluir variables y expresiones en la definición de la lista. Python evaluará dichas expresiones y luego construirá la lista."
      ]
    },
    {
      "cell_type": "code",
      "execution_count": 4,
      "metadata": {
        "colab": {
          "base_uri": "https://localhost:8080/"
        },
        "id": "bfBlnz8nUf1n",
        "outputId": "61c9218a-0f3e-4924-8857-6e2551ef5bab"
      },
      "outputs": [
        {
          "output_type": "execute_result",
          "data": {
            "text/plain": [
              "[True, 'Foo', 25, [1, 2]]"
            ]
          },
          "metadata": {},
          "execution_count": 4
        }
      ],
      "source": [
        "x = \"foo\"\n",
        "[2 < 3, x.capitalize(), 5**2, [1, 2]]"
      ]
    },
    {
      "cell_type": "markdown",
      "metadata": {
        "id": "IX91AgsCUnMT"
      },
      "source": [
        "El tipo `list` puede ser utilizado para convertir otros tipos de objetos a listas, en concreto aquellos que sean **iterables**, cosa que definiremos más adelante."
      ]
    },
    {
      "cell_type": "code",
      "execution_count": 5,
      "metadata": {
        "colab": {
          "base_uri": "https://localhost:8080/"
        },
        "id": "TSKnJKX-U4-x",
        "outputId": "ffdf2153-1d42-4f08-be40-254660e0b9da"
      },
      "outputs": [
        {
          "output_type": "execute_result",
          "data": {
            "text/plain": [
              "['h', 'e', 'l', 'l', 'o', ' ', 'w', 'o', 'r', 'l', 'd']"
            ]
          },
          "metadata": {},
          "execution_count": 5
        }
      ],
      "source": [
        "list(\"hello world\")"
      ]
    },
    {
      "cell_type": "code",
      "execution_count": 6,
      "metadata": {
        "colab": {
          "base_uri": "https://localhost:8080/",
          "height": 175
        },
        "id": "7u0UNSmPU62b",
        "outputId": "42aefe8b-c40f-4415-fb09-d2bde0694418"
      },
      "outputs": [
        {
          "output_type": "error",
          "ename": "TypeError",
          "evalue": "ignored",
          "traceback": [
            "\u001b[0;31m---------------------------------------------------------------------------\u001b[0m",
            "\u001b[0;31mTypeError\u001b[0m                                 Traceback (most recent call last)",
            "\u001b[0;32m<ipython-input-6-7ade7017386b>\u001b[0m in \u001b[0;36m<cell line: 1>\u001b[0;34m()\u001b[0m\n\u001b[0;32m----> 1\u001b[0;31m \u001b[0mlist\u001b[0m\u001b[0;34m(\u001b[0m\u001b[0;36m1\u001b[0m\u001b[0;34m)\u001b[0m\u001b[0;34m\u001b[0m\u001b[0;34m\u001b[0m\u001b[0m\n\u001b[0m",
            "\u001b[0;31mTypeError\u001b[0m: 'int' object is not iterable"
          ]
        }
      ],
      "source": [
        "list(1)"
      ]
    },
    {
      "cell_type": "code",
      "execution_count": 7,
      "metadata": {
        "colab": {
          "base_uri": "https://localhost:8080/"
        },
        "id": "WHBI-StWU9KR",
        "outputId": "39c91c82-27f5-4759-e615-e98a5ee3c6e5"
      },
      "outputs": [
        {
          "output_type": "execute_result",
          "data": {
            "text/plain": [
              "[1]"
            ]
          },
          "metadata": {},
          "execution_count": 7
        }
      ],
      "source": [
        "list([1])"
      ]
    },
    {
      "cell_type": "markdown",
      "source": [
        "---\n",
        "## Las listas son iterables\n",
        "Los **objetos iterables** son aquellos compatibles con operaciones de iteración, la más común de ellas el buque *for*, que veremos más adelante. Otros objetos iterables pueden ser las tuplas, los diccionarios, los conjuntos, los rangos, los generadores, los arrays de numpy etc. Dado un iterable `s`, podemos realizar las siguientes operaciones\n",
        "\n",
        "| Operación | Descripción |\n",
        "|:---------------|:-----------------|\n",
        "| `for vars in s:`| Iteración |\n",
        "| `x, y, ... = s`| Deshacer en variables |\n",
        "| `x in s` `x not in s`| Pertenencia |\n",
        "| `[a, *s, b]`| Expandir |"
      ],
      "metadata": {
        "id": "TNLP8lOB8GS7"
      }
    },
    {
      "cell_type": "markdown",
      "source": [
        "Veamos algunos ejemplos"
      ],
      "metadata": {
        "id": "Hpk-UYZW-ulo"
      }
    },
    {
      "cell_type": "code",
      "source": [
        "items = [3, 4, 5]\n",
        "x, y, z = items\n",
        "print(x, y, z)"
      ],
      "metadata": {
        "colab": {
          "base_uri": "https://localhost:8080/"
        },
        "id": "1y3BXbb6-oz7",
        "outputId": "45d6c2d3-1a5b-403e-97df-d4566866fd47"
      },
      "execution_count": 10,
      "outputs": [
        {
          "output_type": "stream",
          "name": "stdout",
          "text": [
            "3 4 5\n"
          ]
        }
      ]
    },
    {
      "cell_type": "code",
      "source": [
        "\"a\" in items"
      ],
      "metadata": {
        "colab": {
          "base_uri": "https://localhost:8080/"
        },
        "id": "WrLIKQ7w-ttt",
        "outputId": "d3bf721a-56cd-4bc5-b67e-377a864dce6a"
      },
      "execution_count": 11,
      "outputs": [
        {
          "output_type": "execute_result",
          "data": {
            "text/plain": [
              "False"
            ]
          },
          "metadata": {},
          "execution_count": 11
        }
      ]
    },
    {
      "cell_type": "code",
      "source": [
        "a = [1, 2, items, 6]\n",
        "b = [1, 2, *items, 6] # el asterisco es para desempaquetar la lista\n",
        "print(a)\n",
        "print(b)"
      ],
      "metadata": {
        "colab": {
          "base_uri": "https://localhost:8080/"
        },
        "id": "Podyie0C-8U_",
        "outputId": "f3ece1ea-ba93-4f40-9464-fbf4876f8c24"
      },
      "execution_count": 15,
      "outputs": [
        {
          "output_type": "stream",
          "name": "stdout",
          "text": [
            "[1, 2, [3, 4, 5], 6]\n",
            "[1, 2, 3, 4, 5, 6]\n"
          ]
        }
      ]
    },
    {
      "cell_type": "markdown",
      "source": [
        "Existen muchas funciones predefinidas que aceptan un iterable como argumento, aquí exponemos algunas de ellas\n",
        "\n",
        "| Función | Descripción |\n",
        "|:---------------|:-----------------|\n",
        "| `list(s)`| Crea una lista a partir de `s`|\n",
        "| `tuple(s)`| Crea una tupla a partir de `s`|\n",
        "| `set(s)`| Crea una conjunto a partir de `s`|\n",
        "| `min(s, [,key])`| Mínimo de `s`|\n",
        "| `max(s, [,key])`| Máximo de `s`|\n",
        "| `any(s)`| Devuelve `True` si algún item de `s` es verdadero|\n",
        "| `all(s)`| Devuelve `True` si todos los items de `s` son verdaderos|\n",
        "| `sum(s, [, initial])`| Suma de `s` |\n",
        "| `sorted(s, [, key])`| Crea una lista ordenada |\n"
      ],
      "metadata": {
        "id": "gOHvUH04_VM5"
      }
    },
    {
      "cell_type": "markdown",
      "metadata": {
        "id": "cehmTnGFVBzV"
      },
      "source": [
        "---\n",
        "## Las listas son secuencias\n",
        "\n",
        "Al igual que las cadenas, las listas **son secuencias**, por lo que el orden de sus objetos es importante y podemos acceder a los mismo mediante un índice entero que empieza en cero."
      ]
    },
    {
      "cell_type": "code",
      "execution_count": 16,
      "metadata": {
        "colab": {
          "base_uri": "https://localhost:8080/"
        },
        "id": "D5lEyj4mWb-E",
        "outputId": "62470cb1-916a-4f32-92fe-41d048152427"
      },
      "outputs": [
        {
          "output_type": "execute_result",
          "data": {
            "text/plain": [
              "False"
            ]
          },
          "metadata": {},
          "execution_count": 16
        }
      ],
      "source": [
        "# El orden importa\n",
        "[1, \"a\", True] == [\"a\", 1, True]"
      ]
    },
    {
      "cell_type": "markdown",
      "metadata": {
        "id": "a76IipNqWhiX"
      },
      "source": [
        "Podemos utilizar la misma sintaxis de indexado que vimos con las cadenas utilizando corchetes y `:`.\n",
        "\n",
        "En las secuencias, el método que nos da la longitud del objeto es `len`"
      ]
    },
    {
      "cell_type": "code",
      "execution_count": 17,
      "metadata": {
        "colab": {
          "base_uri": "https://localhost:8080/"
        },
        "id": "hqpUgwgjW-GD",
        "outputId": "c469a66f-0308-4b65-e9a2-176ec546c472"
      },
      "outputs": [
        {
          "output_type": "execute_result",
          "data": {
            "text/plain": [
              "5"
            ]
          },
          "metadata": {},
          "execution_count": 17
        }
      ],
      "source": [
        "x = [2, 4, 6, 8, 10]\n",
        "len(x)"
      ]
    },
    {
      "cell_type": "code",
      "execution_count": 18,
      "metadata": {
        "colab": {
          "base_uri": "https://localhost:8080/"
        },
        "id": "D0oJAeMbXDM1",
        "outputId": "f74cac81-d4ea-4abf-fd2b-28a303d29350"
      },
      "outputs": [
        {
          "output_type": "execute_result",
          "data": {
            "text/plain": [
              "11"
            ]
          },
          "metadata": {},
          "execution_count": 18
        }
      ],
      "source": [
        "x = \"hello world\"\n",
        "len(x)"
      ]
    },
    {
      "cell_type": "code",
      "execution_count": 19,
      "metadata": {
        "colab": {
          "base_uri": "https://localhost:8080/",
          "height": 193
        },
        "id": "y4eiEu3CXR6O",
        "outputId": "a6695b97-e356-45fd-bdcd-42a420252eb2"
      },
      "outputs": [
        {
          "output_type": "error",
          "ename": "TypeError",
          "evalue": "ignored",
          "traceback": [
            "\u001b[0;31m---------------------------------------------------------------------------\u001b[0m",
            "\u001b[0;31mTypeError\u001b[0m                                 Traceback (most recent call last)",
            "\u001b[0;32m<ipython-input-19-d7736ab3e6ed>\u001b[0m in \u001b[0;36m<cell line: 2>\u001b[0;34m()\u001b[0m\n\u001b[1;32m      1\u001b[0m \u001b[0mx\u001b[0m \u001b[0;34m=\u001b[0m \u001b[0;36m1\u001b[0m\u001b[0;34m\u001b[0m\u001b[0;34m\u001b[0m\u001b[0m\n\u001b[0;32m----> 2\u001b[0;31m \u001b[0mlen\u001b[0m\u001b[0;34m(\u001b[0m\u001b[0mx\u001b[0m\u001b[0;34m)\u001b[0m\u001b[0;34m\u001b[0m\u001b[0;34m\u001b[0m\u001b[0m\n\u001b[0m",
            "\u001b[0;31mTypeError\u001b[0m: object of type 'int' has no len()"
          ]
        }
      ],
      "source": [
        "x = 1 #porque no es secuencial\n",
        "len(x)"
      ]
    },
    {
      "cell_type": "markdown",
      "metadata": {
        "id": "ikcTeUSuX4Zo"
      },
      "source": [
        "---\n",
        "## Las listas son mutables\n",
        "\n",
        "Las listas son utilizadas cuando queramos almacenar datos que pueden cambiar o deben actualizarse, ya que *las listas pueden cambiar una vez han sido creadas*, o dicho de otro modo, son objetos **mutables**. Veámoslo con un ejemplo"
      ]
    },
    {
      "cell_type": "code",
      "execution_count": 22,
      "metadata": {
        "colab": {
          "base_uri": "https://localhost:8080/"
        },
        "id": "dyrlruFjYccj",
        "outputId": "8931706e-31c7-434f-e463-df0a88ab46d3"
      },
      "outputs": [
        {
          "output_type": "execute_result",
          "data": {
            "text/plain": [
              "[2, 'apple', 6, 8, 10]"
            ]
          },
          "metadata": {},
          "execution_count": 22
        }
      ],
      "source": [
        "x = [2, 4, 6, 8, 10]\n",
        "y = [2, 4, 6, 8, 10]\n",
        "\n",
        "# asignamos una cadena al segundo objeto de x\n",
        "x[1] = \"apple\"\n",
        "x"
      ]
    },
    {
      "cell_type": "code",
      "execution_count": 23,
      "metadata": {
        "colab": {
          "base_uri": "https://localhost:8080/"
        },
        "id": "cSm9JjtYYgCc",
        "outputId": "107c39cd-b095-4754-cc5b-e0df389b10bf"
      },
      "outputs": [
        {
          "output_type": "execute_result",
          "data": {
            "text/plain": [
              "[2, -3, -4, -5, 10]"
            ]
          },
          "metadata": {},
          "execution_count": 23
        }
      ],
      "source": [
        "# podemos realizar asignaciones a nivel de lista\n",
        "y[1:4] = [-3, -4, -5]\n",
        "y"
      ]
    },
    {
      "cell_type": "markdown",
      "metadata": {
        "id": "jKq9JKUKZQs8"
      },
      "source": [
        "Dos métodos muy utilizados a la hora de manipular listas son el `append` que nos permiten añadir un elemento a la cola de lista y `extend` para añadir varios"
      ]
    },
    {
      "cell_type": "code",
      "execution_count": 29,
      "metadata": {
        "colab": {
          "base_uri": "https://localhost:8080/"
        },
        "id": "bDCFze6jZknl",
        "outputId": "f3d8fac0-b9df-4b78-b883-05a97a5ed9ee"
      },
      "outputs": [
        {
          "output_type": "execute_result",
          "data": {
            "text/plain": [
              "[2, 4, 6, 8, 10, 'foo']"
            ]
          },
          "metadata": {},
          "execution_count": 29
        }
      ],
      "source": [
        "x = [2, 4, 6, 8, 10]\n",
        "x.append(\"foo\")\n",
        "x"
      ]
    },
    {
      "cell_type": "code",
      "source": [
        "y = x.append(5)\n",
        "print(x)\n",
        "print(y)"
      ],
      "metadata": {
        "id": "tY78LtVaUOej",
        "outputId": "41d8ba0d-14ad-4bd6-81ea-dc0aee177221",
        "colab": {
          "base_uri": "https://localhost:8080/"
        }
      },
      "execution_count": 30,
      "outputs": [
        {
          "output_type": "stream",
          "name": "stdout",
          "text": [
            "[2, 4, 6, 8, 10, 'foo', 5]\n",
            "None\n"
          ]
        }
      ]
    },
    {
      "cell_type": "code",
      "execution_count": 31,
      "metadata": {
        "colab": {
          "base_uri": "https://localhost:8080/"
        },
        "id": "uXJBMLRRZof6",
        "outputId": "9025649e-7d67-446a-ed21-dd17cbccbd03"
      },
      "outputs": [
        {
          "output_type": "execute_result",
          "data": {
            "text/plain": [
              "[2, 4, 6, 8, 10, 'foo', 5, True, False, None]"
            ]
          },
          "metadata": {},
          "execution_count": 31
        }
      ],
      "source": [
        "# a extend tenemos que pasarle una lista de objetos\n",
        "x.extend([True, False, None])\n",
        "x"
      ]
    },
    {
      "cell_type": "markdown",
      "metadata": {
        "id": "LK7dInqoZyBW"
      },
      "source": [
        "Estos métodos realizan las operaciones *inplace*, es decir, modifican el objeto sin necesidad de tener que asignarlo. No tiene sentido escribir algo como `x = x.append(\"foo\")`, de hecho el método `append` devuelve `None`"
      ]
    },
    {
      "cell_type": "markdown",
      "metadata": {
        "id": "oHmGveVgaRri"
      },
      "source": [
        "Otros métodos que pueden ser útiles con listas son\n",
        "- `pop(n)`: devuelve el elemento `n`-ésimo y lo borra de la lista. Devuelve un `IndexError` si `n` está fuera del índice.\n",
        "- `remove(a)`: borra el primer elemento cuyo valor coincida con `a`. Devuelve un `ValueError` si no encuentra el valor.\n",
        "- `insert(n, a)`: inserta el objeto `a` en la posición `n`-ésima de la lista"
      ]
    },
    {
      "cell_type": "code",
      "execution_count": 32,
      "metadata": {
        "colab": {
          "base_uri": "https://localhost:8080/",
          "height": 35
        },
        "id": "BguQEa5vazye",
        "outputId": "7ebd4ab9-eeb0-40e9-8429-8ccc5cfa6296"
      },
      "outputs": [
        {
          "output_type": "execute_result",
          "data": {
            "text/plain": [
              "'c'"
            ],
            "application/vnd.google.colaboratory.intrinsic+json": {
              "type": "string"
            }
          },
          "metadata": {},
          "execution_count": 32
        }
      ],
      "source": [
        "x = [\"a\", \"b\", \"c\", \"d\"]\n",
        "x.pop(2)"
      ]
    },
    {
      "cell_type": "code",
      "execution_count": 33,
      "metadata": {
        "colab": {
          "base_uri": "https://localhost:8080/"
        },
        "id": "Ascz_a90a59v",
        "outputId": "4efa3cc7-513f-4b3d-9741-15eced1fbd31"
      },
      "outputs": [
        {
          "output_type": "execute_result",
          "data": {
            "text/plain": [
              "['a', 'b', 'd']"
            ]
          },
          "metadata": {},
          "execution_count": 33
        }
      ],
      "source": [
        "x"
      ]
    },
    {
      "cell_type": "code",
      "execution_count": 34,
      "metadata": {
        "colab": {
          "base_uri": "https://localhost:8080/"
        },
        "id": "GDWYMJpvbAMj",
        "outputId": "20f18d7b-6dfd-477d-f49b-bdf16452d83c"
      },
      "outputs": [
        {
          "output_type": "execute_result",
          "data": {
            "text/plain": [
              "['a', 'b', 'd', 'a']"
            ]
          },
          "metadata": {},
          "execution_count": 34
        }
      ],
      "source": [
        "x.append(\"a\")\n",
        "x"
      ]
    },
    {
      "cell_type": "code",
      "execution_count": 35,
      "metadata": {
        "id": "LhAJavfLbfpJ"
      },
      "outputs": [],
      "source": [
        "x.remove(\"a\")"
      ]
    },
    {
      "cell_type": "code",
      "execution_count": 36,
      "metadata": {
        "colab": {
          "base_uri": "https://localhost:8080/"
        },
        "id": "wVNeMbz0bjAX",
        "outputId": "271824b8-bb1a-4a82-c0d6-f488076f2bd1"
      },
      "outputs": [
        {
          "output_type": "execute_result",
          "data": {
            "text/plain": [
              "['b', 'd', 'a']"
            ]
          },
          "metadata": {},
          "execution_count": 36
        }
      ],
      "source": [
        "x"
      ]
    },
    {
      "cell_type": "code",
      "source": [
        "x.insert(2, None)\n",
        "x"
      ],
      "metadata": {
        "colab": {
          "base_uri": "https://localhost:8080/"
        },
        "id": "TkCOd1TR5dmk",
        "outputId": "e902302a-989f-4b47-8902-cf24aa2396df"
      },
      "execution_count": 37,
      "outputs": [
        {
          "output_type": "execute_result",
          "data": {
            "text/plain": [
              "['b', 'd', None, 'a']"
            ]
          },
          "metadata": {},
          "execution_count": 37
        }
      ]
    },
    {
      "cell_type": "markdown",
      "source": [
        "Podemos concatenar listas usando el operador `+`. En caso de tener listas anidadas, es posible aplicar directamente más de una operación de indexado."
      ],
      "metadata": {
        "id": "2O5VVVwT504i"
      }
    },
    {
      "cell_type": "code",
      "source": [
        "[1,2] + [3,4]"
      ],
      "metadata": {
        "id": "naCc_9z8U-eJ",
        "outputId": "aa01de9f-875d-4d55-86e7-f9aa8882aefe",
        "colab": {
          "base_uri": "https://localhost:8080/"
        }
      },
      "execution_count": 40,
      "outputs": [
        {
          "output_type": "execute_result",
          "data": {
            "text/plain": [
              "[1, 2, 3, 4]"
            ]
          },
          "metadata": {},
          "execution_count": 40
        }
      ]
    },
    {
      "cell_type": "code",
      "source": [
        "x = [[1, \"foo\"], [\"bar\", None], True, 3.5]\n",
        "x[1][0]"
      ],
      "metadata": {
        "colab": {
          "base_uri": "https://localhost:8080/",
          "height": 35
        },
        "id": "FNLsnPk66Kmt",
        "outputId": "c2ed6994-7dc8-44ea-fe32-bd294045fc29"
      },
      "execution_count": 39,
      "outputs": [
        {
          "output_type": "execute_result",
          "data": {
            "text/plain": [
              "'bar'"
            ],
            "application/vnd.google.colaboratory.intrinsic+json": {
              "type": "string"
            }
          },
          "metadata": {},
          "execution_count": 39
        }
      ]
    },
    {
      "cell_type": "markdown",
      "metadata": {
        "id": "Tb2z78UQynEt"
      },
      "source": [
        ":::{exercise}\n",
        ":label: lists-index\n",
        "\n",
        "Modifica la siguiente lista\n",
        "\n",
        "```\n",
        "l = [[1, \"foo\"], [\"bar\", None], True, 3.5]\n",
        "```\n",
        "para obtener\n",
        "\n",
        "```\n",
        "[[1, \"baz\"], [\"bar\", None], True, -1.5, [0, 1, 0]]\n",
        "```\n",
        "\n",
        ":::"
      ]
    },
    {
      "cell_type": "code",
      "source": [
        "l = [[1, \"foo\"], [\"bar\", None], True, 3.5]\n",
        "l[0][1] = \"baz\"\n",
        "l.pop() # Para quitar el ultimo elemento de la lista\n",
        "l.append(-1.5)\n",
        "l.append([0, 1, 0])\n",
        "l"
      ],
      "metadata": {
        "id": "suyW67OgVGg6",
        "outputId": "4cf8a503-9589-44cf-8332-df16f2c84b42",
        "colab": {
          "base_uri": "https://localhost:8080/"
        }
      },
      "execution_count": 47,
      "outputs": [
        {
          "output_type": "execute_result",
          "data": {
            "text/plain": [
              "[[1, 'baz'], ['bar', None], True, -1.5, [0, 1, 0]]"
            ]
          },
          "metadata": {},
          "execution_count": 47
        }
      ]
    },
    {
      "cell_type": "markdown",
      "source": [
        ":::{exercise}\n",
        ":label: lists-comparison\n",
        "\n",
        "Condiera una lista `s` y definamos\n",
        "\n",
        "```\n",
        "r = list(s)\n",
        "t = s\n",
        "```\n",
        "\n",
        "Indica si las siguientes expresiones son verdaderas o falsas\n",
        "- `r == s`\n",
        "- `r is s`\n",
        "- `s is t`\n",
        "\n",
        ":::"
      ],
      "metadata": {
        "id": "t-OHv0q3In29"
      }
    },
    {
      "cell_type": "code",
      "source": [
        "s =  [1,2,3]\n",
        "r=list(s)\n",
        "t = s\n",
        "r==s # True\n",
        "r is s # False, porque r copia los elementos tal cual pero en otro sitio distinto a s\n",
        "s is t # True"
      ],
      "metadata": {
        "id": "-AeqJ8BlWu0n",
        "outputId": "c2b11103-ebdf-4caf-b9e3-35a3f2cc84f3",
        "colab": {
          "base_uri": "https://localhost:8080/"
        }
      },
      "execution_count": 51,
      "outputs": [
        {
          "output_type": "execute_result",
          "data": {
            "text/plain": [
              "True"
            ]
          },
          "metadata": {},
          "execution_count": 51
        }
      ]
    },
    {
      "cell_type": "markdown",
      "source": [
        "Para el siguiente ejercicio, puedes utilizar el módulo `time` o el [**comando mágico**](https://ipython.readthedocs.io/en/stable/interactive/magics.html) de jupyter `%%time` para obtener el tiempo de ejecución de una celdilla."
      ],
      "metadata": {
        "id": "g6oJoG2vRYeG"
      }
    },
    {
      "cell_type": "code",
      "source": [
        "%%time\n",
        "\n",
        "3**1000"
      ],
      "metadata": {
        "id": "ILIzM16jR7XG",
        "outputId": "178dfc44-7918-419b-b48c-4a10b1f25295",
        "colab": {
          "base_uri": "https://localhost:8080/"
        }
      },
      "execution_count": 55,
      "outputs": [
        {
          "output_type": "stream",
          "name": "stdout",
          "text": [
            "CPU times: user 0 ns, sys: 10 µs, total: 10 µs\n",
            "Wall time: 13.4 µs\n"
          ]
        },
        {
          "output_type": "execute_result",
          "data": {
            "text/plain": [
              "1322070819480806636890455259752144365965422032752148167664920368226828597346704899540778313850608061963909777696872582355950954582100618911865342725257953674027620225198320803878014774228964841274390400117588618041128947815623094438061566173054086674490506178125480344405547054397038895817465368254916136220830268563778582290228416398307887896918556404084898937609373242171846359938695516765018940588109060426089671438864102814350385648747165832010614366132173102768902855220001"
            ]
          },
          "metadata": {},
          "execution_count": 55
        }
      ]
    },
    {
      "cell_type": "code",
      "source": [
        "import time\n",
        "\n",
        "start = time.time()\n",
        "3**999\n",
        "end = time.time()\n",
        "print(f\"Execution time: {end - start:0.8f} seconds\")"
      ],
      "metadata": {
        "id": "NpzhtYgETGj2",
        "outputId": "812121a2-dc90-4cd9-ab88-dc3e277f36b5",
        "colab": {
          "base_uri": "https://localhost:8080/"
        }
      },
      "execution_count": 56,
      "outputs": [
        {
          "output_type": "stream",
          "name": "stdout",
          "text": [
            "Execution time: 0.00010777 seconds\n"
          ]
        }
      ]
    },
    {
      "cell_type": "markdown",
      "source": [
        ":::{exercise}\n",
        ":label: lists-membership\n",
        "\n",
        "Usando la estructura `list(range(n))`, crea listas de diferentes tamaños y estima la complejidad computacional en cuanto a tiempo de cómputo de comprobar la pertenencia a una lista.\n",
        "\n",
        ":::"
      ],
      "metadata": {
        "id": "fvQyxNzbIlC2"
      }
    },
    {
      "cell_type": "code",
      "source": [
        "%%time\n",
        "\n",
        "list(range(5))"
      ],
      "metadata": {
        "id": "7zLpcVUZYAE4",
        "outputId": "841e0662-97d7-4436-9437-14e654aa6eeb",
        "colab": {
          "base_uri": "https://localhost:8080/"
        }
      },
      "execution_count": 60,
      "outputs": [
        {
          "output_type": "stream",
          "name": "stdout",
          "text": [
            "CPU times: user 5 µs, sys: 0 ns, total: 5 µs\n",
            "Wall time: 9.78 µs\n"
          ]
        },
        {
          "output_type": "execute_result",
          "data": {
            "text/plain": [
              "[0, 1, 2, 3, 4]"
            ]
          },
          "metadata": {},
          "execution_count": 60
        }
      ]
    },
    {
      "cell_type": "code",
      "source": [
        "%%time\n",
        "\n",
        "list(range(2**13))\n",
        "None # Esto al final es para que no me saque por pantalla la lista"
      ],
      "metadata": {
        "id": "BFIooTh_YTOc",
        "outputId": "afeec87e-2732-42b5-863e-f168d659b9b9",
        "colab": {
          "base_uri": "https://localhost:8080/"
        }
      },
      "execution_count": 63,
      "outputs": [
        {
          "output_type": "stream",
          "name": "stdout",
          "text": [
            "CPU times: user 388 µs, sys: 40 µs, total: 428 µs\n",
            "Wall time: 435 µs\n"
          ]
        }
      ]
    },
    {
      "cell_type": "code",
      "source": [
        "%%time\n",
        "n = 7\n",
        "0 in list(range(2**n))"
      ],
      "metadata": {
        "id": "VamiwOggY2e3",
        "outputId": "31f1a1f3-4764-4c24-ed69-65d105e68347",
        "colab": {
          "base_uri": "https://localhost:8080/"
        }
      },
      "execution_count": 65,
      "outputs": [
        {
          "output_type": "stream",
          "name": "stdout",
          "text": [
            "CPU times: user 51 µs, sys: 0 ns, total: 51 µs\n",
            "Wall time: 55.6 µs\n"
          ]
        },
        {
          "output_type": "execute_result",
          "data": {
            "text/plain": [
              "True"
            ]
          },
          "metadata": {},
          "execution_count": 65
        }
      ]
    }
  ],
  "metadata": {
    "colab": {
      "provenance": [],
      "include_colab_link": true
    },
    "kernelspec": {
      "display_name": "Python 3.9.1 64-bit",
      "language": "python",
      "name": "python3"
    },
    "language_info": {
      "name": "python",
      "version": "3.9.1"
    },
    "vscode": {
      "interpreter": {
        "hash": "397704579725e15f5c7cb49fe5f0341eb7531c82d19f2c29d197e8b64ab5776b"
      }
    }
  },
  "nbformat": 4,
  "nbformat_minor": 0
}